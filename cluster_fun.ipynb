{
 "cells": [
  {
   "cell_type": "code",
   "execution_count": null,
   "metadata": {},
   "outputs": [],
   "source": [
    "!pip install umap-learn"
   ]
  },
  {
   "cell_type": "code",
   "execution_count": 1,
   "metadata": {},
   "outputs": [],
   "source": [
    "%load_ext autoreload\n",
    "%autoreload 2\n",
    "\n",
    "%matplotlib inline"
   ]
  },
  {
   "cell_type": "code",
   "execution_count": 12,
   "metadata": {},
   "outputs": [],
   "source": [
    "import requests\n",
    "import pandas as pd\n",
    "import numpy as np\n",
    "import matplotlib.pyplot as plt\n",
    "import seaborn as sns\n",
    "import os\n",
    "import datetime\n",
    "import re\n",
    "\n",
    "import hdbscan\n",
    "import sklearn.cluster\n",
    "import sklearn.manifold\n",
    "import umap\n",
    "import joblib\n",
    "\n",
    "\n",
    "from util import get_data\n",
    "from util import mapping\n",
    "from util import clean_data\n",
    "from util import config\n",
    "from util import plot_clusters"
   ]
  },
  {
   "cell_type": "code",
   "execution_count": 5,
   "metadata": {
    "scrolled": true
   },
   "outputs": [
    {
     "data": {
      "text/html": [
       "<div>\n",
       "<style scoped>\n",
       "    .dataframe tbody tr th:only-of-type {\n",
       "        vertical-align: middle;\n",
       "    }\n",
       "\n",
       "    .dataframe tbody tr th {\n",
       "        vertical-align: top;\n",
       "    }\n",
       "\n",
       "    .dataframe thead th {\n",
       "        text-align: right;\n",
       "    }\n",
       "</style>\n",
       "<table border=\"1\" class=\"dataframe\">\n",
       "  <thead>\n",
       "    <tr style=\"text-align: right;\">\n",
       "      <th></th>\n",
       "      <th>id</th>\n",
       "      <th>departed_at</th>\n",
       "      <th>duration</th>\n",
       "      <th>distance</th>\n",
       "      <th>elevation_gain</th>\n",
       "      <th>description</th>\n",
       "      <th>name</th>\n",
       "      <th>avg_speed</th>\n",
       "      <th>max_speed</th>\n",
       "      <th>moving_time</th>\n",
       "      <th>...</th>\n",
       "      <th>update_days</th>\n",
       "      <th>if_updated</th>\n",
       "      <th>elevation_net</th>\n",
       "      <th>elevation_total</th>\n",
       "      <th>avg_slope</th>\n",
       "      <th>photos</th>\n",
       "      <th>big_user</th>\n",
       "      <th>crow_distance</th>\n",
       "      <th>if_weekend</th>\n",
       "      <th>prop_moving</th>\n",
       "    </tr>\n",
       "  </thead>\n",
       "  <tbody>\n",
       "    <tr>\n",
       "      <th>1</th>\n",
       "      <td>54372107</td>\n",
       "      <td>2020-08-15T03:04:55-07:00</td>\n",
       "      <td>0.540556</td>\n",
       "      <td>2.762263</td>\n",
       "      <td>142.176885</td>\n",
       "      <td></td>\n",
       "      <td>08/15/20</td>\n",
       "      <td>5.171163</td>\n",
       "      <td>5.960829</td>\n",
       "      <td>0.534167</td>\n",
       "      <td>...</td>\n",
       "      <td>0</td>\n",
       "      <td>False</td>\n",
       "      <td>-30.236712</td>\n",
       "      <td>314.590483</td>\n",
       "      <td>2.156983</td>\n",
       "      <td>False</td>\n",
       "      <td>True</td>\n",
       "      <td>0.012711</td>\n",
       "      <td>False</td>\n",
       "      <td>0.988181</td>\n",
       "    </tr>\n",
       "    <tr>\n",
       "      <th>3</th>\n",
       "      <td>40433541</td>\n",
       "      <td>2019-09-23T11:49:34-07:00</td>\n",
       "      <td>0.580000</td>\n",
       "      <td>2.779512</td>\n",
       "      <td>57.147474</td>\n",
       "      <td></td>\n",
       "      <td>09/23/19</td>\n",
       "      <td>5.192650</td>\n",
       "      <td>5.432662</td>\n",
       "      <td>0.535278</td>\n",
       "      <td>...</td>\n",
       "      <td>0</td>\n",
       "      <td>False</td>\n",
       "      <td>15.291757</td>\n",
       "      <td>99.003191</td>\n",
       "      <td>0.674601</td>\n",
       "      <td>False</td>\n",
       "      <td>True</td>\n",
       "      <td>0.002539</td>\n",
       "      <td>False</td>\n",
       "      <td>0.922893</td>\n",
       "    </tr>\n",
       "  </tbody>\n",
       "</table>\n",
       "<p>2 rows × 22 columns</p>\n",
       "</div>"
      ],
      "text/plain": [
       "         id                departed_at  duration  distance  elevation_gain  \\\n",
       "1  54372107  2020-08-15T03:04:55-07:00  0.540556  2.762263      142.176885   \n",
       "3  40433541  2019-09-23T11:49:34-07:00  0.580000  2.779512       57.147474   \n",
       "\n",
       "  description      name  avg_speed  max_speed  moving_time  ...  update_days  \\\n",
       "1              08/15/20   5.171163   5.960829     0.534167  ...            0   \n",
       "3              09/23/19   5.192650   5.432662     0.535278  ...            0   \n",
       "\n",
       "   if_updated  elevation_net  elevation_total  avg_slope  photos  big_user  \\\n",
       "1       False     -30.236712       314.590483   2.156983   False      True   \n",
       "3       False      15.291757        99.003191   0.674601   False      True   \n",
       "\n",
       "   crow_distance  if_weekend  prop_moving  \n",
       "1       0.012711       False     0.988181  \n",
       "3       0.002539       False     0.922893  \n",
       "\n",
       "[2 rows x 22 columns]"
      ]
     },
     "execution_count": 5,
     "metadata": {},
     "output_type": "execute_result"
    }
   ],
   "source": [
    "trips = clean_data.load_clean_ridewgps_trips()\n",
    "trips.head()"
   ]
  },
  {
   "cell_type": "code",
   "execution_count": null,
   "metadata": {},
   "outputs": [],
   "source": [
    "def speed_to_label(speed):\n",
    "    if speed < 10:\n",
    "        return '< 10 mph'\n",
    "    if speed < 15:\n",
    "        return '10-15 mph'\n",
    "    if speed < 20:\n",
    "        return '15-20 mph'\n",
    "    else:\n",
    "        return '20+ mph'\n",
    "    "
   ]
  },
  {
   "cell_type": "code",
   "execution_count": null,
   "metadata": {},
   "outputs": [],
   "source": [
    "trips['speed'] = trips.avg_speed.apply(speed_to_label)\n",
    "sns.histplot(data=trips, x='avg_slope', hue='speed', palette='husl', element='step')\n"
   ]
  },
  {
   "cell_type": "code",
   "execution_count": 6,
   "metadata": {},
   "outputs": [],
   "source": [
    "# useful_cols = ['duration', 'distance', 'elevation_gain', 'avg_speed',\n",
    "#               'max_speed', 'if_updated', 'photos', 'big_user',\n",
    "#               'crow_distance', 'if_weekend', 'prop_moving']\n",
    "\n",
    "trips['avg_slope'] = trips['elevation_gain'] / trips['distance'] / 52.8\n",
    "useful_cols = ['distance', 'avg_slope', 'avg_speed', 'prop_moving']\n",
    "rides_use = trips[useful_cols].copy()\n",
    "CAP_SLOPE = 10\n",
    "rides_use['avg_slope'] = rides_use['avg_slope'].apply(lambda x: CAP_SLOPE if CAP_SLOPE < x else x)# cap at 12%\n",
    "for col in rides_use.columns:\n",
    "    if rides_use[col].dtype in ['float64']:\n",
    "        rides_use[col] = rides_use[col] / rides_use[col].max()\n",
    "rides_use['avg_slope'] *= 2        "
   ]
  },
  {
   "cell_type": "code",
   "execution_count": null,
   "metadata": {
    "scrolled": true
   },
   "outputs": [],
   "source": [
    "plt.figure(figsize=(10,5))\n",
    "ax = plt.axes()\n",
    "sns.boxplot(x='labels', y='avg_slope', data=df[df.labels >= 0])"
   ]
  },
  {
   "cell_type": "code",
   "execution_count": null,
   "metadata": {},
   "outputs": [],
   "source": [
    "plt.hist(rides_use.avg_slope)"
   ]
  },
  {
   "cell_type": "code",
   "execution_count": 2,
   "metadata": {},
   "outputs": [
    {
     "data": {
      "text/plain": [
       "{1, 2, 3}"
      ]
     },
     "execution_count": 2,
     "metadata": {},
     "output_type": "execute_result"
    }
   ],
   "source": [
    "import numpy as np\n",
    "set(np.array([1, 2, 3]))"
   ]
  },
  {
   "cell_type": "code",
   "execution_count": null,
   "metadata": {
    "scrolled": true
   },
   "outputs": [],
   "source": [
    "\n",
    "sns.boxplot(data=df, x='labels', y='avg_slope', palette=colours)\n",
    "# plt.ylim([0, 15])"
   ]
  },
  {
   "cell_type": "code",
   "execution_count": null,
   "metadata": {
    "scrolled": false
   },
   "outputs": [],
   "source": [
    "sns.histplot(data=df, x='duration', hue='labels', element='step', palette='dark')#, palette=colours)"
   ]
  },
  {
   "cell_type": "code",
   "execution_count": null,
   "metadata": {
    "scrolled": false
   },
   "outputs": [],
   "source": [
    "colours = sns.color_palette('Paired', df.labels.nunique() - min(df.labels))\n",
    "g = sns.PairGrid(df, hue='labels', palette=colours, corner=True)\n",
    "g.map_offdiag(sns.scatterplot, edgecolor=None, s=10)\n",
    "g.map_diag(sns.histplot)"
   ]
  },
  {
   "cell_type": "code",
   "execution_count": 21,
   "metadata": {
    "scrolled": true
   },
   "outputs": [
    {
     "name": "stdout",
     "output_type": "stream",
     "text": [
      "6\n",
      "(20894, 23)\n",
      "0    7262\n",
      "4    4484\n",
      "3    4235\n",
      "1    1841\n",
      "2    1700\n",
      "5    1372\n",
      "Name: labels, dtype: int64\n"
     ]
    }
   ],
   "source": [
    "# clusterer = hdbscan.HDBSCAN(min_cluster_size=100,\n",
    "#                             min_samples=1,\n",
    "#                            cluster_selection_epsilon=0.)\n",
    "clusterer = sklearn.cluster.KMeans(n_clusters=6)\n",
    "clusterer.fit(rides_use)\n",
    "print(len(set(clusterer.labels_)))\n",
    "df = trips.copy()\n",
    "df['labels'] = clusterer.labels_\n",
    "print(df[df['labels'] >= 0].shape)\n",
    "if df.labels.nunique() < 20:\n",
    "    print(df.labels.value_counts())"
   ]
  },
  {
   "cell_type": "code",
   "execution_count": 22,
   "metadata": {},
   "outputs": [
    {
     "data": {
      "text/plain": [
       "['/home/emily/Documents/ViewFinder/models/clustered_trips.joblib']"
      ]
     },
     "execution_count": 22,
     "metadata": {},
     "output_type": "execute_result"
    }
   ],
   "source": [
    "joblib.dump(clusterer, config.MODEL_PATH + 'clustered_trips.joblib')"
   ]
  },
  {
   "cell_type": "code",
   "execution_count": 23,
   "metadata": {},
   "outputs": [],
   "source": [
    "clf = joblib.load(config.MODEL_PATH + 'clustered_trips.joblib')"
   ]
  },
  {
   "cell_type": "code",
   "execution_count": 27,
   "metadata": {},
   "outputs": [
    {
     "name": "stdout",
     "output_type": "stream",
     "text": [
      "[3]\n",
      "distance       0.021886\n",
      "avg_slope      0.175787\n",
      "avg_speed      0.202650\n",
      "prop_moving    0.812699\n",
      "Name: 0, dtype: float64\n",
      "id                                  23209396\n",
      "departed_at        2018-04-30T02:50:43-07:00\n",
      "duration                            0.619444\n",
      "distance                             2.65985\n",
      "elevation_gain                       123.437\n",
      "description                                 \n",
      "name                                04/30/18\n",
      "avg_speed                            5.00285\n",
      "max_speed                            7.04885\n",
      "moving_time                         0.531667\n",
      "is_stationary                          False\n",
      "user_id                                50396\n",
      "update_days                                0\n",
      "if_updated                             False\n",
      "elevation_net                        17.2735\n",
      "elevation_total                      229.601\n",
      "avg_slope                           0.878934\n",
      "photos                                 False\n",
      "big_user                                True\n",
      "crow_distance                       0.940007\n",
      "if_weekend                             False\n",
      "prop_moving                         0.858296\n",
      "labels                                     3\n",
      "Name: 0, dtype: object\n"
     ]
    }
   ],
   "source": [
    "print(clf.predict(rides_use.iloc[0].values.reshape(1, -1)))\n",
    "print(rides_use.iloc[0])\n",
    "print(df.iloc[0])"
   ]
  },
  {
   "cell_type": "code",
   "execution_count": null,
   "metadata": {},
   "outputs": [],
   "source": [
    "mapped_clusters = sklearn.manifold.TSNE(n_components=2, metric='cosine', init='pca').fit_transform(rides_use)\n",
    "x = mapped_clusters[:, 0]\n",
    "y = mapped_clusters[:, 1]"
   ]
  },
  {
   "cell_type": "code",
   "execution_count": null,
   "metadata": {},
   "outputs": [],
   "source": [
    "clusterer.affinity"
   ]
  },
  {
   "cell_type": "code",
   "execution_count": null,
   "metadata": {},
   "outputs": [],
   "source": [
    "df_save = df[['id', 'labels']]\n",
    "df_save.to_csv('data/processed/ridewgps_labelled.csv', index=False)"
   ]
  },
  {
   "cell_type": "code",
   "execution_count": null,
   "metadata": {},
   "outputs": [],
   "source": [
    "reducer = umap.UMAP().fit_transform(rides_use)\n",
    "xu = reducer[:, 0]\n",
    "yu = reducer[:, 1]"
   ]
  },
  {
   "cell_type": "code",
   "execution_count": null,
   "metadata": {},
   "outputs": [],
   "source": [
    "plot_clusters.plot_cluster_2d(rides_use, clusterer.labels_, xu, yu)"
   ]
  },
  {
   "cell_type": "code",
   "execution_count": null,
   "metadata": {},
   "outputs": [],
   "source": []
  },
  {
   "cell_type": "code",
   "execution_count": null,
   "metadata": {
    "scrolled": true
   },
   "outputs": [],
   "source": [
    "for lab in sorted(df['labels'].unique())[::-1]:\n",
    "    dfslice = df[df['labels'] == lab]\n",
    "    print('{:2.0f}: {:5.0f} values'.format(lab, dfslice.shape[0]))\n",
    "#     for col in dfslice.columns:\n",
    "#         if col == 'labels': continue\n",
    "#         print('\\t{:15s}: {:.2f} +- {:.2f}'.format(\n",
    "#             col, dfslice[col].mean() * trips[col].mean(),\n",
    "#             dfslice[col].std() * trips[col].mean(),\n",
    "#         ))"
   ]
  },
  {
   "cell_type": "code",
   "execution_count": null,
   "metadata": {},
   "outputs": [],
   "source": [
    "\n",
    "for col in df.columns:\n",
    "\n",
    "    for lab in sorted(df['labels'].unique()):\n",
    "        dfslice = df[df['labels'] == lab]\n",
    "#         if dfslice.shape[0] < 400: continue\n",
    "        print('{:15s} ({:2.0f}): {:.2f} +- {:.2f}'.format(\n",
    "            col, lab, dfslice[col].mean(), dfslice[col].std(),\n",
    "        ))\n",
    "    print('\\n')"
   ]
  },
  {
   "cell_type": "code",
   "execution_count": null,
   "metadata": {},
   "outputs": [],
   "source": [
    "lab = 1\n",
    "plt.hist(trips[df['labels'] == lab]['distance'])"
   ]
  }
 ],
 "metadata": {
  "kernelspec": {
   "display_name": "Python 3",
   "language": "python",
   "name": "python3"
  },
  "language_info": {
   "codemirror_mode": {
    "name": "ipython",
    "version": 3
   },
   "file_extension": ".py",
   "mimetype": "text/x-python",
   "name": "python",
   "nbconvert_exporter": "python",
   "pygments_lexer": "ipython3",
   "version": "3.8.5"
  }
 },
 "nbformat": 4,
 "nbformat_minor": 4
}
