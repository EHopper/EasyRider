{
 "cells": [
  {
   "cell_type": "code",
   "execution_count": 1,
   "metadata": {},
   "outputs": [],
   "source": [
    "%load_ext autoreload\n",
    "%autoreload 2\n",
    "\n",
    "%matplotlib inline"
   ]
  },
  {
   "cell_type": "code",
   "execution_count": null,
   "metadata": {},
   "outputs": [],
   "source": [
    "# !pip install esy-osm-pbf\n",
    "# !pip install -U osmium\n",
    "!pip install hdbscan"
   ]
  },
  {
   "cell_type": "code",
   "execution_count": 40,
   "metadata": {},
   "outputs": [],
   "source": [
    "import requests\n",
    "import pandas as pd\n",
    "import numpy as np\n",
    "import matplotlib.pyplot as plt\n",
    "import seaborn as sns\n",
    "import os\n",
    "import datetime\n",
    "import re\n",
    "\n",
    "import esy.osm.pbf\n",
    "import osmium\n",
    "import xml\n",
    "\n",
    "import hdbscan\n",
    "import sklearn.manifold\n",
    "\n",
    "\n",
    "from util import get_data\n",
    "from util import mapping\n",
    "from util import clean_data\n",
    "from util import config"
   ]
  },
  {
   "cell_type": "code",
   "execution_count": 8,
   "metadata": {
    "scrolled": true
   },
   "outputs": [
    {
     "name": "stderr",
     "output_type": "stream",
     "text": [
      "/home/emily/anaconda3/envs/insight/lib/python3.8/site-packages/IPython/core/interactiveshell.py:3337: DtypeWarning: Columns (15) have mixed types.Specify dtype option on import or set low_memory=False.\n",
      "  if (await self.run_code(code, result,  async_=asy)):\n"
     ]
    },
    {
     "data": {
      "text/html": [
       "<div>\n",
       "<style scoped>\n",
       "    .dataframe tbody tr th:only-of-type {\n",
       "        vertical-align: middle;\n",
       "    }\n",
       "\n",
       "    .dataframe tbody tr th {\n",
       "        vertical-align: top;\n",
       "    }\n",
       "\n",
       "    .dataframe thead th {\n",
       "        text-align: right;\n",
       "    }\n",
       "</style>\n",
       "<table border=\"1\" class=\"dataframe\">\n",
       "  <thead>\n",
       "    <tr style=\"text-align: right;\">\n",
       "      <th></th>\n",
       "      <th>id</th>\n",
       "      <th>distance</th>\n",
       "      <th>elevation_gain</th>\n",
       "      <th>description</th>\n",
       "      <th>name</th>\n",
       "      <th>avg_speed</th>\n",
       "      <th>user_id</th>\n",
       "      <th>is_trip</th>\n",
       "      <th>update_days</th>\n",
       "      <th>if_updated</th>\n",
       "      <th>elevation_net</th>\n",
       "      <th>photos</th>\n",
       "      <th>big_user</th>\n",
       "      <th>crow_distance</th>\n",
       "    </tr>\n",
       "  </thead>\n",
       "  <tbody>\n",
       "    <tr>\n",
       "      <th>0</th>\n",
       "      <td>23209396</td>\n",
       "      <td>2.659848</td>\n",
       "      <td>37.6219</td>\n",
       "      <td></td>\n",
       "      <td>04/30/18</td>\n",
       "      <td>5.002846</td>\n",
       "      <td>50396</td>\n",
       "      <td>True</td>\n",
       "      <td>0</td>\n",
       "      <td>False</td>\n",
       "      <td>5.2647</td>\n",
       "      <td>False</td>\n",
       "      <td>True</td>\n",
       "      <td>1.116021e-04</td>\n",
       "    </tr>\n",
       "    <tr>\n",
       "      <th>1</th>\n",
       "      <td>54372107</td>\n",
       "      <td>2.762263</td>\n",
       "      <td>43.3334</td>\n",
       "      <td></td>\n",
       "      <td>08/15/20</td>\n",
       "      <td>5.171163</td>\n",
       "      <td>50396</td>\n",
       "      <td>True</td>\n",
       "      <td>0</td>\n",
       "      <td>False</td>\n",
       "      <td>-9.2157</td>\n",
       "      <td>False</td>\n",
       "      <td>True</td>\n",
       "      <td>2.040744e-08</td>\n",
       "    </tr>\n",
       "    <tr>\n",
       "      <th>2</th>\n",
       "      <td>48496079</td>\n",
       "      <td>2.777424</td>\n",
       "      <td>146.6010</td>\n",
       "      <td></td>\n",
       "      <td>05/08/20</td>\n",
       "      <td>5.518063</td>\n",
       "      <td>490190</td>\n",
       "      <td>True</td>\n",
       "      <td>0</td>\n",
       "      <td>False</td>\n",
       "      <td>26.6880</td>\n",
       "      <td>False</td>\n",
       "      <td>False</td>\n",
       "      <td>6.240184e-06</td>\n",
       "    </tr>\n",
       "    <tr>\n",
       "      <th>3</th>\n",
       "      <td>40433541</td>\n",
       "      <td>2.779512</td>\n",
       "      <td>17.4177</td>\n",
       "      <td></td>\n",
       "      <td>09/23/19</td>\n",
       "      <td>5.192650</td>\n",
       "      <td>268854</td>\n",
       "      <td>True</td>\n",
       "      <td>0</td>\n",
       "      <td>False</td>\n",
       "      <td>4.6607</td>\n",
       "      <td>False</td>\n",
       "      <td>True</td>\n",
       "      <td>8.141466e-10</td>\n",
       "    </tr>\n",
       "    <tr>\n",
       "      <th>4</th>\n",
       "      <td>47936294</td>\n",
       "      <td>2.795935</td>\n",
       "      <td>91.2606</td>\n",
       "      <td></td>\n",
       "      <td>04/28/20</td>\n",
       "      <td>5.470311</td>\n",
       "      <td>490190</td>\n",
       "      <td>True</td>\n",
       "      <td>0</td>\n",
       "      <td>False</td>\n",
       "      <td>-2.3147</td>\n",
       "      <td>False</td>\n",
       "      <td>False</td>\n",
       "      <td>4.518103e-09</td>\n",
       "    </tr>\n",
       "  </tbody>\n",
       "</table>\n",
       "</div>"
      ],
      "text/plain": [
       "         id  distance  elevation_gain description      name  avg_speed  \\\n",
       "0  23209396  2.659848         37.6219              04/30/18   5.002846   \n",
       "1  54372107  2.762263         43.3334              08/15/20   5.171163   \n",
       "2  48496079  2.777424        146.6010              05/08/20   5.518063   \n",
       "3  40433541  2.779512         17.4177              09/23/19   5.192650   \n",
       "4  47936294  2.795935         91.2606              04/28/20   5.470311   \n",
       "\n",
       "   user_id  is_trip  update_days  if_updated  elevation_net  photos  big_user  \\\n",
       "0    50396     True            0       False         5.2647   False      True   \n",
       "1    50396     True            0       False        -9.2157   False      True   \n",
       "2   490190     True            0       False        26.6880   False     False   \n",
       "3   268854     True            0       False         4.6607   False      True   \n",
       "4   490190     True            0       False        -2.3147   False     False   \n",
       "\n",
       "   crow_distance  \n",
       "0   1.116021e-04  \n",
       "1   2.040744e-08  \n",
       "2   6.240184e-06  \n",
       "3   8.141466e-10  \n",
       "4   4.518103e-09  "
      ]
     },
     "execution_count": 8,
     "metadata": {},
     "output_type": "execute_result"
    }
   ],
   "source": [
    "rides = clean_data.load_ridewgps_allrides()\n",
    "clean_data.clean_ridewgps_rides(rides)\n",
    "rides.head()"
   ]
  },
  {
   "cell_type": "code",
   "execution_count": 68,
   "metadata": {
    "scrolled": false
   },
   "outputs": [
    {
     "data": {
      "text/html": [
       "<div>\n",
       "<style scoped>\n",
       "    .dataframe tbody tr th:only-of-type {\n",
       "        vertical-align: middle;\n",
       "    }\n",
       "\n",
       "    .dataframe tbody tr th {\n",
       "        vertical-align: top;\n",
       "    }\n",
       "\n",
       "    .dataframe thead th {\n",
       "        text-align: right;\n",
       "    }\n",
       "</style>\n",
       "<table border=\"1\" class=\"dataframe\">\n",
       "  <thead>\n",
       "    <tr style=\"text-align: right;\">\n",
       "      <th></th>\n",
       "      <th>id</th>\n",
       "      <th>departed_at</th>\n",
       "      <th>duration</th>\n",
       "      <th>distance</th>\n",
       "      <th>elevation_gain</th>\n",
       "      <th>description</th>\n",
       "      <th>name</th>\n",
       "      <th>avg_speed</th>\n",
       "      <th>max_speed</th>\n",
       "      <th>moving_time</th>\n",
       "      <th>is_stationary</th>\n",
       "      <th>user_id</th>\n",
       "      <th>update_days</th>\n",
       "      <th>if_updated</th>\n",
       "      <th>elevation_net</th>\n",
       "      <th>photos</th>\n",
       "      <th>big_user</th>\n",
       "      <th>crow_distance</th>\n",
       "      <th>if_weekend</th>\n",
       "      <th>prop_moving</th>\n",
       "    </tr>\n",
       "  </thead>\n",
       "  <tbody>\n",
       "    <tr>\n",
       "      <th>0</th>\n",
       "      <td>23209396</td>\n",
       "      <td>2018-04-30T02:50:43-07:00</td>\n",
       "      <td>0.619444</td>\n",
       "      <td>2.659848</td>\n",
       "      <td>123.437454</td>\n",
       "      <td></td>\n",
       "      <td>04/30/18</td>\n",
       "      <td>5.002846</td>\n",
       "      <td>7.048852</td>\n",
       "      <td>0.531667</td>\n",
       "      <td>False</td>\n",
       "      <td>50396</td>\n",
       "      <td>0</td>\n",
       "      <td>False</td>\n",
       "      <td>17.273481</td>\n",
       "      <td>False</td>\n",
       "      <td>True</td>\n",
       "      <td>1.116021e-04</td>\n",
       "      <td>False</td>\n",
       "      <td>0.858296</td>\n",
       "    </tr>\n",
       "    <tr>\n",
       "      <th>1</th>\n",
       "      <td>54372107</td>\n",
       "      <td>2020-08-15T03:04:55-07:00</td>\n",
       "      <td>0.540556</td>\n",
       "      <td>2.762263</td>\n",
       "      <td>142.176885</td>\n",
       "      <td></td>\n",
       "      <td>08/15/20</td>\n",
       "      <td>5.171163</td>\n",
       "      <td>5.960829</td>\n",
       "      <td>0.534167</td>\n",
       "      <td>False</td>\n",
       "      <td>50396</td>\n",
       "      <td>0</td>\n",
       "      <td>False</td>\n",
       "      <td>-30.236712</td>\n",
       "      <td>False</td>\n",
       "      <td>True</td>\n",
       "      <td>2.040744e-08</td>\n",
       "      <td>False</td>\n",
       "      <td>0.988181</td>\n",
       "    </tr>\n",
       "    <tr>\n",
       "      <th>2</th>\n",
       "      <td>48496079</td>\n",
       "      <td>2020-05-08T12:11:50-07:00</td>\n",
       "      <td>0.535278</td>\n",
       "      <td>2.777424</td>\n",
       "      <td>480.997881</td>\n",
       "      <td></td>\n",
       "      <td>05/08/20</td>\n",
       "      <td>5.518063</td>\n",
       "      <td>11.760722</td>\n",
       "      <td>0.503333</td>\n",
       "      <td>False</td>\n",
       "      <td>490190</td>\n",
       "      <td>0</td>\n",
       "      <td>False</td>\n",
       "      <td>87.563328</td>\n",
       "      <td>False</td>\n",
       "      <td>True</td>\n",
       "      <td>6.240184e-06</td>\n",
       "      <td>False</td>\n",
       "      <td>0.940322</td>\n",
       "    </tr>\n",
       "    <tr>\n",
       "      <th>3</th>\n",
       "      <td>40433541</td>\n",
       "      <td>2019-09-23T11:49:34-07:00</td>\n",
       "      <td>0.580000</td>\n",
       "      <td>2.779512</td>\n",
       "      <td>57.147474</td>\n",
       "      <td></td>\n",
       "      <td>09/23/19</td>\n",
       "      <td>5.192650</td>\n",
       "      <td>5.432662</td>\n",
       "      <td>0.535278</td>\n",
       "      <td>False</td>\n",
       "      <td>268854</td>\n",
       "      <td>0</td>\n",
       "      <td>False</td>\n",
       "      <td>15.291757</td>\n",
       "      <td>False</td>\n",
       "      <td>True</td>\n",
       "      <td>8.141466e-10</td>\n",
       "      <td>False</td>\n",
       "      <td>0.922893</td>\n",
       "    </tr>\n",
       "    <tr>\n",
       "      <th>4</th>\n",
       "      <td>47936294</td>\n",
       "      <td>2020-04-28T15:55:10-07:00</td>\n",
       "      <td>1.990278</td>\n",
       "      <td>2.795935</td>\n",
       "      <td>299.426029</td>\n",
       "      <td></td>\n",
       "      <td>04/28/20</td>\n",
       "      <td>5.470311</td>\n",
       "      <td>7.853530</td>\n",
       "      <td>0.511111</td>\n",
       "      <td>False</td>\n",
       "      <td>490190</td>\n",
       "      <td>0</td>\n",
       "      <td>False</td>\n",
       "      <td>-7.594531</td>\n",
       "      <td>False</td>\n",
       "      <td>True</td>\n",
       "      <td>4.518103e-09</td>\n",
       "      <td>False</td>\n",
       "      <td>0.256804</td>\n",
       "    </tr>\n",
       "  </tbody>\n",
       "</table>\n",
       "</div>"
      ],
      "text/plain": [
       "         id                departed_at  duration  distance  elevation_gain  \\\n",
       "0  23209396  2018-04-30T02:50:43-07:00  0.619444  2.659848      123.437454   \n",
       "1  54372107  2020-08-15T03:04:55-07:00  0.540556  2.762263      142.176885   \n",
       "2  48496079  2020-05-08T12:11:50-07:00  0.535278  2.777424      480.997881   \n",
       "3  40433541  2019-09-23T11:49:34-07:00  0.580000  2.779512       57.147474   \n",
       "4  47936294  2020-04-28T15:55:10-07:00  1.990278  2.795935      299.426029   \n",
       "\n",
       "  description      name  avg_speed  max_speed  moving_time  is_stationary  \\\n",
       "0              04/30/18   5.002846   7.048852     0.531667          False   \n",
       "1              08/15/20   5.171163   5.960829     0.534167          False   \n",
       "2              05/08/20   5.518063  11.760722     0.503333          False   \n",
       "3              09/23/19   5.192650   5.432662     0.535278          False   \n",
       "4              04/28/20   5.470311   7.853530     0.511111          False   \n",
       "\n",
       "   user_id  update_days  if_updated  elevation_net  photos  big_user  \\\n",
       "0    50396            0       False      17.273481   False      True   \n",
       "1    50396            0       False     -30.236712   False      True   \n",
       "2   490190            0       False      87.563328   False      True   \n",
       "3   268854            0       False      15.291757   False      True   \n",
       "4   490190            0       False      -7.594531   False      True   \n",
       "\n",
       "   crow_distance  if_weekend  prop_moving  \n",
       "0   1.116021e-04       False     0.858296  \n",
       "1   2.040744e-08       False     0.988181  \n",
       "2   6.240184e-06       False     0.940322  \n",
       "3   8.141466e-10       False     0.922893  \n",
       "4   4.518103e-09       False     0.256804  "
      ]
     },
     "execution_count": 68,
     "metadata": {},
     "output_type": "execute_result"
    }
   ],
   "source": [
    "trips = clean_data.load_clean_ridewgps_trips()\n",
    "trips.head()"
   ]
  },
  {
   "cell_type": "code",
   "execution_count": 44,
   "metadata": {},
   "outputs": [
    {
     "data": {
      "text/plain": [
       "['max_hr', 'min_hr', 'avg_hr', 'avg_watts', 'max_watts', 'min_watts']"
      ]
     },
     "execution_count": 44,
     "metadata": {},
     "output_type": "execute_result"
    }
   ],
   "source": [
    "drop_cols = [col for col in trips.columns if re.search(\"hr|watts\", col)]\n",
    "drop_cols"
   ]
  },
  {
   "cell_type": "code",
   "execution_count": 31,
   "metadata": {},
   "outputs": [
    {
     "data": {
      "text/plain": [
       "36"
      ]
     },
     "execution_count": 31,
     "metadata": {},
     "output_type": "execute_result"
    }
   ],
   "source": [
    "3636 - (60 * 60)"
   ]
  },
  {
   "cell_type": "code",
   "execution_count": 64,
   "metadata": {},
   "outputs": [
    {
     "data": {
      "text/html": [
       "<div>\n",
       "<style scoped>\n",
       "    .dataframe tbody tr th:only-of-type {\n",
       "        vertical-align: middle;\n",
       "    }\n",
       "\n",
       "    .dataframe tbody tr th {\n",
       "        vertical-align: top;\n",
       "    }\n",
       "\n",
       "    .dataframe thead th {\n",
       "        text-align: right;\n",
       "    }\n",
       "</style>\n",
       "<table border=\"1\" class=\"dataframe\">\n",
       "  <thead>\n",
       "    <tr style=\"text-align: right;\">\n",
       "      <th></th>\n",
       "      <th>departed_at</th>\n",
       "      <th>if_weekend</th>\n",
       "    </tr>\n",
       "  </thead>\n",
       "  <tbody>\n",
       "    <tr>\n",
       "      <th>12862</th>\n",
       "      <td>2020-09-21T08:01:58-07:00</td>\n",
       "      <td>False</td>\n",
       "    </tr>\n",
       "    <tr>\n",
       "      <th>14705</th>\n",
       "      <td>2020-09-21T07:44:06-07:00</td>\n",
       "      <td>False</td>\n",
       "    </tr>\n",
       "    <tr>\n",
       "      <th>1325</th>\n",
       "      <td>2020-09-21T07:33:46-07:00</td>\n",
       "      <td>False</td>\n",
       "    </tr>\n",
       "    <tr>\n",
       "      <th>1358</th>\n",
       "      <td>2020-09-21T07:33:43-07:00</td>\n",
       "      <td>False</td>\n",
       "    </tr>\n",
       "    <tr>\n",
       "      <th>7560</th>\n",
       "      <td>2020-09-21T07:32:20-07:00</td>\n",
       "      <td>False</td>\n",
       "    </tr>\n",
       "    <tr>\n",
       "      <th>2317</th>\n",
       "      <td>2020-09-21T07:01:01-07:00</td>\n",
       "      <td>False</td>\n",
       "    </tr>\n",
       "    <tr>\n",
       "      <th>15712</th>\n",
       "      <td>2020-09-21T03:54:28-07:00</td>\n",
       "      <td>False</td>\n",
       "    </tr>\n",
       "    <tr>\n",
       "      <th>15596</th>\n",
       "      <td>2020-09-21T03:35:01-07:00</td>\n",
       "      <td>False</td>\n",
       "    </tr>\n",
       "    <tr>\n",
       "      <th>46</th>\n",
       "      <td>2020-09-20T15:43:49-07:00</td>\n",
       "      <td>True</td>\n",
       "    </tr>\n",
       "    <tr>\n",
       "      <th>4838</th>\n",
       "      <td>2020-09-20T14:23:11-07:00</td>\n",
       "      <td>True</td>\n",
       "    </tr>\n",
       "  </tbody>\n",
       "</table>\n",
       "</div>"
      ],
      "text/plain": [
       "                     departed_at  if_weekend\n",
       "12862  2020-09-21T08:01:58-07:00       False\n",
       "14705  2020-09-21T07:44:06-07:00       False\n",
       "1325   2020-09-21T07:33:46-07:00       False\n",
       "1358   2020-09-21T07:33:43-07:00       False\n",
       "7560   2020-09-21T07:32:20-07:00       False\n",
       "2317   2020-09-21T07:01:01-07:00       False\n",
       "15712  2020-09-21T03:54:28-07:00       False\n",
       "15596  2020-09-21T03:35:01-07:00       False\n",
       "46     2020-09-20T15:43:49-07:00        True\n",
       "4838   2020-09-20T14:23:11-07:00        True"
      ]
     },
     "execution_count": 64,
     "metadata": {},
     "output_type": "execute_result"
    }
   ],
   "source": [
    "trips[['departed_at', 'if_weekend']].sort_values('departed_at', ascending=False).head(10)"
   ]
  },
  {
   "cell_type": "code",
   "execution_count": 56,
   "metadata": {},
   "outputs": [
    {
     "data": {
      "text/plain": [
       "(21606, 20)"
      ]
     },
     "execution_count": 56,
     "metadata": {},
     "output_type": "execute_result"
    }
   ],
   "source": [
    "trips.shape"
   ]
  },
  {
   "cell_type": "code",
   "execution_count": 71,
   "metadata": {},
   "outputs": [],
   "source": [
    "useful_cols = ['duration', 'distance', 'elevation_gain', 'avg_speed',\n",
    "              'max_speed', 'if_updated', 'photos', 'big_user',\n",
    "              'crow_distance', 'if_weekend', 'prop_moving']\n",
    "rides_use = trips[useful_cols].copy()\n",
    "for col in rides_use.columns:\n",
    "    if rides_use[col].dtype in ['float64']:\n",
    "        rides_use[col] = rides_use[col] / rides_use[col].max()"
   ]
  },
  {
   "cell_type": "code",
   "execution_count": 70,
   "metadata": {},
   "outputs": [
    {
     "data": {
      "text/plain": [
       "(array([ 982., 1094., 1830., 3516., 5366., 5158., 2366.,  609.,   87.,\n",
       "          18.]),\n",
       " array([ 5.00193868,  6.97045248,  8.93896628, 10.90748009, 12.87599389,\n",
       "        14.84450769, 16.81302149, 18.78153529, 20.75004909, 22.71856289,\n",
       "        24.68707669]),\n",
       " <BarContainer object of 10 artists>)"
      ]
     },
     "execution_count": 70,
     "metadata": {},
     "output_type": "execute_result"
    },
    {
     "data": {
      "image/png": "[encoded data removed]",
      "text/plain": [
       "<Figure size 432x288 with 1 Axes>"
      ]
     },
     "metadata": {
      "needs_background": "light"
     },
     "output_type": "display_data"
    }
   ],
   "source": [
    "plt.hist(trips['avg_speed'])"
   ]
  },
  {
   "cell_type": "code",
   "execution_count": 77,
   "metadata": {
    "scrolled": true
   },
   "outputs": [
    {
     "name": "stdout",
     "output_type": "stream",
     "text": [
      "duration: 0 missing of 21026\n",
      "distance: 0 missing of 21026\n",
      "elevation_gain: 0 missing of 21026\n",
      "avg_speed: 0 missing of 21026\n",
      "max_speed: 0 missing of 21026\n",
      "if_updated: 0 missing of 21026\n",
      "photos: 0 missing of 21026\n",
      "big_user: 0 missing of 21026\n",
      "crow_distance: 0 missing of 21026\n",
      "if_weekend: 0 missing of 21026\n",
      "prop_moving: 0 missing of 21026\n"
     ]
    }
   ],
   "source": [
    "clean_data.check_missing(rides_use)"
   ]
  },
  {
   "cell_type": "code",
   "execution_count": null,
   "metadata": {},
   "outputs": [],
   "source": [
    "useful_cols = ['distance', 'elevation_gain', 'avg_speed',\n",
    "               'if_updated', 'photos', 'big_user', 'crow_distance']\n",
    "rides_use = rides[useful_cols].copy()\n",
    "rides_use.dtypes\n",
    "for col in rides_use.columns:\n",
    "    if rides_use[col].dtype == 'float64':\n",
    "        rides_use[col] = rides_use[col] / rides_use[col].max()\n"
   ]
  },
  {
   "cell_type": "code",
   "execution_count": 76,
   "metadata": {},
   "outputs": [
    {
     "data": {
      "text/plain": [
       "(array([2.0739e+04, 1.3700e+02, 8.0000e+01, 4.2000e+01, 6.0000e+00,\n",
       "        1.4000e+01, 3.0000e+00, 2.0000e+00, 1.0000e+00, 2.0000e+00]),\n",
       " array([0. , 0.1, 0.2, 0.3, 0.4, 0.5, 0.6, 0.7, 0.8, 0.9, 1. ]),\n",
       " <BarContainer object of 10 artists>)"
      ]
     },
     "execution_count": 76,
     "metadata": {},
     "output_type": "execute_result"
    },
    {
     "data": {
      "image/png": "[encoded data removed]",
      "text/plain": [
       "<Figure size 432x288 with 1 Axes>"
      ]
     },
     "metadata": {
      "needs_background": "light"
     },
     "output_type": "display_data"
    }
   ],
   "source": []
  },
  {
   "cell_type": "code",
   "execution_count": 72,
   "metadata": {},
   "outputs": [
    {
     "name": "stdout",
     "output_type": "stream",
     "text": [
      "11\n"
     ]
    }
   ],
   "source": [
    "clusterer = hdbscan.HDBSCAN(min_cluster_size=100)\n",
    "clusterer.fit(rides_use)\n",
    "print(clusterer.labels_.max())"
   ]
  },
  {
   "cell_type": "code",
   "execution_count": 74,
   "metadata": {},
   "outputs": [],
   "source": [
    "mapped_clusters = sklearn.manifold.TSNE(n_components=2, metric='cosine', init='pca').fit_transform(rides_use)\n"
   ]
  },
  {
   "cell_type": "code",
   "execution_count": 75,
   "metadata": {
    "scrolled": true
   },
   "outputs": [
    {
     "data": {
      "image/png": "[encoded data removed]",
      "text/plain": [
       "<Figure size 720x288 with 1 Axes>"
      ]
     },
     "metadata": {
      "needs_background": "light"
     },
     "output_type": "display_data"
    }
   ],
   "source": [
    "x = mapped_clusters[:, 0]\n",
    "y = mapped_clusters[:, 1]\n",
    "# colours = ['firebrick', 'tomato', 'darkorange', 'burlywood',\n",
    "#           'gold', 'olivedrab', 'darkseagreen', 'darkgreen',\n",
    "#           'lightseagreen', 'paleturquoise', 'darkslategray',\n",
    "#           'deepskyblue','steelblue', 'royalblue', 'slateblue',\n",
    "#           'darkorchid', 'fuchsia', 'palevioletred']\n",
    "colours = sns.color_palette('deep', 10)\n",
    "plt.figure(figsize=(10, 4))\n",
    "for c in range(10):\n",
    "    plt.plot(x[clusterer.labels_ == c], y[clusterer.labels_ == c], '.', color=colours[c])"
   ]
  },
  {
   "cell_type": "code",
   "execution_count": null,
   "metadata": {},
   "outputs": [],
   "source": [
    "clusterer.condensed_tree_.plot(select_clusters=True,\n",
    "                              selection_palette=colours)"
   ]
  },
  {
   "cell_type": "code",
   "execution_count": null,
   "metadata": {},
   "outputs": [],
   "source": [
    "clusterer.single_linkage_tree_.plot()"
   ]
  },
  {
   "cell_type": "code",
   "execution_count": null,
   "metadata": {},
   "outputs": [],
   "source": [
    "for col in rides.columns:\n",
    "    print('{}: {} missing'.format(col, rides[col].isna().sum()))"
   ]
  },
  {
   "cell_type": "code",
   "execution_count": null,
   "metadata": {},
   "outputs": [],
   "source": [
    "a = rides.group_membership_id.value_counts()\n",
    "a[a > 100].index.tolist()"
   ]
  },
  {
   "cell_type": "code",
   "execution_count": null,
   "metadata": {},
   "outputs": [],
   "source": [
    "# rides[rides.if_update > 0].shape\n",
    "22670 - 21788"
   ]
  },
  {
   "cell_type": "code",
   "execution_count": null,
   "metadata": {},
   "outputs": [],
   "source": [
    "trips = pd.read_csv(config.RAW_DATA_PATH + 'ridewgps_trips.csv')\n",
    "trips = clean_data.clean_trips(trips)\n",
    "trips.shape\n",
    "# routes = pd.read_csv(config.RAW_DATA_PATH + 'ridewgps_routes.csv')\n",
    "# trip_cols = list(set(trips.columns) - set(routes.columns))"
   ]
  },
  {
   "cell_type": "code",
   "execution_count": null,
   "metadata": {},
   "outputs": [],
   "source": [
    "for col in rides.columns:\n",
    "    print('{} ({} missing):\\n{}'.format(col, rides[col].isna().sum(), rides[col].value_counts()))"
   ]
  },
  {
   "cell_type": "code",
   "execution_count": null,
   "metadata": {},
   "outputs": [],
   "source": [
    "# trips[trips.is_gps == False][['id', 'moving_time', 'duration']]\n",
    "a = rides.user_id.value_counts()\n",
    "a[(a > 500)]"
   ]
  },
  {
   "cell_type": "code",
   "execution_count": null,
   "metadata": {},
   "outputs": [],
   "source": [
    "rides.highlighted_photo_id[rides.highlighted_photo_id > 0].shape"
   ]
  },
  {
   "cell_type": "code",
   "execution_count": null,
   "metadata": {},
   "outputs": [],
   "source": [
    "osm = esy.osm.pbf.File('/media/sf_Insight/data/north-america-latest.osm.pbf')\n",
    "for i, entry in enumerate(osm):\n",
    "    if i == 2: break\n",
    "entry"
   ]
  },
  {
   "cell_type": "code",
   "execution_count": null,
   "metadata": {},
   "outputs": [],
   "source": [
    "\n",
    "class CounterHandler(osmium.SimpleHandler):\n",
    "    def __init__(self):\n",
    "        osmium.SimpleHandler.__init__(self)\n",
    "        self.num_nodes = 0\n",
    "\n",
    "    def node(self, n):\n",
    "        self.num_nodes += 1\n",
    "        \n",
    "if __name__ == '__main__':\n",
    "\n",
    "    h = CounterHandler()\n",
    "    filename = '/home/emily/Downloads/map_ashokan.xml'\n",
    "    h.apply_file(filename)\n",
    "\n",
    "    print(\"Number of nodes: %d\" % h.num_nodes)"
   ]
  },
  {
   "cell_type": "code",
   "execution_count": null,
   "metadata": {},
   "outputs": [],
   "source": [
    "class LatLonHandler(osmium.SimpleHandler):\n",
    "    def __init__(self):\n",
    "        super(LatLonHandler).__init__()\n",
    "        self.latlons = []\n",
    "\n",
    "    def node(self, n):\n",
    "        self.latlons.append([o.tags['place']])\n",
    "        self.num_nodes += 1\n",
    "\n",
    "filename = '/home/emily/Downloads/map_ashokan.xml'\n",
    "h = LatLonHandler()\n",
    "h.apply_file(filename)"
   ]
  },
  {
   "cell_type": "code",
   "execution_count": null,
   "metadata": {},
   "outputs": [],
   "source": [
    "root = tree.getroot()\n",
    "root[3].text"
   ]
  },
  {
   "cell_type": "code",
   "execution_count": null,
   "metadata": {},
   "outputs": [],
   "source": [
    "node[1]."
   ]
  }
 ],
 "metadata": {
  "kernelspec": {
   "display_name": "Python 3",
   "language": "python",
   "name": "python3"
  },
  "language_info": {
   "codemirror_mode": {
    "name": "ipython",
    "version": 3
   },
   "file_extension": ".py",
   "mimetype": "text/x-python",
   "name": "python",
   "nbconvert_exporter": "python",
   "pygments_lexer": "ipython3",
   "version": "3.8.5"
  }
 },
 "nbformat": 4,
 "nbformat_minor": 4
}
