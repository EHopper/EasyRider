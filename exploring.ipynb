{
 "cells": [
  {
   "cell_type": "code",
   "execution_count": 1,
   "metadata": {},
   "outputs": [],
   "source": [
    "%load_ext autoreload\n",
    "%autoreload 2\n",
    "\n",
    "%matplotlib inline"
   ]
  },
  {
   "cell_type": "code",
   "execution_count": null,
   "metadata": {},
   "outputs": [],
   "source": [
    "# !pip install esy-osm-pbf\n",
    "# !pip install -U osmium\n",
    "!pip install hdbscan"
   ]
  },
  {
   "cell_type": "code",
   "execution_count": 2,
   "metadata": {},
   "outputs": [],
   "source": [
    "import requests\n",
    "import pandas as pd\n",
    "import numpy as np\n",
    "import matplotlib.pyplot as plt\n",
    "import seaborn as sns\n",
    "import os\n",
    "import datetime\n",
    "\n",
    "import esy.osm.pbf\n",
    "import osmium\n",
    "import xml\n",
    "\n",
    "import hdbscan\n",
    "import sklearn.manifold\n",
    "\n",
    "\n",
    "from util import get_data\n",
    "from util import mapping\n",
    "from util import clean_data\n",
    "from util import config"
   ]
  },
  {
   "cell_type": "code",
   "execution_count": 3,
   "metadata": {
    "scrolled": true
   },
   "outputs": [
    {
     "name": "stderr",
     "output_type": "stream",
     "text": [
      "/home/emily/anaconda3/envs/insight/lib/python3.8/site-packages/IPython/core/interactiveshell.py:3337: DtypeWarning: Columns (15) have mixed types.Specify dtype option on import or set low_memory=False.\n",
      "  if (await self.run_code(code, result,  async_=asy)):\n"
     ]
    },
    {
     "data": {
      "text/html": [
       "<div>\n",
       "<style scoped>\n",
       "    .dataframe tbody tr th:only-of-type {\n",
       "        vertical-align: middle;\n",
       "    }\n",
       "\n",
       "    .dataframe tbody tr th {\n",
       "        vertical-align: top;\n",
       "    }\n",
       "\n",
       "    .dataframe thead th {\n",
       "        text-align: right;\n",
       "    }\n",
       "</style>\n",
       "<table border=\"1\" class=\"dataframe\">\n",
       "  <thead>\n",
       "    <tr style=\"text-align: right;\">\n",
       "      <th></th>\n",
       "      <th>id</th>\n",
       "      <th>distance</th>\n",
       "      <th>elevation_gain</th>\n",
       "      <th>description</th>\n",
       "      <th>name</th>\n",
       "      <th>avg_speed</th>\n",
       "      <th>user_id</th>\n",
       "      <th>update_days</th>\n",
       "      <th>if_updated</th>\n",
       "      <th>elevation_net</th>\n",
       "      <th>photos</th>\n",
       "      <th>big_user</th>\n",
       "      <th>crow_distance</th>\n",
       "    </tr>\n",
       "  </thead>\n",
       "  <tbody>\n",
       "    <tr>\n",
       "      <th>749</th>\n",
       "      <td>23209396</td>\n",
       "      <td>2.659848</td>\n",
       "      <td>37.6219</td>\n",
       "      <td></td>\n",
       "      <td>04/30/18</td>\n",
       "      <td>5.002846</td>\n",
       "      <td>50396</td>\n",
       "      <td>0</td>\n",
       "      <td>False</td>\n",
       "      <td>5.2647</td>\n",
       "      <td>False</td>\n",
       "      <td>True</td>\n",
       "      <td>1.116021e-04</td>\n",
       "    </tr>\n",
       "    <tr>\n",
       "      <th>790</th>\n",
       "      <td>54372107</td>\n",
       "      <td>2.762263</td>\n",
       "      <td>43.3334</td>\n",
       "      <td></td>\n",
       "      <td>08/15/20</td>\n",
       "      <td>5.171163</td>\n",
       "      <td>50396</td>\n",
       "      <td>0</td>\n",
       "      <td>False</td>\n",
       "      <td>-9.2157</td>\n",
       "      <td>False</td>\n",
       "      <td>True</td>\n",
       "      <td>2.040744e-08</td>\n",
       "    </tr>\n",
       "    <tr>\n",
       "      <th>797</th>\n",
       "      <td>48496079</td>\n",
       "      <td>2.777424</td>\n",
       "      <td>146.6010</td>\n",
       "      <td></td>\n",
       "      <td>05/08/20</td>\n",
       "      <td>5.518063</td>\n",
       "      <td>490190</td>\n",
       "      <td>0</td>\n",
       "      <td>False</td>\n",
       "      <td>26.6880</td>\n",
       "      <td>False</td>\n",
       "      <td>False</td>\n",
       "      <td>6.240184e-06</td>\n",
       "    </tr>\n",
       "    <tr>\n",
       "      <th>798</th>\n",
       "      <td>40433541</td>\n",
       "      <td>2.779512</td>\n",
       "      <td>17.4177</td>\n",
       "      <td></td>\n",
       "      <td>09/23/19</td>\n",
       "      <td>5.192650</td>\n",
       "      <td>268854</td>\n",
       "      <td>0</td>\n",
       "      <td>False</td>\n",
       "      <td>4.6607</td>\n",
       "      <td>False</td>\n",
       "      <td>True</td>\n",
       "      <td>8.141466e-10</td>\n",
       "    </tr>\n",
       "    <tr>\n",
       "      <th>805</th>\n",
       "      <td>47936294</td>\n",
       "      <td>2.795935</td>\n",
       "      <td>91.2606</td>\n",
       "      <td></td>\n",
       "      <td>04/28/20</td>\n",
       "      <td>5.470311</td>\n",
       "      <td>490190</td>\n",
       "      <td>0</td>\n",
       "      <td>False</td>\n",
       "      <td>-2.3147</td>\n",
       "      <td>False</td>\n",
       "      <td>False</td>\n",
       "      <td>4.518103e-09</td>\n",
       "    </tr>\n",
       "  </tbody>\n",
       "</table>\n",
       "</div>"
      ],
      "text/plain": [
       "           id  distance  elevation_gain description      name  avg_speed  \\\n",
       "749  23209396  2.659848         37.6219              04/30/18   5.002846   \n",
       "790  54372107  2.762263         43.3334              08/15/20   5.171163   \n",
       "797  48496079  2.777424        146.6010              05/08/20   5.518063   \n",
       "798  40433541  2.779512         17.4177              09/23/19   5.192650   \n",
       "805  47936294  2.795935         91.2606              04/28/20   5.470311   \n",
       "\n",
       "     user_id  update_days  if_updated  elevation_net  photos  big_user  \\\n",
       "749    50396            0       False         5.2647   False      True   \n",
       "790    50396            0       False        -9.2157   False      True   \n",
       "797   490190            0       False        26.6880   False     False   \n",
       "798   268854            0       False         4.6607   False      True   \n",
       "805   490190            0       False        -2.3147   False     False   \n",
       "\n",
       "     crow_distance  \n",
       "749   1.116021e-04  \n",
       "790   2.040744e-08  \n",
       "797   6.240184e-06  \n",
       "798   8.141466e-10  \n",
       "805   4.518103e-09  "
      ]
     },
     "execution_count": 3,
     "metadata": {},
     "output_type": "execute_result"
    }
   ],
   "source": [
    "rides = clean_data.load_ridewgps_rides()\n",
    "clean_data.clean_ridewgps_df(rides)\n",
    "rides.head()"
   ]
  },
  {
   "cell_type": "code",
   "execution_count": 7,
   "metadata": {},
   "outputs": [
    {
     "data": {
      "text/plain": [
       "13.70010836680067"
      ]
     },
     "execution_count": 7,
     "metadata": {},
     "output_type": "execute_result"
    }
   ],
   "source": [
    "rides.avg_speed.mean()"
   ]
  },
  {
   "cell_type": "code",
   "execution_count": null,
   "metadata": {},
   "outputs": [],
   "source": [
    "useful_cols = ['distance', 'elevation_gain', 'avg_speed',\n",
    "               'if_updated', 'photos', 'big_user', 'crow_distance']\n",
    "rides_use = rides[useful_cols].copy()\n",
    "rides_use.dtypes\n",
    "for col in rides_use.columns:\n",
    "    if rides_use[col].dtype == 'float64':\n",
    "        rides_use[col] = rides_use[col] / rides_use[col].max()\n"
   ]
  },
  {
   "cell_type": "code",
   "execution_count": null,
   "metadata": {},
   "outputs": [],
   "source": [
    "clusterer = hdbscan.HDBSCAN(min_cluster_size=100)\n",
    "clusterer.fit(rides_use)\n",
    "print(clusterer.labels_.max())"
   ]
  },
  {
   "cell_type": "code",
   "execution_count": null,
   "metadata": {},
   "outputs": [],
   "source": [
    "mapped_clusters = sklearn.manifold.TSNE(n_components=2, metric='cosine', init='pca').fit_transform(rides[useful_cols])\n"
   ]
  },
  {
   "cell_type": "code",
   "execution_count": null,
   "metadata": {
    "scrolled": true
   },
   "outputs": [],
   "source": [
    "x = mapped_clusters[:, 0]\n",
    "y = mapped_clusters[:, 1]\n",
    "# colours = ['firebrick', 'tomato', 'darkorange', 'burlywood',\n",
    "#           'gold', 'olivedrab', 'darkseagreen', 'darkgreen',\n",
    "#           'lightseagreen', 'paleturquoise', 'darkslategray',\n",
    "#           'deepskyblue','steelblue', 'royalblue', 'slateblue',\n",
    "#           'darkorchid', 'fuchsia', 'palevioletred']\n",
    "colours = sns.color_palette('deep', 10)\n",
    "plt.figure(figsize=(10, 4))\n",
    "for c in range(10):\n",
    "    plt.plot(x[clusterer.labels_ == c], y[clusterer.labels_ == c], '.', color=colours[c])"
   ]
  },
  {
   "cell_type": "code",
   "execution_count": null,
   "metadata": {},
   "outputs": [],
   "source": [
    "clusterer.condensed_tree_.plot(select_clusters=True,\n",
    "                              selection_palette=colours)"
   ]
  },
  {
   "cell_type": "code",
   "execution_count": null,
   "metadata": {},
   "outputs": [],
   "source": [
    "clusterer.single_linkage_tree_.plot()"
   ]
  },
  {
   "cell_type": "code",
   "execution_count": null,
   "metadata": {},
   "outputs": [],
   "source": [
    "for col in rides.columns:\n",
    "    print('{}: {} missing'.format(col, rides[col].isna().sum()))"
   ]
  },
  {
   "cell_type": "code",
   "execution_count": null,
   "metadata": {},
   "outputs": [],
   "source": [
    "a = rides.group_membership_id.value_counts()\n",
    "a[a > 100].index.tolist()"
   ]
  },
  {
   "cell_type": "code",
   "execution_count": null,
   "metadata": {},
   "outputs": [],
   "source": [
    "# rides[rides.if_update > 0].shape\n",
    "22670 - 21788"
   ]
  },
  {
   "cell_type": "code",
   "execution_count": null,
   "metadata": {},
   "outputs": [],
   "source": [
    "trips = pd.read_csv(config.RAW_DATA_PATH + 'ridewgps_trips.csv')\n",
    "trips = clean_data.clean_trips(trips)\n",
    "trips.shape\n",
    "# routes = pd.read_csv(config.RAW_DATA_PATH + 'ridewgps_routes.csv')\n",
    "# trip_cols = list(set(trips.columns) - set(routes.columns))"
   ]
  },
  {
   "cell_type": "code",
   "execution_count": null,
   "metadata": {},
   "outputs": [],
   "source": [
    "for col in rides.columns:\n",
    "    print('{} ({} missing):\\n{}'.format(col, rides[col].isna().sum(), rides[col].value_counts()))"
   ]
  },
  {
   "cell_type": "code",
   "execution_count": null,
   "metadata": {},
   "outputs": [],
   "source": [
    "# trips[trips.is_gps == False][['id', 'moving_time', 'duration']]\n",
    "a = rides.user_id.value_counts()\n",
    "a[(a > 500)]"
   ]
  },
  {
   "cell_type": "code",
   "execution_count": null,
   "metadata": {},
   "outputs": [],
   "source": [
    "rides.highlighted_photo_id[rides.highlighted_photo_id > 0].shape"
   ]
  },
  {
   "cell_type": "code",
   "execution_count": null,
   "metadata": {},
   "outputs": [],
   "source": [
    "osm = esy.osm.pbf.File('/media/sf_Insight/data/north-america-latest.osm.pbf')\n",
    "for i, entry in enumerate(osm):\n",
    "    if i == 2: break\n",
    "entry"
   ]
  },
  {
   "cell_type": "code",
   "execution_count": null,
   "metadata": {},
   "outputs": [],
   "source": [
    "\n",
    "class CounterHandler(osmium.SimpleHandler):\n",
    "    def __init__(self):\n",
    "        osmium.SimpleHandler.__init__(self)\n",
    "        self.num_nodes = 0\n",
    "\n",
    "    def node(self, n):\n",
    "        self.num_nodes += 1\n",
    "        \n",
    "if __name__ == '__main__':\n",
    "\n",
    "    h = CounterHandler()\n",
    "    filename = '/home/emily/Downloads/map_ashokan.xml'\n",
    "    h.apply_file(filename)\n",
    "\n",
    "    print(\"Number of nodes: %d\" % h.num_nodes)"
   ]
  },
  {
   "cell_type": "code",
   "execution_count": null,
   "metadata": {},
   "outputs": [],
   "source": [
    "class LatLonHandler(osmium.SimpleHandler):\n",
    "    def __init__(self):\n",
    "        super(LatLonHandler).__init__()\n",
    "        self.latlons = []\n",
    "\n",
    "    def node(self, n):\n",
    "        self.latlons.append([o.tags['place']])\n",
    "        self.num_nodes += 1\n",
    "\n",
    "filename = '/home/emily/Downloads/map_ashokan.xml'\n",
    "h = LatLonHandler()\n",
    "h.apply_file(filename)"
   ]
  },
  {
   "cell_type": "code",
   "execution_count": null,
   "metadata": {},
   "outputs": [],
   "source": [
    "root = tree.getroot()\n",
    "root[3].text"
   ]
  },
  {
   "cell_type": "code",
   "execution_count": null,
   "metadata": {},
   "outputs": [],
   "source": [
    "node[1]."
   ]
  }
 ],
 "metadata": {
  "kernelspec": {
   "display_name": "Python 3",
   "language": "python",
   "name": "python3"
  },
  "language_info": {
   "codemirror_mode": {
    "name": "ipython",
    "version": 3
   },
   "file_extension": ".py",
   "mimetype": "text/x-python",
   "name": "python",
   "nbconvert_exporter": "python",
   "pygments_lexer": "ipython3",
   "version": "3.8.5"
  }
 },
 "nbformat": 4,
 "nbformat_minor": 4
}
