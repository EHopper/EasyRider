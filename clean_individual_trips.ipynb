{
 "cells": [
  {
   "cell_type": "code",
   "execution_count": 367,
   "metadata": {},
   "outputs": [
    {
     "name": "stdout",
     "output_type": "stream",
     "text": [
      "The autoreload extension is already loaded. To reload it, use:\n",
      "  %reload_ext autoreload\n"
     ]
    }
   ],
   "source": [
    "%load_ext autoreload\n",
    "%autoreload 2\n",
    "\n",
    "%matplotlib inline"
   ]
  },
  {
   "cell_type": "code",
   "execution_count": 3,
   "metadata": {},
   "outputs": [],
   "source": [
    "import requests\n",
    "import pandas as pd\n",
    "import numpy as np\n",
    "import matplotlib.pyplot as plt\n",
    "import seaborn as sns\n",
    "import os\n",
    "import datetime\n",
    "import re\n",
    "import json\n",
    "import collections\n",
    "\n",
    "\n",
    "from util import get_data\n",
    "from util import mapping\n",
    "from util import clean_data\n",
    "from util import config\n",
    "from util import plot_clusters\n",
    "\n",
    "import sklearn.cluster\n",
    "import sklearn.neighbors"
   ]
  },
  {
   "cell_type": "code",
   "execution_count": null,
   "metadata": {},
   "outputs": [],
   "source": [
    "df = pd.read_csv(config.PROCESSED_DATA_PATH + 'trips.csv')\n",
    "print(df.shape)\n",
    "df = clean_data.filter_cleaned_trips(df)\n",
    "print(df.shape)\n"
   ]
  },
  {
   "cell_type": "markdown",
   "metadata": {},
   "source": [
    "# Trying to make road backbone"
   ]
  },
  {
   "cell_type": "code",
   "execution_count": null,
   "metadata": {},
   "outputs": [],
   "source": [
    "lats = np.linspace(40., 44., 4000)\n",
    "lons = np.linspace(-76., -72., 4000)\n",
    "all_lats, all_lons = np.meshgrid(lats, lons)\n",
    "all_lats = all_lats.flatten().tolist()\n",
    "all_lons = all_lons.flatten().tolist()\n",
    "locs = pd.DataFrame({'lat': all_lats, 'lon': all_lons})"
   ]
  },
  {
   "cell_type": "code",
   "execution_count": null,
   "metadata": {},
   "outputs": [],
   "source": [
    "tree = sklearn.neighbors.KDTree(locs)"
   ]
  },
  {
   "cell_type": "code",
   "execution_count": null,
   "metadata": {},
   "outputs": [],
   "source": [
    "a, b = clean_data.initialise_road_backbone_grid()"
   ]
  },
  {
   "cell_type": "code",
   "execution_count": null,
   "metadata": {
    "scrolled": true
   },
   "outputs": [],
   "source": [
    "gp = clean_data.assign_trip_to_backbone_grid(df.id[10], locs, tree)\n",
    "gp.breadcrumb_count.sum()\n",
    "gp.head()\n",
    "# plt.plot(gp.lon, gp.lat, 'r.')"
   ]
  },
  {
   "cell_type": "code",
   "execution_count": null,
   "metadata": {},
   "outputs": [],
   "source": [
    "#grid_pts, grid_dict = clean_data.make_road_backbone()\n",
    "grid_pts = pd.read_csv(config.MODEL_PATH + 'road_backbone.csv')\n",
    "with open(config.MODEL_PATH + 'grid_rte_ids.json', 'r') as fn:\n",
    "    gd = json.load(fn)\n",
    "grid_dict = collections.defaultdict(set)\n",
    "for key in gd:\n",
    "    grid_dict[int(key)] = set(gd[key])"
   ]
  },
  {
   "cell_type": "code",
   "execution_count": null,
   "metadata": {},
   "outputs": [],
   "source": [
    "type(grid_pts.grid_i.tolist()[0])"
   ]
  },
  {
   "cell_type": "code",
   "execution_count": null,
   "metadata": {},
   "outputs": [],
   "source": [
    "plt.figure(figsize=(10, 10))\n",
    "grid_pts['n_routes'] = [len(grid_dict[key]) for key in grid_dict]\n",
    "plt.plot(grid_pts[grid_pts.n_routes > 0].lon, grid_pts[grid_pts.n_routes > 0].lat, 'k.',\n",
    "            markersize=0.5)\n",
    "# 41.789, -74.232\n",
    "plt.ylim(42 + 0.1 * np.array([-1, 1]))\n",
    "plt.xlim(-74.2 + 0.1 * np.array([-1, 1]))"
   ]
  },
  {
   "cell_type": "code",
   "execution_count": null,
   "metadata": {},
   "outputs": [],
   "source": [
    "grid_pts.head()"
   ]
  },
  {
   "cell_type": "code",
   "execution_count": null,
   "metadata": {},
   "outputs": [],
   "source": [
    "tree2.query(np.array([[41, -74]]), k=1000)"
   ]
  },
  {
   "cell_type": "code",
   "execution_count": null,
   "metadata": {},
   "outputs": [],
   "source": [
    "for i, key in enumerate(grid_dict.keys()):\n",
    "    if i == 10: break\n",
    "    print(type(key))\n",
    "    "
   ]
  },
  {
   "cell_type": "code",
   "execution_count": null,
   "metadata": {},
   "outputs": [],
   "source": [
    "tree2 = sklearn.neighbors.KDTree(grid_pts[['lat', 'lon']])\n",
    "\n",
    "dict_m = grid_dict.copy()\n",
    "pts_m = grid_pts.copy().reset_index(drop=True)\n",
    "for ii, row in pts_m.iterrows():\n",
    "#     if ii == 5: break\n",
    "    if not ii % 2000: print(ii)\n",
    "    if row.breadcrumb_count == 0:\n",
    "        continue\n",
    "    res = tree2.query_radius(\n",
    "        row[['lat', 'lon']].values.reshape(1, -1), r=1/2000\n",
    "    )\n",
    "    res = list(res[0])\n",
    "    res.remove(ii)\n",
    "    for pt in res:\n",
    "        id0 = int(pts_m.at[ii, 'grid_i'])\n",
    "        id1 = int(pts_m.at[pt, 'grid_i'])\n",
    "#         print(id0, id1, type(id0), type(id1))\n",
    "        ct0 = pts_m.at[ii, 'breadcrumb_count']\n",
    "        ct1 = pts_m.at[pt, 'breadcrumb_count']\n",
    "        if ct1 == 0:\n",
    "            continue\n",
    "        pts_m.at[ii, 'lat'] = (\n",
    "            (pts_m.at[ii, 'lat'] * ct0\n",
    "             + pts_m.at[pt, 'lat'] * ct1)\n",
    "            / (ct0 + ct1)\n",
    "        )\n",
    "        pts_m.at[ii, 'lon'] = (\n",
    "            (pts_m.at[ii, 'lon'] * ct0\n",
    "             + pts_m.at[pt, 'lon'] * ct1)\n",
    "            / (ct0 + ct1)\n",
    "        )\n",
    "        pts_m.at[ii, 'breadcrumb_count'] = ct0 + ct1\n",
    "        \n",
    "        dict_m[id0] = dict_m[id0].union(dict_m[id1])\n",
    "        dict_m[id1] = set()\n",
    "        \n",
    "        pts_m.at[ii, 'n_routes'] = len(dict_m[id0])\n",
    "        \n",
    "        pts_m.at[pt, 'breadcrumb_count'] = 0"
   ]
  },
  {
   "cell_type": "code",
   "execution_count": null,
   "metadata": {},
   "outputs": [],
   "source": [
    "dict_m[8233796]"
   ]
  },
  {
   "cell_type": "code",
   "execution_count": null,
   "metadata": {},
   "outputs": [],
   "source": [
    "# for key in dd.keys():\n",
    "#     if key not in gpm.grid_i.tolist():\n",
    "#         print(key) \n",
    "# grid_pts.grid_i.tolist()\n",
    "# grid_dict[7625740]\n",
    "# ddkeys = set(dd.keys())\n",
    "# gpmkeys = set(gpm.grid_i.tolist())\n",
    "# gpmkeys - ddkeys\n",
    "gpm[gpm.grid_i == 8233796]"
   ]
  },
  {
   "cell_type": "code",
   "execution_count": null,
   "metadata": {
    "scrolled": true
   },
   "outputs": [],
   "source": [
    "# grid_dict_merge.delete\n",
    "gpm = pts_m.copy()\n",
    "gpm = gpm[gpm.breadcrumb_count > 0]\n",
    "print(gpm.shape, pts_m.shape)\n",
    "# plt.figure(figsize=(20,20))\n",
    "# plt.plot(gpm.lon, gpm.lat, 'k.', markersize=1/1)\n",
    "# ct0 = grid_pts_merge.iloc[ii]\n",
    "#row = grid_pts.iloc[2]\n",
    "# res = tree2.query_radius(\n",
    "#     row[['lat', 'lon']].values.reshape(1, -1), r=1/2000\n",
    "# )\n",
    "# res\n",
    "# # ls = [len(a) for a in overlaps.values()]\n",
    "# # overlaps\n",
    "# a = list(res[0])\n",
    "# a.remove(2)\n",
    "# a\n",
    "print(len(dict_m))\n",
    "pts_m[pts_m.breadcrumb_count == 0].head()\n",
    "# if dict_m[8229796]: print('ok')\n",
    "dd = dict()\n",
    "print(len(dd))\n",
    "n = 0\n",
    "nn = 0\n",
    "for k, v in dict_m.items():\n",
    "    nn += 1\n",
    "    if v:\n",
    "        n += 1\n",
    "        dd[k] = v\n",
    "print(len(dd), n, nn)\n",
    "# plt.ylim(42 + 0.1 * np.array([-1, 1]))\n",
    "# plt.xlim(-74.2 + 0.1 * np.array([-1, 1]))"
   ]
  },
  {
   "cell_type": "code",
   "execution_count": 311,
   "metadata": {
    "scrolled": true
   },
   "outputs": [
    {
     "name": "stdout",
     "output_type": "stream",
     "text": [
      "Looping through route IDs\n",
      "0\n",
      "100\n",
      "200\n",
      "300\n",
      "400\n",
      "500\n",
      "600\n",
      "700\n",
      "800\n",
      "900\n",
      "1000\n",
      "1100\n",
      "1200\n",
      "1300\n",
      "1400\n",
      "1500\n",
      "1600\n",
      "1700\n",
      "1800\n",
      "1900\n",
      "2000\n",
      "2100\n",
      "2200\n",
      "2300\n",
      "2400\n",
      "2500\n",
      "2600\n",
      "2700\n",
      "2800\n",
      "2900\n",
      "3000\n",
      "3100\n",
      "3200\n",
      "3300\n",
      "3400\n",
      "3500\n",
      "3600\n",
      "3700\n",
      "3800\n",
      "3900\n",
      "4000\n",
      "4100\n",
      "4200\n",
      "4300\n",
      "4400\n",
      "4500\n",
      "4600\n",
      "4700\n",
      "4800\n",
      "4900\n",
      "5000\n",
      "5100\n",
      "5200\n",
      "5300\n",
      "5400\n",
      "5500\n",
      "5600\n",
      "5700\n",
      "5800\n",
      "5900\n",
      "6000\n",
      "6100\n",
      "6200\n",
      "6300\n",
      "6400\n",
      "6500\n",
      "6600\n",
      "6700\n",
      "6800\n",
      "6900\n",
      "7000\n",
      "7100\n",
      "7200\n",
      "7300\n",
      "7400\n",
      "7500\n",
      "7600\n",
      "7700\n",
      "7800\n",
      "7900\n",
      "8000\n",
      "8100\n",
      "8200\n",
      "8300\n",
      "8400\n",
      "8500\n",
      "8600\n",
      "8700\n",
      "8800\n",
      "8900\n",
      "9000\n",
      "9100\n",
      "9200\n",
      "9300\n",
      "9400\n",
      "9500\n",
      "9600\n",
      "9700\n",
      "9800\n",
      "9900\n",
      "10000\n",
      "10100\n",
      "10200\n",
      "10300\n",
      "10400\n",
      "10500\n",
      "10600\n",
      "10700\n",
      "10800\n",
      "10900\n",
      "11000\n",
      "11100\n",
      "11200\n",
      "11300\n",
      "11400\n",
      "11500\n",
      "11600\n",
      "11700\n",
      "11800\n",
      "11900\n",
      "12000\n",
      "12100\n",
      "12200\n",
      "12300\n",
      "12400\n",
      "12500\n",
      "12600\n",
      "12700\n",
      "12800\n",
      "12900\n",
      "13000\n",
      "13100\n",
      "13200\n",
      "13300\n",
      "13400\n",
      "13500\n",
      "13600\n",
      "13700\n",
      "13800\n",
      "13900\n",
      "14000\n",
      "14100\n",
      "14200\n",
      "14300\n",
      "14400\n",
      "14500\n",
      "14600\n",
      "14700\n",
      "14800\n",
      "14900\n",
      "15000\n",
      "15100\n",
      "15200\n",
      "15300\n",
      "15400\n",
      "15500\n",
      "15600\n",
      "15700\n",
      "15800\n",
      "15900\n",
      "16000\n",
      "16100\n",
      "16200\n",
      "16300\n",
      "16400\n",
      "16500\n",
      "16600\n",
      "16700\n",
      "16800\n",
      "16900\n",
      "17000\n",
      "17100\n",
      "17200\n",
      "17300\n",
      "17400\n",
      "17500\n",
      "17600\n",
      "17700\n",
      "17800\n",
      "17900\n",
      "18000\n",
      "18100\n",
      "18200\n",
      "18300\n",
      "18400\n",
      "18500\n",
      "18600\n",
      "18700\n",
      "18800\n",
      "18900\n",
      "19000\n",
      "19100\n",
      "19200\n",
      "19300\n",
      "19400\n",
      "19500\n",
      "19600\n",
      "19700\n",
      "19800\n",
      "19900\n",
      "20000\n",
      "20100\n",
      "20200\n",
      "20300\n",
      "20400\n",
      "20500\n",
      "20600\n",
      "20700\n",
      "20800\n"
     ]
    }
   ],
   "source": [
    "# grid_pts, grid_dict = clean_data.load_gridpts('road_backbone_coarse', 'grid_rte_ids_coarse')\n",
    "# clean_data.tidy_road_backbone(grid_pts, grid_dict, 75)\n",
    "grid_pts, grid_dict = clean_data.make_road_backbone()\n",
    "# locs, tree = clean_data.initialise_road_backbone_grid(75, True)\n",
    "# df = pd.read_csv(config.PROCESSED_DATA_PATH + 'trips.csv')\n",
    "# df = clean_data.filter_cleaned_trips(df)\n",
    "\n",
    "# grid_pts = pd.DataFrame(columns=['grid_i', 'lat', 'lon', 'breadcrumb_count'])\n",
    "# grid_dict = collections.defaultdict(set)\n",
    "# print('Looping through route IDs')\n",
    "# rte_ids = df['id'].tolist()\n",
    "# len(rte_ids)"
   ]
  },
  {
   "cell_type": "code",
   "execution_count": 298,
   "metadata": {},
   "outputs": [
    {
     "data": {
      "image/png": "[encoded data removed]",
      "text/plain": [
       "<Figure size 432x288 with 1 Axes>"
      ]
     },
     "metadata": {
      "needs_background": "light"
     },
     "output_type": "display_data"
    }
   ],
   "source": [
    "\n",
    "# grid_dict\n",
    "\n",
    "# plt.plot(grid_pts.lon, grid_pts.lat, 'r.')\n",
    "# # plt.plot(locs.loc[grid_pts.grid_i].lon, locs.loc[grid_pts.grid_i].lat, 'k.', markersize=0.5)\n",
    "# plt.plot(rte.lon, rte.lat, 'k.', markersize=0.5)\n",
    "# d, i = tree.query(rte[['lat', 'lon']])\n"
   ]
  },
  {
   "cell_type": "code",
   "execution_count": 366,
   "metadata": {},
   "outputs": [
    {
     "data": {
      "text/html": [
       "<div>\n",
       "<style scoped>\n",
       "    .dataframe tbody tr th:only-of-type {\n",
       "        vertical-align: middle;\n",
       "    }\n",
       "\n",
       "    .dataframe tbody tr th {\n",
       "        vertical-align: top;\n",
       "    }\n",
       "\n",
       "    .dataframe thead th {\n",
       "        text-align: right;\n",
       "    }\n",
       "</style>\n",
       "<table border=\"1\" class=\"dataframe\">\n",
       "  <thead>\n",
       "    <tr style=\"text-align: right;\">\n",
       "      <th></th>\n",
       "      <th>grid_i</th>\n",
       "      <th>lat</th>\n",
       "      <th>lon</th>\n",
       "      <th>breadcrumb_count</th>\n",
       "      <th>n_routes</th>\n",
       "    </tr>\n",
       "  </thead>\n",
       "  <tbody>\n",
       "    <tr>\n",
       "      <th>0</th>\n",
       "      <td>46333</td>\n",
       "      <td>41.781176</td>\n",
       "      <td>-73.936966</td>\n",
       "      <td>62595.0</td>\n",
       "      <td>398</td>\n",
       "    </tr>\n",
       "    <tr>\n",
       "      <th>1</th>\n",
       "      <td>46334</td>\n",
       "      <td>41.792618</td>\n",
       "      <td>-73.938567</td>\n",
       "      <td>119826.0</td>\n",
       "      <td>376</td>\n",
       "    </tr>\n",
       "    <tr>\n",
       "      <th>2</th>\n",
       "      <td>46335</td>\n",
       "      <td>41.804110</td>\n",
       "      <td>-73.938896</td>\n",
       "      <td>53819.0</td>\n",
       "      <td>264</td>\n",
       "    </tr>\n",
       "    <tr>\n",
       "      <th>3</th>\n",
       "      <td>46633</td>\n",
       "      <td>41.779451</td>\n",
       "      <td>-73.930074</td>\n",
       "      <td>81603.0</td>\n",
       "      <td>358</td>\n",
       "    </tr>\n",
       "    <tr>\n",
       "      <th>4</th>\n",
       "      <td>46634</td>\n",
       "      <td>41.790128</td>\n",
       "      <td>-73.927195</td>\n",
       "      <td>34213.0</td>\n",
       "      <td>231</td>\n",
       "    </tr>\n",
       "  </tbody>\n",
       "</table>\n",
       "</div>"
      ],
      "text/plain": [
       "   grid_i        lat        lon  breadcrumb_count  n_routes\n",
       "0   46333  41.781176 -73.936966           62595.0       398\n",
       "1   46334  41.792618 -73.938567          119826.0       376\n",
       "2   46335  41.804110 -73.938896           53819.0       264\n",
       "3   46633  41.779451 -73.930074           81603.0       358\n",
       "4   46634  41.790128 -73.927195           34213.0       231"
      ]
     },
     "execution_count": 366,
     "metadata": {},
     "output_type": "execute_result"
    }
   ],
   "source": [
    "g2.head()"
   ]
  },
  {
   "cell_type": "code",
   "execution_count": 369,
   "metadata": {},
   "outputs": [
    {
     "data": {
      "text/plain": [
       "(8330, 5)"
      ]
     },
     "execution_count": 369,
     "metadata": {},
     "output_type": "execute_result"
    }
   ],
   "source": [
    "g2.shape"
   ]
  },
  {
   "cell_type": "code",
   "execution_count": 371,
   "metadata": {},
   "outputs": [],
   "source": [
    "# plt.hist(d)\n",
    "#tree = sklearn.neighbors.KDTree(locs)\n",
    "g2, gd2 = clean_data.load_gridpts('road_backbone_coarse', 'grid_rte_ids_coarse')\n",
    "loc_tree = sklearn.neighbors.KDTree(grid_pts[['lat', 'lon']])"
   ]
  },
  {
   "cell_type": "code",
   "execution_count": 192,
   "metadata": {},
   "outputs": [],
   "source": [
    "grid_fine = pd.read_csv(config.MODEL_PATH + 'road_backbone_merged.csv')"
   ]
  },
  {
   "cell_type": "code",
   "execution_count": 313,
   "metadata": {},
   "outputs": [],
   "source": [
    "tree3 = sklearn.neighbors.KDTree(grid_pts[['lat', 'lon']])"
   ]
  },
  {
   "cell_type": "code",
   "execution_count": null,
   "metadata": {},
   "outputs": [],
   "source": [
    "gpm.to_csv(config.MODEL_PATH + 'road_backbone_merged.csv', index=False)\n",
    "gd = dict.fromkeys(dd.keys())\n",
    "for key in gd:\n",
    "    gd[key] = list(dd[key])\n",
    "with open(config.MODEL_PATH + 'grid_rte_ids_merged.json', 'w') as fp:\n",
    "    json.dump(gd, fp)"
   ]
  },
  {
   "cell_type": "code",
   "execution_count": 201,
   "metadata": {},
   "outputs": [],
   "source": [
    "    LAT_RANGE = (40., 44.)\n",
    "    LON_RANGE = (-76., -72.)\n",
    "\n",
    "    lats = np.linspace(LAT_RANGE[0], LAT_RANGE[1],\n",
    "                        pts_per_degree * int((np.ptp(LAT_RANGE))))\n",
    "    lons = np.linspace(LON_RANGE[0], LON_RANGE[1],\n",
    "                        pts_per_degree * int((np.ptp(LON_RANGE))))\n",
    "    all_lats, all_lons = np.meshgrid(lats, lons)\n",
    "    all_lats = all_lats.flatten().tolist()\n",
    "    all_lons = all_lons.flatten().tolist()\n",
    "    locs = pd.DataFrame({'lat': all_lats, 'lon': all_lons})\n"
   ]
  },
  {
   "cell_type": "code",
   "execution_count": 312,
   "metadata": {},
   "outputs": [
    {
     "data": {
      "text/plain": [
       "(90000, 2)"
      ]
     },
     "execution_count": 312,
     "metadata": {},
     "output_type": "execute_result"
    },
    {
     "data": {
      "image/png": "[encoded data removed]",
      "text/plain": [
       "<Figure size 432x288 with 1 Axes>"
      ]
     },
     "metadata": {
      "needs_background": "light"
     },
     "output_type": "display_data"
    }
   ],
   "source": [
    "# plt.plot(grid_fine.lon, grid_fine.lat, 'b.', markersize=0.2)\n",
    "# plt.plot(locs.lon, locs.lat, 'r.', markersize=0.5)\n",
    "plt.plot(grid_pts.lon, grid_pts.lat, 'k.', markersize=0.5)\n",
    "locs.shape"
   ]
  },
  {
   "cell_type": "code",
   "execution_count": 315,
   "metadata": {},
   "outputs": [
    {
     "data": {
      "text/plain": [
       "(8330, 5)"
      ]
     },
     "execution_count": 315,
     "metadata": {},
     "output_type": "execute_result"
    }
   ],
   "source": [
    "grid_pts.shape"
   ]
  },
  {
   "cell_type": "code",
   "execution_count": 189,
   "metadata": {},
   "outputs": [],
   "source": [
    "dists, inds = tree3.query(np.array([[41, -74.5]]), k=4000)\n",
    "# dists = dists.flatten()\n",
    "# inds = inds.flatten()\n",
    "# inds.shape\n",
    "# # plt.hist(dists)"
   ]
  },
  {
   "cell_type": "code",
   "execution_count": 421,
   "metadata": {},
   "outputs": [],
   "source": [
    "# grid_points, grid_dict = clean_data.load_gridpts('road_backbone_merged', 'grid_rte_ids_merged')\n",
    "grid_points, grid_dict = clean_data.load_gridpts('road_backbone_coarse', 'grid_rte_ids_coarse')"
   ]
  },
  {
   "cell_type": "code",
   "execution_count": 379,
   "metadata": {
    "scrolled": false
   },
   "outputs": [
    {
     "ename": "ValueError",
     "evalue": "too many values to unpack (expected 2)",
     "output_type": "error",
     "traceback": [
      "\u001b[0;31m---------------------------------------------------------------------------\u001b[0m",
      "\u001b[0;31mValueError\u001b[0m                                Traceback (most recent call last)",
      "\u001b[0;32m<ipython-input-379-c453e3fbe8ec>\u001b[0m in \u001b[0;36m<module>\u001b[0;34m\u001b[0m\n\u001b[0;32m----> 1\u001b[0;31m \u001b[0mkeys\u001b[0m\u001b[0;34m,\u001b[0m \u001b[0mvals\u001b[0m \u001b[0;34m=\u001b[0m \u001b[0mrd\u001b[0m\u001b[0;34m.\u001b[0m\u001b[0mitems\u001b[0m\u001b[0;34m(\u001b[0m\u001b[0;34m)\u001b[0m\u001b[0;34m\u001b[0m\u001b[0;34m\u001b[0m\u001b[0m\n\u001b[0m\u001b[1;32m      2\u001b[0m \u001b[0mpd\u001b[0m\u001b[0;34m.\u001b[0m\u001b[0mDataFrame\u001b[0m\u001b[0;34m(\u001b[0m\u001b[0;34m{\u001b[0m\u001b[0;34m'rte_ids'\u001b[0m\u001b[0;34m:\u001b[0m \u001b[0mkeys\u001b[0m\u001b[0;34m,\u001b[0m \u001b[0;34m'grid'\u001b[0m\u001b[0;34m:\u001b[0m \u001b[0mvals\u001b[0m\u001b[0;34m}\u001b[0m\u001b[0;34m)\u001b[0m\u001b[0;34m\u001b[0m\u001b[0;34m\u001b[0m\u001b[0m\n",
      "\u001b[0;31mValueError\u001b[0m: too many values to unpack (expected 2)"
     ]
    }
   ],
   "source": [
    "keys, vals = rd.items()\n",
    "pd.DataFrame({'rte_ids': keys, 'grid': vals})"
   ]
  },
  {
   "cell_type": "code",
   "execution_count": 377,
   "metadata": {},
   "outputs": [],
   "source": [
    "with open(config.MODEL_PATH + 'rte_dict_fine.json', 'r') as fp:\n",
    "    rd = json.load(fp)"
   ]
  },
  {
   "cell_type": "code",
   "execution_count": 376,
   "metadata": {},
   "outputs": [],
   "source": [
    "with open(config.MODEL_PATH + 'rte_dict_fine.json', 'w') as fp:\n",
    "    json.dump(rte_dict, fp)"
   ]
  },
  {
   "cell_type": "code",
   "execution_count": 373,
   "metadata": {},
   "outputs": [],
   "source": [
    "rte_dict = collections.defaultdict(list)\n",
    "for grid_id, rte_set in grid_dict.items():\n",
    "    for rte_id in rte_set:\n",
    "        rte_dict[rte_id] += [grid_id]\n",
    "\n"
   ]
  },
  {
   "cell_type": "code",
   "execution_count": 397,
   "metadata": {
    "scrolled": false
   },
   "outputs": [
    {
     "data": {
      "text/plain": [
       "(-76.0, -73.0)"
      ]
     },
     "execution_count": 397,
     "metadata": {},
     "output_type": "execute_result"
    },
    {
     "data": {
      "image/png": "[encoded data removed]",
      "text/plain": [
       "<Figure size 432x288 with 1 Axes>"
      ]
     },
     "metadata": {
      "needs_background": "light"
     },
     "output_type": "display_data"
    }
   ],
   "source": [
    "# print(grid_pts.iloc[inds[0][0]])\n",
    "qlat = 42\n",
    "qlon = -74.5\n",
    "\n",
    "dists, inds = tree3.query(np.array([[qlat, qlon]]), k=4000)\n",
    "\n",
    "plt.plot(grid_pts.lon, grid_pts.lat, 'k.', markersize=0.5)\n",
    "plt.plot(qlon, qlat, 'ro', markersize=2)\n",
    "for i in range(0, 30, 2):\n",
    "    plt.plot(grid_pts.at[inds[0][i], 'lon'], \n",
    "             grid_pts.at[inds[0][i], 'lat'], 'b.')\n",
    "plt.ylim(qlat + 3 * np.array([-0.5, 0.5]))\n",
    "plt.xlim(qlon + 3 * np.array([-0.5, 0.5]))"
   ]
  },
  {
   "cell_type": "code",
   "execution_count": 435,
   "metadata": {},
   "outputs": [],
   "source": [
    "def calc_dist_point_to_grid(start_lat, start_lon, grid_pts, grid_dict, loc_tree):\n",
    "    dists, inds = loc_tree.query(np.array([[start_lat, start_lon]]), k=4000)\n",
    "    dists *= mapping.degrees_to_miles_ish(1)\n",
    "    rtes_done = set()\n",
    "    ds = []\n",
    "    for dist_to_point, i in zip(dists.ravel(), inds.ravel()):\n",
    "        grid_id = grid_pts.at[i, 'grid_i']\n",
    "        rtes_at_point = grid_dict[grid_id].copy()\n",
    "        rtes_at_point -= rtes_done\n",
    "        ds += [{'dist_to_start': dist_to_point, 'id': rte} for rte in rtes_at_point]\n",
    "        rtes_done = rtes_done.union(rtes_at_point)\n",
    "\n",
    "    return pd.DataFrame(ds)\n",
    "\n",
    "def fit_tree(df, feature_importance):\n",
    "    LEAF_SIZE = 20\n",
    "    return sklearn.neighbors.KDTree(df * feature_importance, leaf_size=LEAF_SIZE)"
   ]
  },
  {
   "cell_type": "code",
   "execution_count": 424,
   "metadata": {},
   "outputs": [],
   "source": [
    "loc_tree = sklearn.neighbors.KDTree(grid_pts[['lat', 'lon']])\n",
    "ds = calc_dist_point_to_grid(42, -74.5, grid_pts, grid_dict, loc_tree)"
   ]
  },
  {
   "cell_type": "code",
   "execution_count": 431,
   "metadata": {
    "scrolled": true
   },
   "outputs": [],
   "source": [
    "data = pd.read_csv(config.PROCESSED_DATA_PATH + 'trips.csv', index_col=0)\n",
    "feature_importance = [1] * data.shape[1]"
   ]
  },
  {
   "cell_type": "code",
   "execution_count": 485,
   "metadata": {},
   "outputs": [],
   "source": [
    "data_loc = pd.merge(data, ds, on='id', how='inner')\n",
    "data_loc = data_loc[data_loc['dist_to_start'] < 10]\n",
    "data_loc = data_loc.set_index('id')#.drop(['dist_to_start'], axis=1)\n",
    "data_loc.head()\n",
    "tree = fit_tree(data_loc, feature_importance + [1])"
   ]
  },
  {
   "cell_type": "code",
   "execution_count": 488,
   "metadata": {},
   "outputs": [
    {
     "data": {
      "text/html": [
       "<div>\n",
       "<style scoped>\n",
       "    .dataframe tbody tr th:only-of-type {\n",
       "        vertical-align: middle;\n",
       "    }\n",
       "\n",
       "    .dataframe tbody tr th {\n",
       "        vertical-align: top;\n",
       "    }\n",
       "\n",
       "    .dataframe thead th {\n",
       "        text-align: right;\n",
       "    }\n",
       "</style>\n",
       "<table border=\"1\" class=\"dataframe\">\n",
       "  <thead>\n",
       "    <tr style=\"text-align: right;\">\n",
       "      <th></th>\n",
       "      <th>dist_to_start</th>\n",
       "    </tr>\n",
       "    <tr>\n",
       "      <th>id</th>\n",
       "      <th></th>\n",
       "    </tr>\n",
       "  </thead>\n",
       "  <tbody>\n",
       "    <tr>\n",
       "      <th>25964515</th>\n",
       "      <td>0.683691</td>\n",
       "    </tr>\n",
       "    <tr>\n",
       "      <th>15359285</th>\n",
       "      <td>0.683691</td>\n",
       "    </tr>\n",
       "    <tr>\n",
       "      <th>13204079</th>\n",
       "      <td>0.683691</td>\n",
       "    </tr>\n",
       "    <tr>\n",
       "      <th>11522854</th>\n",
       "      <td>0.683691</td>\n",
       "    </tr>\n",
       "    <tr>\n",
       "      <th>39076687</th>\n",
       "      <td>0.683691</td>\n",
       "    </tr>\n",
       "  </tbody>\n",
       "</table>\n",
       "</div>"
      ],
      "text/plain": [
       "          dist_to_start\n",
       "id                     \n",
       "25964515       0.683691\n",
       "15359285       0.683691\n",
       "13204079       0.683691\n",
       "11522854       0.683691\n",
       "39076687       0.683691"
      ]
     },
     "execution_count": 488,
     "metadata": {},
     "output_type": "execute_result"
    }
   ],
   "source": [
    "dists = data_loc[['dist_to_start']].copy()\n",
    "dists.iloc[ind[0]]"
   ]
  },
  {
   "cell_type": "code",
   "execution_count": 487,
   "metadata": {},
   "outputs": [],
   "source": [
    "chosen = pd.DataFrame([[20, 5, 10., 0.85, 0]], columns=data_loc.columns)\n",
    "# chosen['dist_to_start'] = 0\n",
    "N_RIDES = 5\n",
    "\n",
    "dist, ind = tree.query(chosen, N_RIDES)"
   ]
  },
  {
   "cell_type": "code",
   "execution_count": 494,
   "metadata": {},
   "outputs": [
    {
     "data": {
      "text/html": [
       "<div>\n",
       "<style scoped>\n",
       "    .dataframe tbody tr th:only-of-type {\n",
       "        vertical-align: middle;\n",
       "    }\n",
       "\n",
       "    .dataframe tbody tr th {\n",
       "        vertical-align: top;\n",
       "    }\n",
       "\n",
       "    .dataframe thead th {\n",
       "        text-align: right;\n",
       "    }\n",
       "</style>\n",
       "<table border=\"1\" class=\"dataframe\">\n",
       "  <thead>\n",
       "    <tr style=\"text-align: right;\">\n",
       "      <th></th>\n",
       "      <th>distance</th>\n",
       "      <th>avg_slope</th>\n",
       "      <th>avg_speed</th>\n",
       "      <th>prop_moving</th>\n",
       "      <th>dist_to_start</th>\n",
       "    </tr>\n",
       "    <tr>\n",
       "      <th>id</th>\n",
       "      <th></th>\n",
       "      <th></th>\n",
       "      <th></th>\n",
       "      <th></th>\n",
       "      <th></th>\n",
       "    </tr>\n",
       "  </thead>\n",
       "  <tbody>\n",
       "    <tr>\n",
       "      <th>25964515</th>\n",
       "      <td>4.348325</td>\n",
       "      <td>0.330235</td>\n",
       "      <td>1.118347</td>\n",
       "      <td>-0.195541</td>\n",
       "      <td>0.683691</td>\n",
       "    </tr>\n",
       "    <tr>\n",
       "      <th>15359285</th>\n",
       "      <td>4.354388</td>\n",
       "      <td>1.079825</td>\n",
       "      <td>0.729933</td>\n",
       "      <td>-0.698456</td>\n",
       "      <td>0.683691</td>\n",
       "    </tr>\n",
       "    <tr>\n",
       "      <th>13204079</th>\n",
       "      <td>4.059878</td>\n",
       "      <td>0.277750</td>\n",
       "      <td>1.270084</td>\n",
       "      <td>-0.594755</td>\n",
       "      <td>0.683691</td>\n",
       "    </tr>\n",
       "    <tr>\n",
       "      <th>11522854</th>\n",
       "      <td>4.022439</td>\n",
       "      <td>0.921954</td>\n",
       "      <td>0.936117</td>\n",
       "      <td>-0.229824</td>\n",
       "      <td>0.683691</td>\n",
       "    </tr>\n",
       "    <tr>\n",
       "      <th>39076687</th>\n",
       "      <td>3.450517</td>\n",
       "      <td>-0.182885</td>\n",
       "      <td>2.213589</td>\n",
       "      <td>-0.061323</td>\n",
       "      <td>0.683691</td>\n",
       "    </tr>\n",
       "  </tbody>\n",
       "</table>\n",
       "</div>"
      ],
      "text/plain": [
       "          distance  avg_slope  avg_speed  prop_moving  dist_to_start\n",
       "id                                                                  \n",
       "25964515  4.348325   0.330235   1.118347    -0.195541       0.683691\n",
       "15359285  4.354388   1.079825   0.729933    -0.698456       0.683691\n",
       "13204079  4.059878   0.277750   1.270084    -0.594755       0.683691\n",
       "11522854  4.022439   0.921954   0.936117    -0.229824       0.683691\n",
       "39076687  3.450517  -0.182885   2.213589    -0.061323       0.683691"
      ]
     },
     "execution_count": 494,
     "metadata": {},
     "output_type": "execute_result"
    }
   ],
   "source": [
    "d = data_loc.iloc[ind[0]].copy()\n",
    "d['dist_to_start'] = dists.iloc[ind[0]]\n",
    "d"
   ]
  },
  {
   "cell_type": "code",
   "execution_count": 413,
   "metadata": {},
   "outputs": [],
   "source": [
    "rtes_done = set()\n",
    "ds = []\n",
    "for dist_to_point, i in zip(dists.ravel(), inds.ravel()):\n",
    "    grid_id = grid_pts.at[i, 'grid_i']\n",
    "    rtes_at_point = grid_dict[grid_id].copy()\n",
    "    rtes_at_point -= rtes_done\n",
    "    ds += [{'dist_to_start': dist_to_point, 'id': rte} for rte in rtes_at_point]\n",
    "    rtes_done = rtes_done.union(rtes_at_point)\n",
    "\n",
    "dist_to_start = pd.DataFrame(ds)\n",
    "dist_to_start['dist_to_start'] *= mapping.degrees_to_miles_ish(1)   \n",
    "    \n",
    "    \n"
   ]
  },
  {
   "cell_type": "code",
   "execution_count": 400,
   "metadata": {},
   "outputs": [
    {
     "data": {
      "text/html": [
       "<div>\n",
       "<style scoped>\n",
       "    .dataframe tbody tr th:only-of-type {\n",
       "        vertical-align: middle;\n",
       "    }\n",
       "\n",
       "    .dataframe tbody tr th {\n",
       "        vertical-align: top;\n",
       "    }\n",
       "\n",
       "    .dataframe thead th {\n",
       "        text-align: right;\n",
       "    }\n",
       "</style>\n",
       "<table border=\"1\" class=\"dataframe\">\n",
       "  <thead>\n",
       "    <tr style=\"text-align: right;\">\n",
       "      <th></th>\n",
       "      <th>distance</th>\n",
       "      <th>rte_id</th>\n",
       "    </tr>\n",
       "  </thead>\n",
       "  <tbody>\n",
       "    <tr>\n",
       "      <th>17938</th>\n",
       "      <td>36.124781</td>\n",
       "      <td>28890931</td>\n",
       "    </tr>\n",
       "    <tr>\n",
       "      <th>17939</th>\n",
       "      <td>36.124781</td>\n",
       "      <td>40665016</td>\n",
       "    </tr>\n",
       "    <tr>\n",
       "      <th>17940</th>\n",
       "      <td>36.124781</td>\n",
       "      <td>44102719</td>\n",
       "    </tr>\n",
       "    <tr>\n",
       "      <th>17941</th>\n",
       "      <td>36.125714</td>\n",
       "      <td>15779091</td>\n",
       "    </tr>\n",
       "    <tr>\n",
       "      <th>17942</th>\n",
       "      <td>36.133216</td>\n",
       "      <td>4735395</td>\n",
       "    </tr>\n",
       "  </tbody>\n",
       "</table>\n",
       "</div>"
      ],
      "text/plain": [
       "        distance    rte_id\n",
       "17938  36.124781  28890931\n",
       "17939  36.124781  40665016\n",
       "17940  36.124781  44102719\n",
       "17941  36.125714  15779091\n",
       "17942  36.133216   4735395"
      ]
     },
     "execution_count": 400,
     "metadata": {},
     "output_type": "execute_result"
    }
   ],
   "source": [
    "\n",
    "dist_to_start.tail()"
   ]
  },
  {
   "cell_type": "code",
   "execution_count": 407,
   "metadata": {},
   "outputs": [
    {
     "data": {
      "text/plain": [
       "array([[ 0.68369082,  0.85818465,  0.9198258 , ..., 36.14257619,\n",
       "        36.1514648 , 36.15838965]])"
      ]
     },
     "execution_count": 407,
     "metadata": {},
     "output_type": "execute_result"
    }
   ],
   "source": [
    "dists * mapping.degrees_to_miles_ish(1)"
   ]
  },
  {
   "cell_type": "code",
   "execution_count": 353,
   "metadata": {},
   "outputs": [
    {
     "data": {
      "text/plain": [
       "60.2"
      ]
     },
     "execution_count": 353,
     "metadata": {},
     "output_type": "execute_result"
    }
   ],
   "source": [
    "mapping.degrees_to_miles_ish(1)"
   ]
  },
  {
   "cell_type": "code",
   "execution_count": 152,
   "metadata": {},
   "outputs": [
    {
     "name": "stdout",
     "output_type": "stream",
     "text": [
      "6921362\n"
     ]
    },
    {
     "data": {
      "text/plain": [
       "{36853568, 55741802, 56395459}"
      ]
     },
     "execution_count": 152,
     "metadata": {},
     "output_type": "execute_result"
    }
   ],
   "source": [
    "# grid_dict_safe = grid_dict.copy()\n",
    "print(grid_id)\n",
    "grid_dict[grid_id]"
   ]
  },
  {
   "cell_type": "code",
   "execution_count": 145,
   "metadata": {},
   "outputs": [
    {
     "data": {
      "text/plain": [
       "0.31915188564850566"
      ]
     },
     "execution_count": 145,
     "metadata": {},
     "output_type": "execute_result"
    }
   ],
   "source": [
    "dists[0][206]"
   ]
  },
  {
   "cell_type": "code",
   "execution_count": 147,
   "metadata": {
    "scrolled": true
   },
   "outputs": [
    {
     "name": "stdout",
     "output_type": "stream",
     "text": [
      "5957319\n"
     ]
    },
    {
     "data": {
      "text/plain": [
       "{18160158, 18160685, 18370470, 54996061, 54999229, 55346510}"
      ]
     },
     "execution_count": 147,
     "metadata": {},
     "output_type": "execute_result"
    }
   ],
   "source": [
    "i = np.where(dists[0] == dist_to_start.at[2, 'distance'])\n",
    "grid_id = grid_pts.at[inds[0][i[0][0]], 'grid_i']\n",
    "print(grid_id)\n",
    "grid_dict[grid_id]"
   ]
  },
  {
   "cell_type": "code",
   "execution_count": 156,
   "metadata": {
    "scrolled": true
   },
   "outputs": [
    {
     "data": {
      "text/plain": [
       "(50,)"
      ]
     },
     "execution_count": 156,
     "metadata": {},
     "output_type": "execute_result"
    }
   ],
   "source": [
    "dist_to_start.rte_id.shape"
   ]
  },
  {
   "cell_type": "code",
   "execution_count": null,
   "metadata": {},
   "outputs": [],
   "source": [
    "b = set([1])\n",
    "b.add(1)\n",
    "b\n",
    "# j2 = clean_data.add_rte_info_to_grid(gp, a)\n",
    "# j2.dtypes = ['int', 'float', 'float', 'int']"
   ]
  },
  {
   "cell_type": "code",
   "execution_count": null,
   "metadata": {},
   "outputs": [],
   "source": [
    "a.loc[0] = [8281953, 41, -74, 10]\n",
    "j = pd.merge(gp, a, on='grid_i', how='outer').fillna(0)\n",
    "r1_weights = j.breadcrumb_count_x.values\n",
    "r2_weights = j.breadcrumb_count_y.values\n",
    "j['lat'] = (j.lat_x * r1_weights + j.lat_y * r2_weights) / (r1_weights + r2_weights)\n",
    "j['lon'] = (j.lon_x * r1_weights + j.lon_y * r2_weights) / (r1_weights + r2_weights)\n",
    "j.head()"
   ]
  },
  {
   "cell_type": "code",
   "execution_count": null,
   "metadata": {
    "scrolled": true
   },
   "outputs": [],
   "source": [
    "d, i = tree.query(res[['lat', 'lon']])\n",
    "\n",
    "plt.plot(res.lon, res.lat, 'k.')\n",
    "plt.plot(locs.iloc[np.unique(i)].lon, locs.iloc[np.unique(i)].lat, 'ro')\n",
    "\n",
    "# i.ravel().tolist()\n",
    "res['lat_grid'] = locs.iloc[i.ravel()].lat.reset_index(drop=True)\n",
    "res['lon_grid'] = locs.iloc[i.ravel()].lon.reset_index(drop=True)\n",
    "res['grid_i'] = i\n",
    "\n",
    "res.head()\n",
    "\n",
    "a = res.groupby(['grid_i'])[['lat', 'lon']].agg(['mean', 'count'])\n",
    "a.columns = ['lat', 'count', 'lon', 'duplicate']\n",
    "a = a[['lat', 'lon', 'count']]\n",
    "a.head()\n",
    "# plt.plot(a.lon, a.lat, 'g*')\n",
    "# plt.gca().set_aspect('equal')"
   ]
  },
  {
   "cell_type": "code",
   "execution_count": null,
   "metadata": {},
   "outputs": [],
   "source": [
    "grid_pts = pd.DataFrame(columns=['lat', 'lon', 'breadcrumb_count'])\n",
    "grid_pts"
   ]
  },
  {
   "cell_type": "code",
   "execution_count": null,
   "metadata": {
    "scrolled": true
   },
   "outputs": [],
   "source": []
  },
  {
   "cell_type": "code",
   "execution_count": null,
   "metadata": {},
   "outputs": [],
   "source": [
    "import joblib\n",
    "joblib.dump(tree, config.MODEL_PATH + 'kdTree_locs.joblib')"
   ]
  },
  {
   "cell_type": "code",
   "execution_count": null,
   "metadata": {},
   "outputs": [],
   "source": [
    "max_dists = np.array(max_dists)\n",
    "ind = np.where(max_dists > 0.2)\n",
    "print(np.where(max_dists[ind] < 0.5))\n",
    "res = pd.read_csv(config.CLEAN_TRIPS_PATH + '{}.csv'.format(\n",
    "    df.id.iloc[139]))\n",
    "plt.plot(res.lon, res.lat)\n",
    "print(res.dist.max())"
   ]
  },
  {
   "cell_type": "code",
   "execution_count": null,
   "metadata": {},
   "outputs": [],
   "source": [
    "res = pd.read_csv(config.CLEAN_TRIPS_PATH + '{}.csv'.format(df.id[0]))\n",
    "res.head()\n",
    "# trip_xy = res.iloc[[0]][['lat', 'lon']]\n",
    "# plt.plot(trip_xy.x, trip_xy.y, 'k-')\n",
    "# max_dists = []\n",
    "# for i, rid in enumerate(df.id.tolist()):\n",
    "# #     if i == 20: break\n",
    "#     if not i % 2000: print(i)\n",
    "#     if not (i + 1) % 10:\n",
    "#         res = pd.read_csv(config.CLEAN_TRIPS_PATH + '{}.csv'.format(rid))\n",
    "#         trip_xy = trip_xy.append(res[['lat', 'lon']].iloc[::10])\n",
    "# #         max_dists += [res.dist.max()]\n",
    "    \n",
    "    "
   ]
  },
  {
   "cell_type": "code",
   "execution_count": null,
   "metadata": {},
   "outputs": [],
   "source": [
    "plt.figure(figsize=(15, 15))\n",
    "plt.plot(trip_xy.lon, trip_xy.lat, 'k.', markersize=0.5)"
   ]
  },
  {
   "cell_type": "code",
   "execution_count": null,
   "metadata": {},
   "outputs": [],
   "source": [
    "# for rte_id in df.id.tolist():\n",
    "#     get_data.ridewithgps_api_trip(rte_id)\n",
    "rte_id = df[df.labels == 5].id.sample().iloc[0]\n",
    "print(df[df.id == rte_id].labels.values)\n",
    "print(trips[trips.id == rte_id][['id', 'distance', 'elevation_gain', 'avg_speed', 'prop_moving', 'duration']])\n",
    "a = pd.read_csv(config.RAW_TRIPS_PATH + '{}.csv'.format(rte_id))\n",
    "a.head()"
   ]
  },
  {
   "cell_type": "code",
   "execution_count": null,
   "metadata": {},
   "outputs": [],
   "source": [
    "WINDOW_LENGTH_LATLON = 25\n",
    "WINDOW_LENGTH_SPEED = 50\n",
    "WINDOW_LENGTH_ELEVATION = 50\n",
    "\n",
    "df = a[['y','x','e','t']].dropna().reset_index(drop=True)\n",
    "df.rename(columns={'y':'lat', 'x':'lon', 'e':'elevation', 't':'time'}, inplace=True)\n",
    "# df['lat'] = clean_data.moving_window_average(df['lat'], WINDOW_LENGTH_LATLON)\n",
    "# df['lon'] = clean_data.moving_window_average(df['lon'], WINDOW_LENGTH_LATLON)\n",
    "# df['elevation'] = clean_data.moving_window_average(df['elevation'], WINDOW_LENGTH_ELEVATION)\n",
    "\n",
    "# Calculate distance\n",
    "offset = df.iloc[1:][['lat', 'lon']].copy()\n",
    "offset = offset.append(offset.iloc[-1])\n",
    "\n",
    "df.head()"
   ]
  },
  {
   "cell_type": "code",
   "execution_count": null,
   "metadata": {},
   "outputs": [],
   "source": [
    "a = pd.read_csv(config.RAW_TRIPS_PATH + '{}.csv'.format(rte_id))\n",
    "b = pd.DataFrame()\n",
    "# if b.empty():#set(['x','y']) - set(a.columns):\n",
    "#     print('uh oh')\n",
    "b.empty"
   ]
  },
  {
   "cell_type": "markdown",
   "metadata": {},
   "source": [
    "# This one below is the cleaning one"
   ]
  },
  {
   "cell_type": "code",
   "execution_count": null,
   "metadata": {},
   "outputs": [],
   "source": [
    "for i, rte_id in enumerate(df.id.tolist()):\n",
    "    if not i % 100: print(i)\n",
    "    if os.path.exists(config.CLEAN_TRIPS_PATH + '{}.csv'.format(rte_id)):\n",
    "        continuea\n",
    "        \n",
    "    a = pd.read_csv(config.RAW_TRIPS_PATH + '{}.csv'.format(rte_id))\n",
    "    c = clean_data.clean_single_trip(a)\n",
    "    if not c.empty:\n",
    "        c.to_csv(config.CLEAN_TRIPS_PATH + '{}.csv'.format(rte_id), index=False)"
   ]
  },
  {
   "cell_type": "code",
   "execution_count": null,
   "metadata": {},
   "outputs": [],
   "source": [
    "c = clean_data.clean_single_trip(a)\n",
    "plt.plot(c.cum_dist, c.speed)\n",
    "# plt.plot(c.cum_dist, c.slope * 10)\n",
    "# plt.plot(c.lon, c.lat)\n",
    "\n",
    "# plt.plot(clean_data.moving_window_average((c.lon +74) * 100, 4))"
   ]
  },
  {
   "cell_type": "code",
   "execution_count": null,
   "metadata": {},
   "outputs": [],
   "source": [
    "df.head()"
   ]
  },
  {
   "cell_type": "code",
   "execution_count": null,
   "metadata": {
    "scrolled": true
   },
   "outputs": [],
   "source": [
    "plt.plot(c.elevation - b.e)"
   ]
  },
  {
   "cell_type": "code",
   "execution_count": null,
   "metadata": {
    "scrolled": true
   },
   "outputs": [],
   "source": [
    "b = a[['x', 'y', 'e', 't']].copy()\n",
    "b['x2'] = a.x[1:].tolist() + [a.iloc[-1].x]\n",
    "b['y2'] = a.y[1:].tolist() + [a.iloc[-1].y]\n",
    "b['d'] = mapping.dist_lat_lon(b.y, b.x, b.y2, b.x2)\n",
    "b['cum_d'] = np.cumsum(b['d'])\n",
    "b['t'] = (b['t'] - b['t'].min())\n",
    "b['dt'] = b['t'].diff()\n",
    "b['slope'] = mapping.metres_to_miles(b.e.diff()) / b.d * 100\n",
    "b['slope'].fillna(0, inplace=True)\n",
    "b.at[b['d'] == 0, 'slope'] = 0\n",
    "b['slope'] = clean_data.moving_window_average(b['slope'], 50)\n",
    "b['speed_rough'] = b.d / (b['t'].diff() / 60 / 60)\n",
    "b['speed'] = clean_data.moving_window_average(b['speed_rough'], 50)\n",
    "plt.plot(np.cumsum(b.d), b.slope)\n",
    "# plt.plot(b.cum_d, b.speed)\n",
    "# plt.plot(mapping.metres_to_miles(a.d),mapping.mps_to_mph(a.s), 50)\n",
    "# plt.xlim([1.5, 1.55])"
   ]
  },
  {
   "cell_type": "code",
   "execution_count": null,
   "metadata": {
    "scrolled": true
   },
   "outputs": [],
   "source": [
    "# b[b.d < 0.002]['dt'].sum() / 60\n",
    "# b[1.5 <= b.speed_rough].speed.mean()\n",
    "b[b.speed_rough < 1.5].dt.sum() / 60 / 60"
   ]
  },
  {
   "cell_type": "code",
   "execution_count": null,
   "metadata": {},
   "outputs": [],
   "source": [
    "clean_data.check_missing(a)"
   ]
  },
  {
   "cell_type": "code",
   "execution_count": null,
   "metadata": {},
   "outputs": [],
   "source": [
    "plt.plot(mapping.metres_to_miles(a['d']), a['s'])\n",
    "plt.plot(mapping.metres_to_miles(a['d']), a['e'])\n"
   ]
  },
  {
   "cell_type": "code",
   "execution_count": null,
   "metadata": {},
   "outputs": [],
   "source": [
    "# This doesn't work - more tightly spaced in areas with more points\n",
    "# res = pd.read_csv(config.CLEAN_TRIPS_PATH + '{}.csv'.format(df.id[0]))\n",
    "# trip_xy = res[['lat', 'lon']]\n",
    "BLOB_SPACING_M = 1000\n",
    "cl = sklearn.cluster.AgglomerativeClustering(n_clusters=None, \n",
    "                                             distance_threshold=1/116000*BLOB_SPACING_M)\n",
    "labels = cl.fit_predict(trip_xy)\n",
    "print('Clustering done')\n",
    "n_labels = len(np.unique(labels))\n",
    "cluster_centres = np.zeros((n_labels, 2))\n",
    "for i, lab in enumerate(np.unique(labels)):\n",
    "    cluster_centres[i, 0] = trip_xy[labels == lab].lat.mean()\n",
    "    cluster_centres[i, 1] = trip_xy[labels == lab].lon.mean()\n",
    "    \n",
    "    "
   ]
  },
  {
   "cell_type": "code",
   "execution_count": null,
   "metadata": {},
   "outputs": [],
   "source": [
    "plt.figure(figsize=(15, 15))\n",
    "plt.plot(trip_xy.lon, trip_xy.lat, 'k.', markersize=0.5)\n",
    "# plt.plot(cl.cluster_centers_[:, 0], cl.cluster_centers_[:, 1], 'ro')\n",
    "# plt.plot(cluster_centres[:, 1], cluster_centres[:, 0], 'ro')\n",
    "# plt.xlim([-73.94, -73.92])\n",
    "# plt.ylim([41.75, 41.825])"
   ]
  }
 ],
 "metadata": {
  "kernelspec": {
   "display_name": "Python 3",
   "language": "python",
   "name": "python3"
  },
  "language_info": {
   "codemirror_mode": {
    "name": "ipython",
    "version": 3
   },
   "file_extension": ".py",
   "mimetype": "text/x-python",
   "name": "python",
   "nbconvert_exporter": "python",
   "pygments_lexer": "ipython3",
   "version": "3.8.5"
  }
 },
 "nbformat": 4,
 "nbformat_minor": 4
}
