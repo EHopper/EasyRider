{
 "cells": [
  {
   "cell_type": "code",
   "execution_count": 1,
   "metadata": {},
   "outputs": [],
   "source": [
    "%load_ext autoreload\n",
    "%autoreload 2\n",
    "\n",
    "%matplotlib inline"
   ]
  },
  {
   "cell_type": "code",
   "execution_count": 3,
   "metadata": {},
   "outputs": [],
   "source": [
    "import requests\n",
    "import pandas as pd\n",
    "import numpy as np\n",
    "import matplotlib.pyplot as plt\n",
    "import seaborn as sns\n",
    "import os\n",
    "import datetime\n",
    "import re\n",
    "\n",
    "\n",
    "from util import get_data\n",
    "from util import mapping\n",
    "from util import clean_data\n",
    "from util import config\n",
    "from util import plot_clusters"
   ]
  },
  {
   "cell_type": "code",
   "execution_count": 38,
   "metadata": {},
   "outputs": [
    {
     "data": {
      "text/html": [
       "<div>\n",
       "<style scoped>\n",
       "    .dataframe tbody tr th:only-of-type {\n",
       "        vertical-align: middle;\n",
       "    }\n",
       "\n",
       "    .dataframe tbody tr th {\n",
       "        vertical-align: top;\n",
       "    }\n",
       "\n",
       "    .dataframe thead th {\n",
       "        text-align: right;\n",
       "    }\n",
       "</style>\n",
       "<table border=\"1\" class=\"dataframe\">\n",
       "  <thead>\n",
       "    <tr style=\"text-align: right;\">\n",
       "      <th></th>\n",
       "      <th>id</th>\n",
       "      <th>labels</th>\n",
       "    </tr>\n",
       "  </thead>\n",
       "  <tbody>\n",
       "    <tr>\n",
       "      <th>0</th>\n",
       "      <td>23209396</td>\n",
       "      <td>2</td>\n",
       "    </tr>\n",
       "    <tr>\n",
       "      <th>1</th>\n",
       "      <td>54372107</td>\n",
       "      <td>2</td>\n",
       "    </tr>\n",
       "    <tr>\n",
       "      <th>2</th>\n",
       "      <td>48496079</td>\n",
       "      <td>2</td>\n",
       "    </tr>\n",
       "    <tr>\n",
       "      <th>3</th>\n",
       "      <td>40433541</td>\n",
       "      <td>2</td>\n",
       "    </tr>\n",
       "    <tr>\n",
       "      <th>4</th>\n",
       "      <td>47936294</td>\n",
       "      <td>5</td>\n",
       "    </tr>\n",
       "  </tbody>\n",
       "</table>\n",
       "</div>"
      ],
      "text/plain": [
       "         id  labels\n",
       "0  23209396       2\n",
       "1  54372107       2\n",
       "2  48496079       2\n",
       "3  40433541       2\n",
       "4  47936294       5"
      ]
     },
     "execution_count": 38,
     "metadata": {},
     "output_type": "execute_result"
    }
   ],
   "source": [
    "df = pd.read_csv(config.PROCESSED_DATA_PATH + 'ridewgps_labelled.csv')\n",
    "trips = clean_data.load_clean_ridewgps_trips()\n",
    "df.head()"
   ]
  },
  {
   "cell_type": "code",
   "execution_count": 208,
   "metadata": {},
   "outputs": [
    {
     "data": {
      "text/plain": [
       "11990224"
      ]
     },
     "execution_count": 208,
     "metadata": {},
     "output_type": "execute_result"
    }
   ],
   "source": [
    "df[df.labels == 5].id.sample().iloc[0]"
   ]
  },
  {
   "cell_type": "code",
   "execution_count": 209,
   "metadata": {},
   "outputs": [
    {
     "name": "stdout",
     "output_type": "stream",
     "text": [
      "[5]\n",
      "            id  distance  elevation_gain  avg_speed  prop_moving  duration\n",
      "3163  32254035  11.09635      538.848473  12.873662     0.584149  1.475556\n"
     ]
    },
    {
     "data": {
      "text/html": [
       "<div>\n",
       "<style scoped>\n",
       "    .dataframe tbody tr th:only-of-type {\n",
       "        vertical-align: middle;\n",
       "    }\n",
       "\n",
       "    .dataframe tbody tr th {\n",
       "        vertical-align: top;\n",
       "    }\n",
       "\n",
       "    .dataframe thead th {\n",
       "        text-align: right;\n",
       "    }\n",
       "</style>\n",
       "<table border=\"1\" class=\"dataframe\">\n",
       "  <thead>\n",
       "    <tr style=\"text-align: right;\">\n",
       "      <th></th>\n",
       "      <th>Unnamed: 0</th>\n",
       "      <th>T</th>\n",
       "      <th>d</th>\n",
       "      <th>e</th>\n",
       "      <th>h</th>\n",
       "      <th>s</th>\n",
       "      <th>t</th>\n",
       "      <th>x</th>\n",
       "      <th>y</th>\n",
       "    </tr>\n",
       "  </thead>\n",
       "  <tbody>\n",
       "    <tr>\n",
       "      <th>0</th>\n",
       "      <td>0</td>\n",
       "      <td>13.0</td>\n",
       "      <td>2.90</td>\n",
       "      <td>-2.6</td>\n",
       "      <td>93.0</td>\n",
       "      <td>2.012</td>\n",
       "      <td>1551993413</td>\n",
       "      <td>-74.110786</td>\n",
       "      <td>41.776287</td>\n",
       "    </tr>\n",
       "    <tr>\n",
       "      <th>1</th>\n",
       "      <td>1</td>\n",
       "      <td>13.0</td>\n",
       "      <td>4.91</td>\n",
       "      <td>-2.6</td>\n",
       "      <td>92.0</td>\n",
       "      <td>2.012</td>\n",
       "      <td>1551993414</td>\n",
       "      <td>-74.110779</td>\n",
       "      <td>41.776306</td>\n",
       "    </tr>\n",
       "    <tr>\n",
       "      <th>2</th>\n",
       "      <td>2</td>\n",
       "      <td>13.0</td>\n",
       "      <td>25.79</td>\n",
       "      <td>-2.4</td>\n",
       "      <td>94.0</td>\n",
       "      <td>3.235</td>\n",
       "      <td>1551993420</td>\n",
       "      <td>-74.110718</td>\n",
       "      <td>41.776485</td>\n",
       "    </tr>\n",
       "    <tr>\n",
       "      <th>3</th>\n",
       "      <td>3</td>\n",
       "      <td>13.0</td>\n",
       "      <td>41.10</td>\n",
       "      <td>-2.0</td>\n",
       "      <td>97.0</td>\n",
       "      <td>2.869</td>\n",
       "      <td>1551993424</td>\n",
       "      <td>-74.110687</td>\n",
       "      <td>41.776623</td>\n",
       "    </tr>\n",
       "    <tr>\n",
       "      <th>4</th>\n",
       "      <td>4</td>\n",
       "      <td>12.0</td>\n",
       "      <td>56.88</td>\n",
       "      <td>-1.8</td>\n",
       "      <td>99.0</td>\n",
       "      <td>3.526</td>\n",
       "      <td>1551993428</td>\n",
       "      <td>-74.110649</td>\n",
       "      <td>41.776764</td>\n",
       "    </tr>\n",
       "  </tbody>\n",
       "</table>\n",
       "</div>"
      ],
      "text/plain": [
       "   Unnamed: 0     T      d    e     h      s           t          x          y\n",
       "0           0  13.0   2.90 -2.6  93.0  2.012  1551993413 -74.110786  41.776287\n",
       "1           1  13.0   4.91 -2.6  92.0  2.012  1551993414 -74.110779  41.776306\n",
       "2           2  13.0  25.79 -2.4  94.0  3.235  1551993420 -74.110718  41.776485\n",
       "3           3  13.0  41.10 -2.0  97.0  2.869  1551993424 -74.110687  41.776623\n",
       "4           4  12.0  56.88 -1.8  99.0  3.526  1551993428 -74.110649  41.776764"
      ]
     },
     "execution_count": 209,
     "metadata": {},
     "output_type": "execute_result"
    }
   ],
   "source": [
    "# for rte_id in df.id.tolist():\n",
    "#     get_data.ridewithgps_api_trip(rte_id)\n",
    "rte_id = df[df.labels == 5].id.sample().iloc[0]\n",
    "print(df[df.id == rte_id].labels.values)\n",
    "print(trips[trips.id == rte_id][['id', 'distance', 'elevation_gain', 'avg_speed', 'prop_moving', 'duration']])\n",
    "a = pd.read_csv(config.RAW_TRIPS_PATH + '{}.csv'.format(rte_id))\n",
    "a.head()"
   ]
  },
  {
   "cell_type": "code",
   "execution_count": 207,
   "metadata": {
    "scrolled": true
   },
   "outputs": [
    {
     "data": {
      "text/plain": [
       "[<matplotlib.lines.Line2D at 0x7f8d41f31940>,\n",
       " <matplotlib.lines.Line2D at 0x7f8d41f31970>]"
      ]
     },
     "execution_count": 207,
     "metadata": {},
     "output_type": "execute_result"
    },
    {
     "data": {
      "image/png": "[encoded data removed]",
      "text/plain": [
       "<Figure size 432x288 with 1 Axes>"
      ]
     },
     "metadata": {
      "needs_background": "light"
     },
     "output_type": "display_data"
    }
   ],
   "source": [
    "b = a[['x', 'y', 'e', 't']].copy()\n",
    "b['x2'] = a.x[1:].tolist() + [a.iloc[-1].x]\n",
    "b['y2'] = a.y[1:].tolist() + [a.iloc[-1].y]\n",
    "b['d'] = mapping.dist_lat_lon(b.y, b.x, b.y2, b.x2)\n",
    "b['cum_d'] = np.cumsum(b['d'])\n",
    "b['t'] = (b['t'] - b['t'].min())\n",
    "b['dt'] = b['t'].diff()\n",
    "b['slope'] = mapping.metres_to_miles(b.e.diff()) / b.d * 100\n",
    "b['slope'].fillna(0, inplace=True)\n",
    "b.at[b['d'] == 0, 'slope'] = 0\n",
    "b['slope'] = clean_data.moving_window_average(b['slope'], 50)\n",
    "b['speed_rough'] = b.d / (b['t'].diff() / 60 / 60)\n",
    "b['speed'] = clean_data.moving_window_average(b['speed_rough'], 50)\n",
    "# plt.plot(np.cumsum(b.d), b.slope)\n",
    "plt.plot(b.cum_d, b.speed)\n",
    "plt.plot(mapping.metres_to_miles(a.d),mapping.mps_to_mph(a.s), 50)\n",
    "# plt.xlim([1.5, 1.55])"
   ]
  },
  {
   "cell_type": "code",
   "execution_count": 191,
   "metadata": {
    "scrolled": true
   },
   "outputs": [
    {
     "data": {
      "text/plain": [
       "0.39916666666666667"
      ]
     },
     "execution_count": 191,
     "metadata": {},
     "output_type": "execute_result"
    }
   ],
   "source": [
    "# b[b.d < 0.002]['dt'].sum() / 60\n",
    "# b[1.5 <= b.speed_rough].speed.mean()\n",
    "b[b.speed_rough < 1.5].dt.sum() / 60 / 60"
   ]
  },
  {
   "cell_type": "code",
   "execution_count": 205,
   "metadata": {},
   "outputs": [
    {
     "name": "stdout",
     "output_type": "stream",
     "text": [
      "Unnamed: 0: 0 missing of 4940\n",
      "T: 0 missing of 4940\n",
      "d: 0 missing of 4940\n",
      "e: 0 missing of 4940\n",
      "h: 0 missing of 4940\n",
      "t: 0 missing of 4940\n",
      "s: 2 missing of 4940\n",
      "x: 2 missing of 4940\n",
      "y: 2 missing of 4940\n",
      "c: 52 missing of 4940\n",
      "lap: 4924 missing of 4940\n"
     ]
    }
   ],
   "source": [
    "clean_data.check_missing(a)"
   ]
  },
  {
   "cell_type": "code",
   "execution_count": 60,
   "metadata": {},
   "outputs": [
    {
     "data": {
      "text/plain": [
       "[<matplotlib.lines.Line2D at 0x7f8d44320df0>]"
      ]
     },
     "execution_count": 60,
     "metadata": {},
     "output_type": "execute_result"
    },
    {
     "data": {
      "image/png": "[encoded data removed]",
      "text/plain": [
       "<Figure size 432x288 with 1 Axes>"
      ]
     },
     "metadata": {
      "needs_background": "light"
     },
     "output_type": "display_data"
    }
   ],
   "source": [
    "plt.plot(mapping.metres_to_miles(a['d']), a['s'])\n",
    "plt.plot(mapping.metres_to_miles(a['d']), a['e'])\n"
   ]
  },
  {
   "cell_type": "code",
   "execution_count": null,
   "metadata": {},
   "outputs": [],
   "source": []
  }
 ],
 "metadata": {
  "kernelspec": {
   "display_name": "Python 3",
   "language": "python",
   "name": "python3"
  },
  "language_info": {
   "codemirror_mode": {
    "name": "ipython",
    "version": 3
   },
   "file_extension": ".py",
   "mimetype": "text/x-python",
   "name": "python",
   "nbconvert_exporter": "python",
   "pygments_lexer": "ipython3",
   "version": "3.8.5"
  }
 },
 "nbformat": 4,
 "nbformat_minor": 4
}
