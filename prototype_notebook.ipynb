{
 "cells": [
  {
   "cell_type": "markdown",
   "metadata": {},
   "source": [
    "## Testing stuff out"
   ]
  },
  {
   "cell_type": "code",
   "execution_count": null,
   "metadata": {},
   "outputs": [],
   "source": [
    "!pip install gensim"
   ]
  },
  {
   "cell_type": "code",
   "execution_count": null,
   "metadata": {},
   "outputs": [],
   "source": [
    "%load_ext autoreload\n",
    "%autoreload 2\n",
    "\n",
    "%matplotlib inline"
   ]
  },
  {
   "cell_type": "code",
   "execution_count": null,
   "metadata": {},
   "outputs": [],
   "source": [
    "import requests\n",
    "import pandas as pd\n",
    "import numpy as np\n",
    "import matplotlib.pyplot as plt\n",
    "import gensim\n",
    "import os\n",
    "import warnings\n",
    "import time\n",
    "\n",
    "\n",
    "\n",
    "from util import get_data\n",
    "from util import mapping\n",
    "# from view_finder.config import data_path"
   ]
  },
  {
   "cell_type": "code",
   "execution_count": null,
   "metadata": {},
   "outputs": [],
   "source": [
    "raw_data_dir = '/home/emily/Documents/ViewFinder/data/raw/'"
   ]
  },
  {
   "cell_type": "code",
   "execution_count": null,
   "metadata": {
    "scrolled": false
   },
   "outputs": [],
   "source": [
    "# Get data and save to disk\n",
    "\n",
    "DATA = get_data.search_ridewithgps('Shokan, NY', 25)"
   ]
  },
  {
   "cell_type": "code",
   "execution_count": null,
   "metadata": {},
   "outputs": [],
   "source": [
    "trips, routes = get_data.parse_ridewithgps_search_results(DATA)\n",
    "trips.to_csv(raw_data_dir + 'ridewgps_trips.csv')\n",
    "routes.to_csv(raw_data_dir + 'ridewgps_routes.csv')"
   ]
  },
  {
   "cell_type": "code",
   "execution_count": null,
   "metadata": {},
   "outputs": [],
   "source": [
    "for i, r in routes.iterrows():\n",
    "    get_data.ridewithgps_api_route(r.id)\n",
    "    time.sleep(1.5)"
   ]
  },
  {
   "cell_type": "code",
   "execution_count": null,
   "metadata": {
    "scrolled": true
   },
   "outputs": [],
   "source": [
    "# # routes.loc[i]\n",
    "# for i, r in routes.iterrows():\n",
    "#     if i == 3979: break\n",
    "#     if r['pavement_type_id'] + 0 == r['pavement_type_id']:\n",
    "#         print('{}: pavement {}'.format(r.id, r['pavement_type_id']))\n",
    "#     if r.highlighted_photo_id:\n",
    "#         print('{}: photo {}'.format(r.id, r.highlighted_photo_id))\n",
    "\n",
    "# routes[routes.pavement_type_id > 0].shape\n",
    "routes.best_for_id.value_counts()\n",
    "# routes[routes.best_for_id > 0][['id', 'best_for_id']]\n",
    "# set(routes.columns) - set(trips.columns)"
   ]
  },
  {
   "cell_type": "code",
   "execution_count": null,
   "metadata": {
    "scrolled": true
   },
   "outputs": [],
   "source": [
    "trips[(trips.highlighted_photo_id > 0) & (trips.distance < 1609 * 50)][['id']]"
   ]
  },
  {
   "cell_type": "code",
   "execution_count": null,
   "metadata": {
    "scrolled": true
   },
   "outputs": [],
   "source": [
    "rte_id = 41025647#48827366\n",
    "URL = \"http://ridewithgps.com/trips/{}.json\".format(rte_id)\n",
    "r = requests.get(url = URL)\n",
    "r.json()"
   ]
  },
  {
   "cell_type": "code",
   "execution_count": null,
   "metadata": {},
   "outputs": [],
   "source": [
    "d = r.json()\n",
    "df = pd.DataFrame(d['track_points'])\n",
    "(df.iloc[-1].t - df.t[0]) / 60 / 60\n",
    "\n",
    "# a = pd.read_csv('data/raw/ridewgps/routes/29785085.csv')\n",
    "# a"
   ]
  },
  {
   "cell_type": "code",
   "execution_count": null,
   "metadata": {
    "scrolled": false
   },
   "outputs": [],
   "source": [
    "# plt.plot(df.x, df.y, 'k.')\n",
    "df['t_diff'] = df.t - (list(df.iloc[1:].t.values) + [df.iloc[-1].t])\n",
    "# [df.iloc[-1].t]\n",
    "plt.hist(df.t_diff[df.t_diff > -3])"
   ]
  },
  {
   "cell_type": "code",
   "execution_count": null,
   "metadata": {},
   "outputs": [],
   "source": [
    "routes.description.nunique()"
   ]
  },
  {
   "cell_type": "code",
   "execution_count": null,
   "metadata": {},
   "outputs": [],
   "source": [
    "n_scenic = 0\n",
    "for d in trips.description.unique():\n",
    "    if d and 'scenic' in d.lower():\n",
    "        n_scenic += 1\n",
    "        print(d)\n",
    "print(n_scenic)\n",
    "    "
   ]
  },
  {
   "cell_type": "code",
   "execution_count": null,
   "metadata": {},
   "outputs": [],
   "source": [
    "all_description = list(np.concatenate([trips.description.unique(), routes.description.unique(), \n",
    "                                  trips.name.unique(), routes.name.unique()]))\n",
    "all_description = [i for i in all_description if i]"
   ]
  },
  {
   "cell_type": "code",
   "execution_count": null,
   "metadata": {},
   "outputs": [],
   "source": [
    "\n",
    "warnings.filterwarnings(\"ignore\")\n",
    "\n",
    "class SentenceCorpus(object):\n",
    "\n",
    "    def __init__(self, corpus):\n",
    "        self.corpus = corpus\n",
    "\n",
    "    def __iter__(self):\n",
    "        for row in self.corpus:\n",
    "            tokens = row.lower().strip().split()\n",
    "            yield tokens\n",
    "\n",
    "\n",
    "\n",
    "sentences = SentenceCorpus(all_description)\n",
    "model = gensim.models.Word2Vec(sentences, min_count=10, window=10, size=10)"
   ]
  },
  {
   "cell_type": "code",
   "execution_count": null,
   "metadata": {
    "scrolled": false
   },
   "outputs": [],
   "source": [
    "model.wv.most_similar(positive=[\"mountain\"], topn=10)\n"
   ]
  },
  {
   "cell_type": "code",
   "execution_count": null,
   "metadata": {},
   "outputs": [],
   "source": [
    "trips['is_trip'] = True\n",
    "routes['is_trip'] = False\n",
    "common_cols = [col for col in trips.columns if col in routes.columns]\n",
    "rides = trips[common_cols].append(routes[common_cols])\n",
    "rides.distance = mapping.metres_to_miles(rides.distance)\n",
    "rides = rides[(rides.distance <= 125)]\n",
    "rides.shape"
   ]
  },
  {
   "cell_type": "code",
   "execution_count": null,
   "metadata": {},
   "outputs": [],
   "source": [
    "common_cols\n",
    "useful_cols = ['id', 'is_trip', 'distance', 'crow_dist',\n",
    "              'first_lat', 'first_lng', 'last_lat', 'last_lng', 'circular']"
   ]
  },
  {
   "cell_type": "code",
   "execution_count": null,
   "metadata": {},
   "outputs": [],
   "source": [
    "rides['crow_dist'] = rides.apply(\n",
    "    lambda x: mapping.dist_lat_lon(x.first_lat, x.first_lng, x.last_lat, x.last_lng), axis=1\n",
    ")"
   ]
  },
  {
   "cell_type": "code",
   "execution_count": null,
   "metadata": {
    "scrolled": true
   },
   "outputs": [],
   "source": [
    "rides['circular'] = rides.apply(lambda x: x.crow_dist <= 0.5, axis=1)\n",
    "rides.circular.value_counts()"
   ]
  },
  {
   "cell_type": "code",
   "execution_count": null,
   "metadata": {},
   "outputs": [],
   "source": [
    "rides[useful_cols].tail(10)"
   ]
  },
  {
   "cell_type": "code",
   "execution_count": null,
   "metadata": {},
   "outputs": [],
   "source": [
    "plt.hist(rides[rides.crow_dist < 1].crow_dist)"
   ]
  },
  {
   "cell_type": "code",
   "execution_count": null,
   "metadata": {
    "scrolled": false
   },
   "outputs": [],
   "source": [
    "plt.hist(rides.distance - rides.crow_dist)"
   ]
  },
  {
   "cell_type": "code",
   "execution_count": null,
   "metadata": {
    "scrolled": true
   },
   "outputs": [],
   "source": [
    "rides[(rides.crow_dist > rides.distance)][['id', 'is_trip', 'distance', 'crow_dist', 'first_lat', 'first_lng', 'last_lat', 'last_lng']]#.is_trip.value_counts()\n",
    "rides[rides.distance > 600][['id', 'is_trip', 'distance', 'crow_dist', 'first_lat', 'first_lng', 'last_lat', 'last_lng']]#.is_trip.value_counts()"
   ]
  },
  {
   "cell_type": "code",
   "execution_count": null,
   "metadata": {
    "scrolled": true
   },
   "outputs": [],
   "source": [
    "rides_filt = rides[(rides.distance < 125) & (rides.distance >= rides.crow_dist)]\n",
    "plt.hist(rides_filt.distance - rides_filt.crow_dist)"
   ]
  }
 ],
 "metadata": {
  "kernelspec": {
   "display_name": "Python 3",
   "language": "python",
   "name": "python3"
  },
  "language_info": {
   "codemirror_mode": {
    "name": "ipython",
    "version": 3
   },
   "file_extension": ".py",
   "mimetype": "text/x-python",
   "name": "python",
   "nbconvert_exporter": "python",
   "pygments_lexer": "ipython3",
   "version": "3.8.5"
  }
 },
 "nbformat": 4,
 "nbformat_minor": 4
}
