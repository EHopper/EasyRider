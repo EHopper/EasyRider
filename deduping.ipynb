{
 "cells": [
  {
   "cell_type": "code",
   "execution_count": 61,
   "metadata": {},
   "outputs": [
    {
     "name": "stdout",
     "output_type": "stream",
     "text": [
      "The autoreload extension is already loaded. To reload it, use:\n",
      "  %reload_ext autoreload\n"
     ]
    }
   ],
   "source": [
    "%load_ext autoreload\n",
    "%autoreload 2\n",
    "\n",
    "%matplotlib inline"
   ]
  },
  {
   "cell_type": "code",
   "execution_count": 2,
   "metadata": {},
   "outputs": [],
   "source": [
    "import requests\n",
    "import pandas as pd\n",
    "import numpy as np\n",
    "import matplotlib.pyplot as plt\n",
    "import seaborn as sns\n",
    "import os\n",
    "import datetime\n",
    "import re\n",
    "import json\n",
    "import collections\n",
    "\n",
    "\n",
    "from util import get_data\n",
    "from util import mapping\n",
    "from util import clean_data\n",
    "from util import config\n",
    "from util import plot_clusters\n",
    "\n",
    "import sklearn.cluster\n",
    "import sklearn.neighbors\n",
    "import scipy\n",
    "\n",
    "import hdbscan\n",
    "import umap"
   ]
  },
  {
   "cell_type": "code",
   "execution_count": null,
   "metadata": {
    "scrolled": true
   },
   "outputs": [],
   "source": [
    "# df = pd.read_csv(config.PROCESSED_DATA_PATH + 'trips.csv')\n",
    "# df = clean_data.filter_cleaned_trips(df)\n",
    "# print(df.shape)\n",
    "grid_points, grid_dict = clean_data.load_gridpts('road_backbone_coarse', 'grid_rte_ids_coarse')"
   ]
  },
  {
   "cell_type": "code",
   "execution_count": null,
   "metadata": {},
   "outputs": [],
   "source": [
    "# a = rts_at_grid#pd.read_csv(config.MODEL_PATH + 'rts_at_fine_grid.csv')\n",
    "# print(a.shape)\n",
    "# a.head()\n",
    "grid_points.rename(columns={'grid_i': 'grid_id'}, inplace=True)\n",
    "grid_points.head()\n",
    "# df.rename(columns={'id': 'rte_id'}, inplace=True)\n",
    "# df.reset_index(inplace=True)\n",
    "# df.tail()\n",
    "len(grid_dict)"
   ]
  },
  {
   "cell_type": "code",
   "execution_count": null,
   "metadata": {},
   "outputs": [],
   "source": [
    "rts.head()"
   ]
  },
  {
   "cell_type": "code",
   "execution_count": null,
   "metadata": {},
   "outputs": [],
   "source": [
    "# Feather everything!\n",
    "# df.to_feather(config.PROCESSED_DATA_PATH + 'trips.feather')\n",
    "# grid_points.to_feather(config.MODEL_PATH + 'grid_points_fine.feather')\n",
    "# rts_at_grid.to_feather(config.MODEL_PATH + 'rtes_at_grid_fine.feather')\n",
    "# rts.to_feather(config.PROCESSED_DATA_PATH + 'gridpts_at_rte_fine.feather')\n",
    "grid_points.to_feather(config.MODEL_PATH + 'grid_points_coarse.feather')\n",
    "rts_at_grid.to_feather(config.MODEL_PATH + 'rtes_at_grid_coarse.feather')\n",
    "rts.to_feather(config.PROCESSED_DATA_PATH + 'gridpts_at_rte_coarse.feather')"
   ]
  },
  {
   "cell_type": "code",
   "execution_count": null,
   "metadata": {},
   "outputs": [],
   "source": [
    "# rts_at_grid.rte_ids.apply(len).describe()\n",
    "# rts_at_grid.rte_ids.apply(len).describe()\n",
    "# rts_at_grid.grid_id.max()\n",
    "rts.head()"
   ]
  },
  {
   "cell_type": "code",
   "execution_count": null,
   "metadata": {},
   "outputs": [],
   "source": [
    "rte_dict = collections.defaultdict(list)\n",
    "for grid_id, rte_set in grid_dict.items():\n",
    "    for rte_id in rte_set:\n",
    "        rte_dict[rte_id] += [grid_id]"
   ]
  },
  {
   "cell_type": "code",
   "execution_count": null,
   "metadata": {},
   "outputs": [],
   "source": [
    "rts_at_grid = []\n",
    "for k, v in grid_dict.items():\n",
    "    rts_at_grid += [{'grid_id': k, 'rte_ids': list(v)}]\n",
    "rts_at_grid = pd.DataFrame(rts_at_grid)#.set_index('grid_id')\n",
    "# rts_at_grid.to_csv(config.MODEL_PATH + 'rts_at_fine_grid.csv')"
   ]
  },
  {
   "cell_type": "code",
   "execution_count": null,
   "metadata": {
    "scrolled": true
   },
   "outputs": [],
   "source": [
    "rts = []\n",
    "for k, v in rte_dict.items():\n",
    "    rts += [{'rte_id': k, 'grid_ids': list(v)}]\n",
    "rts = pd.DataFrame(rts)#.set_index('rte_id')\n",
    "# rts.to_csv(config.MODEL_PATH + 'rts_grid_pts.csv')"
   ]
  },
  {
   "cell_type": "code",
   "execution_count": null,
   "metadata": {},
   "outputs": [],
   "source": [
    "a = pd.read_feather('../EasyRider-Deployment/data/processed/rts_grid_pts.feather')\n",
    "a.shape"
   ]
  },
  {
   "cell_type": "code",
   "execution_count": null,
   "metadata": {},
   "outputs": [],
   "source": [
    "# grid_points.grid_id.max()"
   ]
  },
  {
   "cell_type": "code",
   "execution_count": null,
   "metadata": {},
   "outputs": [],
   "source": [
    "# rts_at_grid.rte_ids = rts_at_grid.rte_ids.apply(lambda x: list(x))\n",
    "# rts_at_grid.rte_ids[0]\n",
    "rts_at_grid.shape"
   ]
  },
  {
   "cell_type": "code",
   "execution_count": null,
   "metadata": {},
   "outputs": [],
   "source": [
    "rts_at_grid.to_csv(config.MODEL_PATH + 'rts_at_fine_grid.csv')"
   ]
  },
  {
   "cell_type": "code",
   "execution_count": null,
   "metadata": {
    "scrolled": true
   },
   "outputs": [],
   "source": [
    "# gp = grid_points.set_index('grid_i')\n",
    "rts_gridpts = pd.read_csv(config.MODEL_PATH + 'rts_grid_pts.csv', index_col=0)\n",
    "rts_at_grid = pd.read_csv(config.MODEL_PATH + 'rts_at_fine_grid.csv', index_col=0)\n",
    "\n",
    "rts_gridpts.grid_pts = rts_gridpts.grid_pts.apply(lambda x: [int(a) for a in x.strip('[]').split(',')])\n",
    "rts_at_grid.rte_ids = rts_at_grid.rte_ids.apply(lambda x: set([int(a) for a in x.strip('{}').split(',')]))"
   ]
  },
  {
   "cell_type": "code",
   "execution_count": 62,
   "metadata": {},
   "outputs": [
    {
     "ename": "NameError",
     "evalue": "name 'rts_at_grid' is not defined",
     "output_type": "error",
     "traceback": [
      "\u001b[0;31m---------------------------------------------------------------------------\u001b[0m",
      "\u001b[0;31mNameError\u001b[0m                                 Traceback (most recent call last)",
      "\u001b[0;32m<ipython-input-62-bb5d05b7bf42>\u001b[0m in \u001b[0;36m<module>\u001b[0;34m\u001b[0m\n\u001b[0;32m----> 1\u001b[0;31m \u001b[0mtype\u001b[0m\u001b[0;34m(\u001b[0m\u001b[0mrts_at_grid\u001b[0m\u001b[0;34m.\u001b[0m\u001b[0mloc\u001b[0m\u001b[0;34m[\u001b[0m\u001b[0;36m8229794\u001b[0m\u001b[0;34m]\u001b[0m\u001b[0;34m.\u001b[0m\u001b[0mrte_ids\u001b[0m\u001b[0;34m)\u001b[0m\u001b[0;34m\u001b[0m\u001b[0;34m\u001b[0m\u001b[0m\n\u001b[0m",
      "\u001b[0;31mNameError\u001b[0m: name 'rts_at_grid' is not defined"
     ]
    }
   ],
   "source": [
    "\n",
    "type(rts_at_grid.loc[8229794].rte_ids)"
   ]
  },
  {
   "cell_type": "code",
   "execution_count": null,
   "metadata": {},
   "outputs": [],
   "source": [
    "locs = gp.loc[rts.loc[11439445].grid_pts][['lat', 'lon']]\n",
    "plt.plot(locs.lon, locs.lat, 'k.')"
   ]
  },
  {
   "cell_type": "code",
   "execution_count": null,
   "metadata": {},
   "outputs": [],
   "source": [
    "colours = sns.color_palette('husl', 5)\n",
    "[x * 255 for x in colours[0]]"
   ]
  },
  {
   "cell_type": "code",
   "execution_count": null,
   "metadata": {},
   "outputs": [],
   "source": [
    "ride_points = locs\n",
    "map_lims = np.array([[90, -90, 180, -180]])\n",
    "map_lims = np.vstack((map_lims, \n",
    "                    np.array([[ride_points.lat.min(),\n",
    "                               ride_points.lat.max(),\n",
    "                               ride_points.lon.min(),\n",
    "                               ride_points.lon.max()]])))\n",
    "print(tuple(map_lims[:, 1:4:2].max(axis=0)))\n",
    "tuple(map_lims[:, 0:3:2].min(axis=0))"
   ]
  },
  {
   "cell_type": "markdown",
   "metadata": {},
   "source": [
    "## Deduping proper"
   ]
  },
  {
   "cell_type": "code",
   "execution_count": 63,
   "metadata": {},
   "outputs": [],
   "source": [
    "## Make dataframe with rows of rte_id, columns of grid_ids\n",
    "# Where 1 means that rte goes through that grid point, 0 not\n",
    "\n",
    "# Load data\n",
    "pts_per_degree = 25\n",
    "grid_pts = pd.read_feather(config.MODEL_PATH + 'grid_points_{}.feather'.format(pts_per_degree))\n",
    "rtes_at_grid = pd.read_feather(config.MODEL_PATH + 'rtes_at_grid_{}.feather'.format(pts_per_degree))\n",
    "gridpts_at_rte = pd.read_feather(config.PROCESSED_DATA_PATH + 'gridpts_at_rte_{}.feather'.format(pts_per_degree))\n",
    "\n",
    "rtes_at_grid.set_index('grid_id', inplace=True)\n",
    "gridpts_at_rte.set_index('rte_id', inplace=True)"
   ]
  },
  {
   "cell_type": "code",
   "execution_count": null,
   "metadata": {},
   "outputs": [],
   "source": [
    "import pandas as pd\n",
    "from util import config"
   ]
  },
  {
   "cell_type": "code",
   "execution_count": null,
   "metadata": {},
   "outputs": [],
   "source": [
    "rte_grid_ohe.head(10)"
   ]
  },
  {
   "cell_type": "code",
   "execution_count": null,
   "metadata": {},
   "outputs": [],
   "source": [
    "rte_grid_ohe.dtypes"
   ]
  },
  {
   "cell_type": "code",
   "execution_count": 44,
   "metadata": {
    "scrolled": true
   },
   "outputs": [
    {
     "name": "stdout",
     "output_type": "stream",
     "text": [
      "0\n",
      "200\n",
      "400\n",
      "600\n",
      "800\n",
      "1000\n",
      "1200\n",
      "1400\n",
      "1600\n",
      "1800\n",
      "2000\n",
      "2200\n",
      "2400\n",
      "2600\n",
      "2800\n",
      "3000\n",
      "3200\n",
      "3400\n",
      "3600\n",
      "3800\n",
      "4000\n",
      "4200\n",
      "4400\n",
      "4600\n",
      "4800\n",
      "5000\n",
      "5200\n",
      "5400\n",
      "5600\n",
      "5800\n",
      "6000\n",
      "6200\n",
      "6400\n",
      "6600\n",
      "6800\n"
     ]
    }
   ],
   "source": [
    "rte_grid_ohe = gridpts_at_rte.copy()\n",
    "rte_grid_ohe.drop('grid_ids', axis=1, inplace=True)\n",
    "# rte_grid_ohe.loc[rtes_at_grid.loc[46333].rte_ids].shape\n",
    "\n",
    "for i, grid_id in enumerate(rtes_at_grid.index.tolist()):\n",
    "    if not i % 200: print(i)\n",
    "    rte_grid_ohe[grid_id] = False\n",
    "    rte_grid_ohe.loc[rtes_at_grid.loc[grid_id].rte_ids, grid_id] = True\n",
    "\n",
    "a = dict()\n",
    "for gi in rte_grid_ohe.columns:\n",
    "    a[gi] = str(gi)\n",
    "rte_grid_ohe.rename(columns=a).reset_index().to_feather(config.PROCESSED_DATA_PATH + 'gridpts_at_rte_{}_ohe.feather'.format(pts_per_degree))"
   ]
  },
  {
   "cell_type": "code",
   "execution_count": 68,
   "metadata": {},
   "outputs": [
    {
     "data": {
      "text/plain": [
       "(20877, 1455)"
      ]
     },
     "execution_count": 68,
     "metadata": {},
     "output_type": "execute_result"
    }
   ],
   "source": [
    "rte_grid_ohe = pd.read_feather(config.PROCESSED_DATA_PATH + 'gridpts_at_rte_{}_ohe.feather'.format(pts_per_degree))\n",
    "rte_grid_ohe.set_index('rte_id', inplace=True)\n",
    "rte_grid_ohe.shape"
   ]
  },
  {
   "cell_type": "code",
   "execution_count": null,
   "metadata": {},
   "outputs": [],
   "source": [
    "sdf = rte_grid_ohe.astype(pd.SparseDtype(\"bool\", False))\n",
    "rte_grid_ohe.head()"
   ]
  },
  {
   "cell_type": "code",
   "execution_count": null,
   "metadata": {},
   "outputs": [],
   "source": [
    "print(rte_grid_ohe.shape[0] * rte_grid_ohe.shape[1])\n",
    "rte_grid_ohe.values.sum().sum()"
   ]
  },
  {
   "cell_type": "code",
   "execution_count": 73,
   "metadata": {},
   "outputs": [
    {
     "data": {
      "text/plain": [
       "225448"
      ]
     },
     "execution_count": 73,
     "metadata": {},
     "output_type": "execute_result"
    }
   ],
   "source": [
    "sda = scipy.sparse.csr_matrix(rte_grid_ohe.values)\n",
    "sda.nnz\n",
    "# sdf.sparse.density\n",
    "# sda = pd.arrays.SparseArray(rte_grid_ohe, fill_value=False)\n",
    "# rte_grid_ohe.values"
   ]
  },
  {
   "cell_type": "code",
   "execution_count": 74,
   "metadata": {},
   "outputs": [
    {
     "data": {
      "text/plain": [
       "DBSCAN(min_samples=2)"
      ]
     },
     "execution_count": 74,
     "metadata": {},
     "output_type": "execute_result"
    }
   ],
   "source": [
    "clusterer = sklearn.cluster.DBSCAN(min_samples=2, eps=0.5)\n",
    "clusterer.fit(sda)"
   ]
  },
  {
   "cell_type": "code",
   "execution_count": 39,
   "metadata": {
    "scrolled": true
   },
   "outputs": [
    {
     "data": {
      "text/plain": [
       "HDBSCAN(min_cluster_size=2, min_samples=1)"
      ]
     },
     "execution_count": 39,
     "metadata": {},
     "output_type": "execute_result"
    }
   ],
   "source": [
    "clusterer = hdbscan.HDBSCAN(min_cluster_size=2, min_samples=1) \n",
    "                              #min_cluster_size=100,\n",
    "                              #min_samples=1,\n",
    "                              #cluster_selection_epsilon=0.)\n",
    "clusterer.fit(sda)"
   ]
  },
  {
   "cell_type": "code",
   "execution_count": 22,
   "metadata": {},
   "outputs": [
    {
     "data": {
      "text/html": [
       "<div>\n",
       "<style scoped>\n",
       "    .dataframe tbody tr th:only-of-type {\n",
       "        vertical-align: middle;\n",
       "    }\n",
       "\n",
       "    .dataframe tbody tr th {\n",
       "        vertical-align: top;\n",
       "    }\n",
       "\n",
       "    .dataframe thead th {\n",
       "        text-align: right;\n",
       "    }\n",
       "</style>\n",
       "<table border=\"1\" class=\"dataframe\">\n",
       "  <thead>\n",
       "    <tr style=\"text-align: right;\">\n",
       "      <th></th>\n",
       "      <th>2882</th>\n",
       "      <th>2957</th>\n",
       "      <th>2735</th>\n",
       "      <th>2580</th>\n",
       "      <th>2655</th>\n",
       "      <th>2656</th>\n",
       "      <th>2810</th>\n",
       "      <th>2659</th>\n",
       "      <th>2369</th>\n",
       "      <th>2370</th>\n",
       "      <th>...</th>\n",
       "      <th>2460</th>\n",
       "      <th>2535</th>\n",
       "      <th>2609</th>\n",
       "      <th>2610</th>\n",
       "      <th>2684</th>\n",
       "      <th>2758</th>\n",
       "      <th>2759</th>\n",
       "      <th>2833</th>\n",
       "      <th>2907</th>\n",
       "      <th>3351</th>\n",
       "    </tr>\n",
       "    <tr>\n",
       "      <th>rte_id</th>\n",
       "      <th></th>\n",
       "      <th></th>\n",
       "      <th></th>\n",
       "      <th></th>\n",
       "      <th></th>\n",
       "      <th></th>\n",
       "      <th></th>\n",
       "      <th></th>\n",
       "      <th></th>\n",
       "      <th></th>\n",
       "      <th></th>\n",
       "      <th></th>\n",
       "      <th></th>\n",
       "      <th></th>\n",
       "      <th></th>\n",
       "      <th></th>\n",
       "      <th></th>\n",
       "      <th></th>\n",
       "      <th></th>\n",
       "      <th></th>\n",
       "      <th></th>\n",
       "    </tr>\n",
       "  </thead>\n",
       "  <tbody>\n",
       "    <tr>\n",
       "      <th>7118848</th>\n",
       "      <td>True</td>\n",
       "      <td>False</td>\n",
       "      <td>False</td>\n",
       "      <td>False</td>\n",
       "      <td>False</td>\n",
       "      <td>False</td>\n",
       "      <td>True</td>\n",
       "      <td>False</td>\n",
       "      <td>False</td>\n",
       "      <td>False</td>\n",
       "      <td>...</td>\n",
       "      <td>False</td>\n",
       "      <td>False</td>\n",
       "      <td>False</td>\n",
       "      <td>False</td>\n",
       "      <td>False</td>\n",
       "      <td>False</td>\n",
       "      <td>False</td>\n",
       "      <td>False</td>\n",
       "      <td>False</td>\n",
       "      <td>False</td>\n",
       "    </tr>\n",
       "    <tr>\n",
       "      <th>3037186</th>\n",
       "      <td>True</td>\n",
       "      <td>False</td>\n",
       "      <td>False</td>\n",
       "      <td>False</td>\n",
       "      <td>False</td>\n",
       "      <td>True</td>\n",
       "      <td>False</td>\n",
       "      <td>False</td>\n",
       "      <td>False</td>\n",
       "      <td>False</td>\n",
       "      <td>...</td>\n",
       "      <td>False</td>\n",
       "      <td>False</td>\n",
       "      <td>False</td>\n",
       "      <td>False</td>\n",
       "      <td>False</td>\n",
       "      <td>False</td>\n",
       "      <td>False</td>\n",
       "      <td>False</td>\n",
       "      <td>False</td>\n",
       "      <td>False</td>\n",
       "    </tr>\n",
       "    <tr>\n",
       "      <th>16773124</th>\n",
       "      <td>True</td>\n",
       "      <td>True</td>\n",
       "      <td>False</td>\n",
       "      <td>False</td>\n",
       "      <td>False</td>\n",
       "      <td>False</td>\n",
       "      <td>False</td>\n",
       "      <td>False</td>\n",
       "      <td>False</td>\n",
       "      <td>False</td>\n",
       "      <td>...</td>\n",
       "      <td>False</td>\n",
       "      <td>False</td>\n",
       "      <td>False</td>\n",
       "      <td>False</td>\n",
       "      <td>False</td>\n",
       "      <td>False</td>\n",
       "      <td>False</td>\n",
       "      <td>False</td>\n",
       "      <td>False</td>\n",
       "      <td>False</td>\n",
       "    </tr>\n",
       "    <tr>\n",
       "      <th>23586828</th>\n",
       "      <td>True</td>\n",
       "      <td>True</td>\n",
       "      <td>False</td>\n",
       "      <td>False</td>\n",
       "      <td>False</td>\n",
       "      <td>False</td>\n",
       "      <td>True</td>\n",
       "      <td>False</td>\n",
       "      <td>False</td>\n",
       "      <td>False</td>\n",
       "      <td>...</td>\n",
       "      <td>False</td>\n",
       "      <td>False</td>\n",
       "      <td>False</td>\n",
       "      <td>False</td>\n",
       "      <td>False</td>\n",
       "      <td>False</td>\n",
       "      <td>False</td>\n",
       "      <td>False</td>\n",
       "      <td>False</td>\n",
       "      <td>False</td>\n",
       "    </tr>\n",
       "    <tr>\n",
       "      <th>44120078</th>\n",
       "      <td>True</td>\n",
       "      <td>True</td>\n",
       "      <td>False</td>\n",
       "      <td>False</td>\n",
       "      <td>False</td>\n",
       "      <td>False</td>\n",
       "      <td>False</td>\n",
       "      <td>False</td>\n",
       "      <td>False</td>\n",
       "      <td>False</td>\n",
       "      <td>...</td>\n",
       "      <td>False</td>\n",
       "      <td>False</td>\n",
       "      <td>False</td>\n",
       "      <td>False</td>\n",
       "      <td>False</td>\n",
       "      <td>False</td>\n",
       "      <td>False</td>\n",
       "      <td>False</td>\n",
       "      <td>False</td>\n",
       "      <td>False</td>\n",
       "    </tr>\n",
       "  </tbody>\n",
       "</table>\n",
       "<p>5 rows × 1455 columns</p>\n",
       "</div>"
      ],
      "text/plain": [
       "          2882   2957   2735   2580   2655   2656   2810   2659   2369   2370  \\\n",
       "rte_id                                                                          \n",
       "7118848   True  False  False  False  False  False   True  False  False  False   \n",
       "3037186   True  False  False  False  False   True  False  False  False  False   \n",
       "16773124  True   True  False  False  False  False  False  False  False  False   \n",
       "23586828  True   True  False  False  False  False   True  False  False  False   \n",
       "44120078  True   True  False  False  False  False  False  False  False  False   \n",
       "\n",
       "          ...   2460   2535   2609   2610   2684   2758   2759   2833   2907  \\\n",
       "rte_id    ...                                                                  \n",
       "7118848   ...  False  False  False  False  False  False  False  False  False   \n",
       "3037186   ...  False  False  False  False  False  False  False  False  False   \n",
       "16773124  ...  False  False  False  False  False  False  False  False  False   \n",
       "23586828  ...  False  False  False  False  False  False  False  False  False   \n",
       "44120078  ...  False  False  False  False  False  False  False  False  False   \n",
       "\n",
       "           3351  \n",
       "rte_id           \n",
       "7118848   False  \n",
       "3037186   False  \n",
       "16773124  False  \n",
       "23586828  False  \n",
       "44120078  False  \n",
       "\n",
       "[5 rows x 1455 columns]"
      ]
     },
     "execution_count": 22,
     "metadata": {},
     "output_type": "execute_result"
    }
   ],
   "source": [
    "rte_grid_ohe.head()"
   ]
  },
  {
   "cell_type": "code",
   "execution_count": 38,
   "metadata": {},
   "outputs": [],
   "source": [
    "reducer = umap.UMAP().fit_transform(sda)\n",
    "xu = reducer[:, 0]\n",
    "yu = reducer[:, 1]"
   ]
  },
  {
   "cell_type": "code",
   "execution_count": 40,
   "metadata": {
    "collapsed": true
   },
   "outputs": [
    {
     "data": {
      "image/png": "[encoded data removed]",
      "text/plain": [
       "<Figure size 1440x1440 with 1 Axes>"
      ]
     },
     "metadata": {
      "needs_background": "light"
     },
     "output_type": "display_data"
    }
   ],
   "source": [
    "labels = clusterer.labels_\n",
    "plt.figure(figsize=(20, 20))\n",
    "for c in lab_counts.label:\n",
    "    if c == -1: \n",
    "        plt.plot(xu[labels == c], yu[labels==c], '.', color=(0.8, 0.8, 0.8))\n",
    "        continue\n",
    "        \n",
    "    plt.plot(xu[labels == c], yu[labels == c], '.')"
   ]
  },
  {
   "cell_type": "code",
   "execution_count": 75,
   "metadata": {
    "scrolled": true
   },
   "outputs": [
    {
     "data": {
      "text/html": [
       "<div>\n",
       "<style scoped>\n",
       "    .dataframe tbody tr th:only-of-type {\n",
       "        vertical-align: middle;\n",
       "    }\n",
       "\n",
       "    .dataframe tbody tr th {\n",
       "        vertical-align: top;\n",
       "    }\n",
       "\n",
       "    .dataframe thead th {\n",
       "        text-align: right;\n",
       "    }\n",
       "</style>\n",
       "<table border=\"1\" class=\"dataframe\">\n",
       "  <thead>\n",
       "    <tr style=\"text-align: right;\">\n",
       "      <th></th>\n",
       "      <th>label</th>\n",
       "      <th>n_rtes</th>\n",
       "    </tr>\n",
       "  </thead>\n",
       "  <tbody>\n",
       "    <tr>\n",
       "      <th>0</th>\n",
       "      <td>-1</td>\n",
       "      <td>5405</td>\n",
       "    </tr>\n",
       "    <tr>\n",
       "      <th>1</th>\n",
       "      <td>606</td>\n",
       "      <td>195</td>\n",
       "    </tr>\n",
       "    <tr>\n",
       "      <th>2</th>\n",
       "      <td>1382</td>\n",
       "      <td>193</td>\n",
       "    </tr>\n",
       "    <tr>\n",
       "      <th>3</th>\n",
       "      <td>1283</td>\n",
       "      <td>114</td>\n",
       "    </tr>\n",
       "    <tr>\n",
       "      <th>4</th>\n",
       "      <td>1631</td>\n",
       "      <td>110</td>\n",
       "    </tr>\n",
       "  </tbody>\n",
       "</table>\n",
       "</div>"
      ],
      "text/plain": [
       "   label  n_rtes\n",
       "0     -1    5405\n",
       "1    606     195\n",
       "2   1382     193\n",
       "3   1283     114\n",
       "4   1631     110"
      ]
     },
     "execution_count": 75,
     "metadata": {},
     "output_type": "execute_result"
    }
   ],
   "source": [
    "rte_clustered = gridpts_at_rte.copy()\n",
    "rte_clustered['labels'] = clusterer.labels_\n",
    "lab_counts = rte_clustered.labels.value_counts().reset_index().rename(\n",
    "    columns={'index': 'label', 'labels': 'n_rtes'})\n",
    "lab_counts.head()"
   ]
  },
  {
   "cell_type": "code",
   "execution_count": 21,
   "metadata": {
    "collapsed": true
   },
   "outputs": [
    {
     "data": {
      "text/plain": [
       "[32387099,\n",
       " 43436082,\n",
       " 53211196,\n",
       " 40425557,\n",
       " 34291826,\n",
       " 21194883,\n",
       " 35145862,\n",
       " 40880294,\n",
       " 18430121,\n",
       " 6017249,\n",
       " 34762991,\n",
       " 10649846,\n",
       " 18686207,\n",
       " 52060449,\n",
       " 36804903,\n",
       " 12863786,\n",
       " 18594094,\n",
       " 53207371,\n",
       " 37439840,\n",
       " 3666273,\n",
       " 6650239,\n",
       " 9724306,\n",
       " 53311918,\n",
       " 53000647,\n",
       " 2296298,\n",
       " 16593404,\n",
       " 41435646,\n",
       " 53553673,\n",
       " 10461777,\n",
       " 26380904,\n",
       " 19012201,\n",
       " 40714860,\n",
       " 10341008,\n",
       " 11563664,\n",
       " 19858072,\n",
       " 37870250,\n",
       " 50404119,\n",
       " 50404128,\n",
       " 53214007,\n",
       " 18535239,\n",
       " 1772376,\n",
       " 34466669,\n",
       " 34466675,\n",
       " 9907073,\n",
       " 39160726,\n",
       " 50492314,\n",
       " 54999963,\n",
       " 38513605,\n",
       " 3584966,\n",
       " 32252875,\n",
       " 16421847,\n",
       " 52153335,\n",
       " 36355114,\n",
       " 35226676,\n",
       " 52802621,\n",
       " 5858379,\n",
       " 3699799,\n",
       " 53210219,\n",
       " 32197759,\n",
       " 16868489,\n",
       " 17712286,\n",
       " 16964783,\n",
       " 4205764,\n",
       " 3640517,\n",
       " 36005065,\n",
       " 37436626,\n",
       " 15963349,\n",
       " 15963352,\n",
       " 31886576,\n",
       " 49710329,\n",
       " 28220665,\n",
       " 42640650,\n",
       " 26987786,\n",
       " 20102455,\n",
       " 34565443,\n",
       " 5535071,\n",
       " 51903860,\n",
       " 47756689,\n",
       " 52196766,\n",
       " 52905385,\n",
       " 25019850,\n",
       " 52030998,\n",
       " 6970938,\n",
       " 17239638,\n",
       " 14014044,\n",
       " 10782315,\n",
       " 28382837,\n",
       " 10782326,\n",
       " 18413176,\n",
       " 17172107,\n",
       " 51941018,\n",
       " 15584930,\n",
       " 50996928,\n",
       " 15584966,\n",
       " 53348061,\n",
       " 54910691,\n",
       " 54986484,\n",
       " 18810627,\n",
       " 16133940,\n",
       " 31102803,\n",
       " 10364760,\n",
       " 31819615,\n",
       " 34459497,\n",
       " 49493871,\n",
       " 9346933,\n",
       " 55910262,\n",
       " 54155128,\n",
       " 37742462,\n",
       " 16367562,\n",
       " 11513851]"
      ]
     },
     "execution_count": 21,
     "metadata": {},
     "output_type": "execute_result"
    }
   ],
   "source": [
    "rte_ids = rte_grid_ohe[clusterer.labels_ == 2063].index.tolist()\n",
    "rte_ids"
   ]
  },
  {
   "cell_type": "code",
   "execution_count": null,
   "metadata": {},
   "outputs": [],
   "source": [
    "rte_clustered.reset_index().to_feather(config.MODEL_PATH + 'rts_clustered_{}.feather'.format(pts_per_degree))"
   ]
  },
  {
   "cell_type": "code",
   "execution_count": null,
   "metadata": {},
   "outputs": [],
   "source": [
    "gridpts_at_rte_fine.head()"
   ]
  },
  {
   "cell_type": "code",
   "execution_count": 23,
   "metadata": {},
   "outputs": [],
   "source": [
    "def get_lat_lons_of_route(rte_id, gridpts, gridpts_rte):\n",
    "    grid_inds = gridpts_rte[gridpts_rte.rte_id == rte_id].grid_ids.values[0].tolist()\n",
    "    a = gridpts.set_index('grid_id')\n",
    "    return a.loc[grid_inds].lat, a.loc[grid_inds].lon"
   ]
  },
  {
   "cell_type": "code",
   "execution_count": 22,
   "metadata": {},
   "outputs": [],
   "source": [
    "grid_pts_fine = pd.read_feather(config.MODEL_PATH + 'grid_points_fine.feather')\n",
    "gridpts_at_rte_fine = pd.read_feather(config.PROCESSED_DATA_PATH + 'gridpts_at_rte_fine.feather')\n",
    "grid_pts_75 = pd.read_feather(config.MODEL_PATH + 'grid_points_75.feather')\n",
    "gridpts_at_rte_75 = pd.read_feather(config.PROCESSED_DATA_PATH + 'gridpts_at_rte_75.feather')\n"
   ]
  },
  {
   "cell_type": "code",
   "execution_count": null,
   "metadata": {},
   "outputs": [],
   "source": [
    "# lats, lons = get_lat_lons_of_route(rte_id, grid_pts_fine, gridpts_at_rte_fine)\n",
    "grid_inds = gridpts_at_rte_fine[gridpts_at_rte_fine.rte_id == rte_id].grid_ids.values[0].tolist()\n",
    "a = grid_pts_fine.reset_index()\n",
    "a.head()#loc[grid_inds]"
   ]
  },
  {
   "cell_type": "code",
   "execution_count": null,
   "metadata": {},
   "outputs": [],
   "source": [
    "print(rte_clustered[rte_clustered.labels == 2822].index[0])\n",
    "rte_clustered.head()"
   ]
  },
  {
   "cell_type": "code",
   "execution_count": null,
   "metadata": {},
   "outputs": [],
   "source": [
    "RTE_IDS = rte_clustered[rte_clustered.labels == -1].index.tolist()\n",
    "for lab in lab_counts.label:\n",
    "    if lab == -1: continue\n",
    "    RTE_IDS += [rte_clustered[rte_clustered.labels == lab].index[0]]"
   ]
  },
  {
   "cell_type": "code",
   "execution_count": null,
   "metadata": {},
   "outputs": [],
   "source": [
    "RTE_IDS.index()"
   ]
  },
  {
   "cell_type": "code",
   "execution_count": null,
   "metadata": {},
   "outputs": [],
   "source": [
    "a = pd.DataFrame(pd.Series(RTE_IDS, dtype='int', name='rte_id'))\n",
    "a.to_feather(config.PROCESSED_DATA_PATH + 'deduped_rte_ids.feather')"
   ]
  },
  {
   "cell_type": "code",
   "execution_count": null,
   "metadata": {},
   "outputs": [],
   "source": [
    "plt.figure(figsize=(10, 10))\n",
    "for rte_id in RTE_IDS:\n",
    "    lats, lons = get_lat_lons_of_route(rte_id, grid_pts_fine, gridpts_at_rte_fine)\n",
    "    plt.plot(lons, lats, 'k.', markersize=0.005)"
   ]
  },
  {
   "cell_type": "code",
   "execution_count": null,
   "metadata": {},
   "outputs": [],
   "source": [
    "plt.figure(figsize=(10, 10))\n",
    "plt.plot(grid_pts_fine.lon, grid_pts_fine.lat, 'k.', markersize=0.1)\n",
    "lab = -1\n",
    "for rte_id in rte_clustered[rte_clustered.labels == lab].index.tolist():\n",
    "    lats, lons = get_lat_lons_of_route(rte_id, grid_pts_fine, gridpts_at_rte_fine)\n",
    "    plt.plot(lons, lats, linestyle='', markersize=0.25, marker='.')\n",
    "for lab in lab_counts.label:\n",
    "    if lab == -1: continue\n",
    "    lats, lons = get_lat_lons_of_route(rte_clustered[rte_clustered.labels == lab].index[0],\n",
    "                                      grid_pts_fine, gridpts_at_rte_fine)\n",
    "    plt.plot(lons, lats, linestyle='', markersize=0.25, marker='.')\n",
    "# plt.xlim([-74.8, -73.2])\n",
    "# plt.ylim([41., 42.6])"
   ]
  },
  {
   "cell_type": "code",
   "execution_count": null,
   "metadata": {},
   "outputs": [],
   "source": [
    "plt.figure(figsize=(10, 10))\n",
    "plt.plot(grid_pts.lon, grid_pts.lat, 'k.', markersize=1/25*100)"
   ]
  },
  {
   "cell_type": "code",
   "execution_count": 52,
   "metadata": {
    "scrolled": false
   },
   "outputs": [
    {
     "data": {
      "image/png": "[encoded data removed]",
      "text/plain": [
       "<Figure size 720x720 with 1 Axes>"
      ]
     },
     "metadata": {
      "needs_background": "light"
     },
     "output_type": "display_data"
    }
   ],
   "source": [
    "plt.figure(figsize=(10, 10))\n",
    "# plt.plot(grid_pts_fine.lon, grid_pts_fine.lat, 'k.', markersize=0.5)\n",
    "# plt.plot(grid_pts.lon, grid_pts.lat, 'k.', markersize=5)\n",
    "labs = [13] #[2811, 2913, 1846, 2063, 2095]\n",
    "sns.set_palette('husl')\n",
    "for lab in labs:\n",
    "    for rte_id in rte_clustered[rte_clustered.labels == lab].index.tolist():\n",
    "        lats, lons = get_lat_lons_of_route(rte_id, grid_pts_fine, gridpts_at_rte_fine)\n",
    "        plt.plot(lons, lats, linestyle='', markersize=2, marker='.')\n",
    "# plt.xlim([-73.95, -73.8])\n",
    "# plt.ylim([41.69, 41.86])\n",
    "plt.gca().set_aspect('equal')\n",
    "    "
   ]
  },
  {
   "cell_type": "code",
   "execution_count": 8,
   "metadata": {},
   "outputs": [],
   "source": [
    "lab_counts['n_sets'] = 0\n",
    "for i, row in lab_counts.iterrows():\n",
    "    lab = row.label\n",
    "    grid_ids = rte_clustered[rte_clustered.labels == lab].grid_ids.values.tolist()\n",
    "    lab_counts.at[i, 'n_sets'] = len(set(tuple(gi for gi in rt) for rt in grid_ids))\n",
    "#     break\n",
    "# lab_counts[lab_counts.n_rtes > 100].label.tolist()\n",
    "# plt.plot(grid_pts.loc[])\n",
    "# rte_ids = rte_clustered[rte_clustered.labels]"
   ]
  },
  {
   "cell_type": "code",
   "execution_count": 33,
   "metadata": {},
   "outputs": [
    {
     "data": {
      "text/html": [
       "<div>\n",
       "<style scoped>\n",
       "    .dataframe tbody tr th:only-of-type {\n",
       "        vertical-align: middle;\n",
       "    }\n",
       "\n",
       "    .dataframe tbody tr th {\n",
       "        vertical-align: top;\n",
       "    }\n",
       "\n",
       "    .dataframe thead th {\n",
       "        text-align: right;\n",
       "    }\n",
       "</style>\n",
       "<table border=\"1\" class=\"dataframe\">\n",
       "  <thead>\n",
       "    <tr style=\"text-align: right;\">\n",
       "      <th></th>\n",
       "      <th>label</th>\n",
       "      <th>n_rtes</th>\n",
       "      <th>n_sets</th>\n",
       "    </tr>\n",
       "  </thead>\n",
       "  <tbody>\n",
       "    <tr>\n",
       "      <th>610</th>\n",
       "      <td>283</td>\n",
       "      <td>6</td>\n",
       "      <td>6</td>\n",
       "    </tr>\n",
       "    <tr>\n",
       "      <th>611</th>\n",
       "      <td>41</td>\n",
       "      <td>6</td>\n",
       "      <td>6</td>\n",
       "    </tr>\n",
       "    <tr>\n",
       "      <th>620</th>\n",
       "      <td>1768</td>\n",
       "      <td>6</td>\n",
       "      <td>6</td>\n",
       "    </tr>\n",
       "    <tr>\n",
       "      <th>640</th>\n",
       "      <td>3090</td>\n",
       "      <td>6</td>\n",
       "      <td>6</td>\n",
       "    </tr>\n",
       "    <tr>\n",
       "      <th>673</th>\n",
       "      <td>2964</td>\n",
       "      <td>6</td>\n",
       "      <td>6</td>\n",
       "    </tr>\n",
       "    <tr>\n",
       "      <th>695</th>\n",
       "      <td>445</td>\n",
       "      <td>6</td>\n",
       "      <td>6</td>\n",
       "    </tr>\n",
       "    <tr>\n",
       "      <th>699</th>\n",
       "      <td>1311</td>\n",
       "      <td>6</td>\n",
       "      <td>6</td>\n",
       "    </tr>\n",
       "    <tr>\n",
       "      <th>702</th>\n",
       "      <td>1716</td>\n",
       "      <td>6</td>\n",
       "      <td>6</td>\n",
       "    </tr>\n",
       "    <tr>\n",
       "      <th>703</th>\n",
       "      <td>301</td>\n",
       "      <td>6</td>\n",
       "      <td>6</td>\n",
       "    </tr>\n",
       "    <tr>\n",
       "      <th>710</th>\n",
       "      <td>288</td>\n",
       "      <td>6</td>\n",
       "      <td>6</td>\n",
       "    </tr>\n",
       "  </tbody>\n",
       "</table>\n",
       "</div>"
      ],
      "text/plain": [
       "     label  n_rtes  n_sets\n",
       "610    283       6       6\n",
       "611     41       6       6\n",
       "620   1768       6       6\n",
       "640   3090       6       6\n",
       "673   2964       6       6\n",
       "695    445       6       6\n",
       "699   1311       6       6\n",
       "702   1716       6       6\n",
       "703    301       6       6\n",
       "710    288       6       6"
      ]
     },
     "execution_count": 33,
     "metadata": {},
     "output_type": "execute_result"
    }
   ],
   "source": [
    "lab_counts[5 < lab_counts.n_sets].tail(10)\n",
    "# lab = 288\n",
    "# a = rte_clustered[rte_clustered.labels == lab].grid_ids"
   ]
  },
  {
   "cell_type": "code",
   "execution_count": 34,
   "metadata": {},
   "outputs": [
    {
     "data": {
      "text/plain": [
       "<AxesSubplot:>"
      ]
     },
     "execution_count": 34,
     "metadata": {},
     "output_type": "execute_result"
    },
    {
     "data": {
      "image/png": "[encoded data removed]",
      "text/plain": [
       "<Figure size 1440x360 with 1 Axes>"
      ]
     },
     "metadata": {
      "needs_background": "light"
     },
     "output_type": "display_data"
    }
   ],
   "source": [
    "lab = 1311\n",
    "a = rte_clustered[rte_clustered.labels == lab].grid_ids\n",
    "\n",
    "gi = [g for i in a for g in i]\n",
    "gi = set(gi)\n",
    "b = pd.DataFrame(index=a.index)\n",
    "for i, g in enumerate(gi):\n",
    "    b[i] = a.apply(lambda x: g in x)\n",
    "b.reset_index(drop=True, inplace=True)\n",
    "# for i, r in b.iterrows():\n",
    "#     plt.plot(np.arange(0+i/b.shape[0], 50+i/b.shape[0]), r, 'o')\n",
    "# plt.plot(np.sum(b.values.astype(int), axis=0))\n",
    "sns.set_palette('dark')\n",
    "\n",
    "plt.figure(figsize=(20, 5))\n",
    "sns.heatmap(b.values.astype(int), cbar=False, square=True, cmap=\"Blues_r\")"
   ]
  },
  {
   "cell_type": "code",
   "execution_count": 9,
   "metadata": {},
   "outputs": [
    {
     "data": {
      "text/plain": [
       "Text(0, 0.5, 'Unique sets of grid points in cluster')"
      ]
     },
     "execution_count": 9,
     "metadata": {},
     "output_type": "execute_result"
    },
    {
     "data": {
      "image/png": "[encoded data removed]",
      "text/plain": [
       "<Figure size 432x432 with 1 Axes>"
      ]
     },
     "metadata": {
      "needs_background": "light"
     },
     "output_type": "display_data"
    }
   ],
   "source": [
    "plt.figure(figsize=(6, 6))\n",
    "plt.plot([0, 16], [0, 16], '--', color=(0.5, 0.5, 0.5))\n",
    "plt.plot(lab_counts[lab_counts.label >= 0].n_rtes, lab_counts[lab_counts.label >= 0].n_sets, 'r.')\n",
    "ftsz = 16\n",
    "plt.xlabel('Routes in cluster', fontsize=ftsz)\n",
    "plt.ylabel('Unique sets of grid points in cluster', fontsize=ftsz)\n",
    "\n",
    "# plt.gca().set_fontsize(16)"
   ]
  },
  {
   "cell_type": "code",
   "execution_count": null,
   "metadata": {},
   "outputs": [],
   "source": [
    "te_clustered.reset_index().to_feather(config.MODEL_PATH + 'rts_clustered_{}.feather'.format(pts_per_degree))"
   ]
  }
 ],
 "metadata": {
  "kernelspec": {
   "display_name": "Python 3",
   "language": "python",
   "name": "python3"
  },
  "language_info": {
   "codemirror_mode": {
    "name": "ipython",
    "version": 3
   },
   "file_extension": ".py",
   "mimetype": "text/x-python",
   "name": "python",
   "nbconvert_exporter": "python",
   "pygments_lexer": "ipython3",
   "version": "3.8.5"
  }
 },
 "nbformat": 4,
 "nbformat_minor": 4
}
