{
 "cells": [
  {
   "cell_type": "code",
   "execution_count": 1,
   "metadata": {},
   "outputs": [],
   "source": [
    "%load_ext autoreload\n",
    "%autoreload 2\n",
    "\n",
    "%matplotlib inline"
   ]
  },
  {
   "cell_type": "code",
   "execution_count": 2,
   "metadata": {},
   "outputs": [],
   "source": [
    "import requests\n",
    "import pandas as pd\n",
    "import numpy as np\n",
    "import matplotlib.pyplot as plt\n",
    "import seaborn as sns\n",
    "import os\n",
    "import datetime\n",
    "import re\n",
    "import json\n",
    "import collections\n",
    "\n",
    "\n",
    "from util import get_data\n",
    "from util import mapping\n",
    "from util import clean_data\n",
    "from util import config\n",
    "from util import plot_clusters\n",
    "\n",
    "import sklearn.cluster\n",
    "import sklearn.neighbors\n",
    "import scipy\n",
    "\n",
    "import hdbscan"
   ]
  },
  {
   "cell_type": "code",
   "execution_count": 103,
   "metadata": {},
   "outputs": [
    {
     "data": {
      "text/html": [
       "<div>\n",
       "<style scoped>\n",
       "    .dataframe tbody tr th:only-of-type {\n",
       "        vertical-align: middle;\n",
       "    }\n",
       "\n",
       "    .dataframe tbody tr th {\n",
       "        vertical-align: top;\n",
       "    }\n",
       "\n",
       "    .dataframe thead th {\n",
       "        text-align: right;\n",
       "    }\n",
       "</style>\n",
       "<table border=\"1\" class=\"dataframe\">\n",
       "  <thead>\n",
       "    <tr style=\"text-align: right;\">\n",
       "      <th></th>\n",
       "      <th>rte_id</th>\n",
       "      <th>time</th>\n",
       "      <th>lat</th>\n",
       "      <th>lon</th>\n",
       "      <th>elevation</th>\n",
       "      <th>dist</th>\n",
       "      <th>speed</th>\n",
       "      <th>slope</th>\n",
       "      <th>labels</th>\n",
       "      <th>dt</th>\n",
       "    </tr>\n",
       "  </thead>\n",
       "  <tbody>\n",
       "    <tr>\n",
       "      <th>20938</th>\n",
       "      <td>37828753</td>\n",
       "      <td>33743</td>\n",
       "      <td>41.815018</td>\n",
       "      <td>-73.561592</td>\n",
       "      <td>155.0</td>\n",
       "      <td>0.002705</td>\n",
       "      <td>7.212596</td>\n",
       "      <td>0.578951</td>\n",
       "      <td>1</td>\n",
       "      <td>1.0</td>\n",
       "    </tr>\n",
       "    <tr>\n",
       "      <th>20939</th>\n",
       "      <td>37828753</td>\n",
       "      <td>33744</td>\n",
       "      <td>41.815037</td>\n",
       "      <td>-73.561638</td>\n",
       "      <td>155.2</td>\n",
       "      <td>0.001725</td>\n",
       "      <td>6.994537</td>\n",
       "      <td>0.578951</td>\n",
       "      <td>1</td>\n",
       "      <td>1.0</td>\n",
       "    </tr>\n",
       "    <tr>\n",
       "      <th>20940</th>\n",
       "      <td>37828753</td>\n",
       "      <td>33745</td>\n",
       "      <td>41.815048</td>\n",
       "      <td>-73.561668</td>\n",
       "      <td>155.2</td>\n",
       "      <td>0.001620</td>\n",
       "      <td>6.631535</td>\n",
       "      <td>0.578951</td>\n",
       "      <td>1</td>\n",
       "      <td>1.0</td>\n",
       "    </tr>\n",
       "    <tr>\n",
       "      <th>20941</th>\n",
       "      <td>37828753</td>\n",
       "      <td>33746</td>\n",
       "      <td>41.815044</td>\n",
       "      <td>-73.561699</td>\n",
       "      <td>155.2</td>\n",
       "      <td>0.001115</td>\n",
       "      <td>6.317518</td>\n",
       "      <td>0.578951</td>\n",
       "      <td>1</td>\n",
       "      <td>1.0</td>\n",
       "    </tr>\n",
       "    <tr>\n",
       "      <th>20942</th>\n",
       "      <td>37828753</td>\n",
       "      <td>33747</td>\n",
       "      <td>41.815029</td>\n",
       "      <td>-73.561707</td>\n",
       "      <td>155.2</td>\n",
       "      <td>0.000000</td>\n",
       "      <td>6.011549</td>\n",
       "      <td>0.578951</td>\n",
       "      <td>1</td>\n",
       "      <td>1.0</td>\n",
       "    </tr>\n",
       "  </tbody>\n",
       "</table>\n",
       "</div>"
      ],
      "text/plain": [
       "         rte_id   time        lat        lon  elevation      dist     speed  \\\n",
       "20938  37828753  33743  41.815018 -73.561592      155.0  0.002705  7.212596   \n",
       "20939  37828753  33744  41.815037 -73.561638      155.2  0.001725  6.994537   \n",
       "20940  37828753  33745  41.815048 -73.561668      155.2  0.001620  6.631535   \n",
       "20941  37828753  33746  41.815044 -73.561699      155.2  0.001115  6.317518   \n",
       "20942  37828753  33747  41.815029 -73.561707      155.2  0.000000  6.011549   \n",
       "\n",
       "          slope  labels   dt  \n",
       "20938  0.578951       1  1.0  \n",
       "20939  0.578951       1  1.0  \n",
       "20940  0.578951       1  1.0  \n",
       "20941  0.578951       1  1.0  \n",
       "20942  0.578951       1  1.0  "
      ]
     },
     "execution_count": 103,
     "metadata": {},
     "output_type": "execute_result"
    }
   ],
   "source": [
    "a['dt'] = a.time.diff()\n",
    "a.tail()"
   ]
  },
  {
   "cell_type": "code",
   "execution_count": 5,
   "metadata": {},
   "outputs": [],
   "source": [
    "RTE_IDS = pd.read_feather(config.PROCESSED_DATA_PATH + 'deduped_rte_ids.feather')\n"
   ]
  },
  {
   "cell_type": "code",
   "execution_count": 61,
   "metadata": {
    "scrolled": true
   },
   "outputs": [
    {
     "name": "stdout",
     "output_type": "stream",
     "text": [
      "0\n",
      "23586828 - broken: 12.4 of 113.5\n",
      "5443624 - broken: 7.6 of 26.8\n",
      "9906993 - broken: 2.4 of 24.2\n",
      "15752406 - broken: 3.4 of 37.7\n",
      "1631790 - broken: 1.6 of 24.0\n",
      "19071958 - broken: 3.7 of 44.5\n",
      "33539334 - broken: 11.5 of 31.5\n",
      "18705152 - broken: 5.4 of 41.3\n",
      "1879002 - broken: 2.3 of 43.2\n",
      "34303372 - broken: 7.5 of 36.5\n",
      "200\n",
      "9957826 - broken: 9.3 of 68.8\n",
      "52253313 - broken: 66.1 of 100.6\n",
      "13714581 - broken: 2.9 of 52.7\n",
      "13927674 - broken: 1.0 of 16.0\n",
      "18122861 - broken: 2.7 of 47.1\n",
      "18115046 - broken: 3.9 of 59.5\n",
      "33237659 - broken: 3.4 of 63.9\n",
      "24644349 - broken: 5.4 of 22.4\n",
      "400\n",
      "55693008 - broken: 3.3 of 41.4\n",
      "39368264 - broken: 3.0 of 50.1\n",
      "11106985 - broken: 2.0 of 39.9\n",
      "55397838 - broken: 4.0 of 12.9\n",
      "40387475 - broken: 6.1 of 35.6\n",
      "600\n",
      "6178895 - broken: 2.4 of 35.5\n",
      "15813016 - broken: 7.2 of 48.0\n",
      "37714008 - broken: 11.4 of 27.0\n",
      "37828753 - broken: 27.8 of 108.0\n",
      "22690755 - broken: 3.1 of 27.3\n",
      "3955839 - broken: 5.2 of 52.1\n",
      "800\n",
      "39361371 - broken: 0.4 of 5.9\n",
      "4932207 - broken: 3.7 of 47.1\n",
      "11784507 - broken: 2.6 of 22.0\n",
      "1000\n",
      "39679937 - broken: 8.5 of 52.2\n",
      "34612271 - broken: 10.7 of 86.2\n",
      "39530820 - broken: 2.4 of 25.1\n",
      "5299375 - broken: 3.8 of 69.7\n",
      "1200\n",
      "21901395 - broken: 12.0 of 90.9\n",
      "17624737 - broken: 19.9 of 53.6\n",
      "33966894 - broken: 1.5 of 18.6\n",
      "52281473 - broken: 9.1 of 22.2\n",
      "9807952 - broken: 1.9 of 37.4\n",
      "47418721 - broken: 2.9 of 25.6\n",
      "1400\n",
      "10639081 - broken: 6.9 of 29.4\n",
      "26983218 - broken: 2.7 of 34.0\n",
      "45912548 - broken: 5.5 of 14.6\n",
      "41855584 - broken: 3.8 of 51.6\n",
      "52953826 - broken: 5.5 of 25.8\n",
      "56157496 - broken: 3.8 of 13.0\n",
      "49817041 - broken: 1.8 of 10.5\n",
      "56503690 - broken: 5.2 of 95.6\n",
      "43039120 - broken: 2.0 of 32.0\n",
      "1600\n",
      "9200772 - broken: 1.6 of 9.7\n",
      "19515024 - broken: 1.2 of 20.3\n",
      "1800\n",
      "44377444 - broken: 5.2 of 62.8\n",
      "19868195 - broken: 1.8 of 9.6\n",
      "51645377 - broken: 1.6 of 23.3\n",
      "34061155 - broken: 21.9 of 110.5\n",
      "2000\n",
      "15234180 - broken: 4.3 of 47.1\n",
      "7274067 - broken: 0.4 of 6.7\n",
      "36319439 - broken: 1.9 of 6.5\n",
      "47689480 - broken: 2.2 of 15.6\n",
      "26328148 - broken: 0.5 of 4.6\n",
      "37396625 - broken: 0.0 of 0.9\n",
      "35099621 - broken: 19.8 of 26.8\n",
      "2200\n",
      "40407722 - broken: 14.8 of 28.4\n",
      "3285151 - broken: 1.0 of 15.7\n",
      "2400\n",
      "48957668 - broken: 0.5 of 4.7\n",
      "17432853 - broken: 1.7 of 22.8\n",
      "53121393 - broken: 0.8 of 5.7\n",
      "47440180 - broken: 5.2 of 23.3\n",
      "2600\n",
      "11116441 - broken: 13.9 of 58.8\n",
      "2671921 - broken: 3.3 of 53.2\n",
      "15334212 - broken: 3.9 of 15.2\n",
      "9946696 - broken: 6.3 of 70.2\n",
      "27310409 - broken: 5.3 of 22.8\n",
      "2800\n",
      "23621810 - broken: 4.5 of 13.7\n",
      "17363130 - broken: 3.5 of 17.3\n",
      "3000\n",
      "52447968 - broken: 1.2 of 12.3\n",
      "39330023 - broken: 2.2 of 25.0\n",
      "3200\n",
      "14232060 - broken: 0.9 of 12.8\n",
      "1730691 - broken: 3.0 of 57.5\n",
      "14968483 - broken: 1.4 of 17.9\n",
      "22490871 - broken: 2.6 of 17.0\n",
      "39063712 - broken: 2.5 of 28.7\n",
      "3400\n",
      "33576868 - broken: 4.6 of 81.0\n",
      "26810728 - broken: 7.7 of 79.2\n",
      "40309466 - broken: 7.9 of 37.4\n",
      "3487830 - broken: 0.6 of 8.2\n",
      "3600\n",
      "3465105 - broken: 4.0 of 13.2\n",
      "13018594 - broken: 0.5 of 6.1\n",
      "45458064 - broken: 2.4 of 35.0\n",
      "17091223 - broken: 11.4 of 30.5\n",
      "17884669 - broken: 8.0 of 56.4\n",
      "27799666 - broken: 3.0 of 40.5\n",
      "3800\n",
      "27489053 - broken: 0.8 of 9.2\n",
      "4000\n",
      "8029481 - broken: 5.2 of 99.4\n",
      "9987542 - broken: 13.3 of 67.3\n",
      "48441656 - broken: 0.7 of 11.8\n",
      "28033137 - broken: 6.0 of 97.4\n",
      "19011133 - broken: 4.2 of 38.1\n",
      "4200\n",
      "21597528 - broken: 1.4 of 18.0\n",
      "4400\n",
      "6404574 - broken: 3.8 of 51.4\n",
      "23735221 - broken: 2.3 of 29.1\n",
      "4600\n",
      "5234921 - broken: 0.9 of 15.5\n",
      "4800\n",
      "38782901 - broken: 1.7 of 24.4\n",
      "44821154 - broken: 0.0 of 0.0\n",
      "34580903 - broken: 2.2 of 37.6\n",
      "24824054 - broken: 0.6 of 10.3\n",
      "5000\n",
      "26854533 - broken: 0.3 of 6.6\n",
      "2302823 - broken: 2.7 of 19.7\n",
      "54487174 - broken: 2.3 of 27.2\n",
      "28941057 - broken: 0.0 of 0.1\n",
      "5200\n",
      "5400\n",
      "36965937 - broken: 3.1 of 50.1\n",
      "17797178 - broken: 1.1 of 18.6\n"
     ]
    },
    {
     "data": {
      "text/plain": [
       "<Figure size 360x360 with 0 Axes>"
      ]
     },
     "metadata": {},
     "output_type": "display_data"
    }
   ],
   "source": [
    "clusterer = hdbscan.HDBSCAN(cluster_selection_epsilon=5)\n",
    "plt.figure(figsize=(5, 5))\n",
    "for i, rte_id in enumerate(RTE_IDS.rte_id):\n",
    "#     if rte_id == 23586828: continue\n",
    "    if not i % 200: print(i)\n",
    "    a = pd.read_feather(config.CLEAN_TRIPS_PATH + '{}.feather'.format(rte_id))\n",
    "    if a.dist.max() < 1/20 * a.dist.sum():\n",
    "        continue\n",
    "    print('{} - broken: {:.1f} of {:.1f}'.format(rte_id, a.dist.max(), a.dist.sum()))\n",
    "    clusterer.fit(a[['lat', 'lon']])\n",
    "    a['labels'] = clusterer.labels_\n",
    "    biggest_segment = a.labels.value_counts().index[0]\n",
    "    \n",
    "    os.rename(config.CLEAN_TRIPS_PATH + '{}.feather'.format(rte_id), \n",
    "              config.CLEAN_TRIPS_PATH + 'junk_feather/{}.feather'.format(rte_id))\n",
    "    \n",
    "    a = a[a.labels == biggest_segment].reset_index()\n",
    "    a.to_feather(config.CLEAN_TRIPS_PATH + '{}.feather'.format(rte_id))\n",
    "#     for lab in a.labels.unique():\n",
    "#         if lab == -1:\n",
    "#             plt.plot(a[a.labels==lab].lon, a[a.labels==lab].lat, '.', color=(0.5, 0.5, 0.5), markersize=0.5)\n",
    "#         else:\n",
    "#             plt.plot(a[a.labels==lab].lon, a[a.labels==lab].lat, '.', markersize=0.5)\n",
    "# #     break"
   ]
  },
  {
   "cell_type": "code",
   "execution_count": 74,
   "metadata": {
    "scrolled": false
   },
   "outputs": [
    {
     "data": {
      "image/png": "[encoded data removed]",
      "text/plain": [
       "<Figure size 432x288 with 1 Axes>"
      ]
     },
     "metadata": {
      "needs_background": "light"
     },
     "output_type": "display_data"
    }
   ],
   "source": [
    "rte_id = 34061155\n",
    "# 17797178 36965937 9987542 17624737  37828753 52253313 56503690\n",
    "a = pd.read_feather(config.CLEAN_TRIPS_PATH + 'junk_feather/{}.feather'.format(rte_id))\n",
    "clusterer.fit(a[['lat', 'lon']])\n",
    "a['labels'] = clusterer.labels_\n",
    "\n",
    "for lab in a.labels.unique():\n",
    "    if lab == -1:\n",
    "        plt.plot(a[a.labels==lab].lon, a[a.labels==lab].lat, '.', color=(0.5, 0.5, 0.5), markersize=0.5)\n",
    "    else:\n",
    "        plt.plot(a[a.labels==lab].lon, a[a.labels==lab].lat, '.', markersize=0.5)"
   ]
  },
  {
   "cell_type": "code",
   "execution_count": 78,
   "metadata": {},
   "outputs": [
    {
     "data": {
      "text/plain": [
       "[1, 0, -1]"
      ]
     },
     "execution_count": 78,
     "metadata": {},
     "output_type": "execute_result"
    }
   ],
   "source": [
    "a.labels.value_counts().index.tolist()"
   ]
  },
  {
   "cell_type": "code",
   "execution_count": 99,
   "metadata": {},
   "outputs": [
    {
     "data": {
      "image/png": "[encoded data removed]",
      "text/plain": [
       "<Figure size 720x720 with 1 Axes>"
      ]
     },
     "metadata": {
      "needs_background": "light"
     },
     "output_type": "display_data"
    }
   ],
   "source": [
    "colours = sns.color_palette('husl', 5)\n",
    "plt.figure(figsize=(10, 10))\n",
    "#[34061155, 17797178, 36965937, 9987542, 17624737, 37828753, 52253313, 56503690]\n",
    "for i, rte_id in enumerate([34061155, 17797178, 9987542, 56503690, 37828753]):\n",
    "    a = pd.read_feather(config.CLEAN_TRIPS_PATH + 'junk_feather/{}.feather'.format(rte_id))\n",
    "    clusterer.fit(a[['lat', 'lon']])\n",
    "    a['labels'] = clusterer.labels_\n",
    "    for ii, lab in enumerate(a.labels.value_counts().index.tolist()):\n",
    "        if lab == -1: continue\n",
    "        plt.plot(a[a.labels==lab].lon, a[a.labels==lab].lat, '.', markersize=0.5, color=np.array(colours[i]) * (a.labels.nunique() - ii) / a.labels.nunique())\n",
    "plt.gca().set_aspect('equal')"
   ]
  }
 ],
 "metadata": {
  "kernelspec": {
   "display_name": "Python 3",
   "language": "python",
   "name": "python3"
  },
  "language_info": {
   "codemirror_mode": {
    "name": "ipython",
    "version": 3
   },
   "file_extension": ".py",
   "mimetype": "text/x-python",
   "name": "python",
   "nbconvert_exporter": "python",
   "pygments_lexer": "ipython3",
   "version": "3.8.5"
  }
 },
 "nbformat": 4,
 "nbformat_minor": 4
}
