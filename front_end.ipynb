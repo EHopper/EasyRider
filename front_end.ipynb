{
 "cells": [
  {
   "cell_type": "code",
   "execution_count": 1,
   "metadata": {},
   "outputs": [],
   "source": [
    "%load_ext autoreload\n",
    "%autoreload 2\n",
    "\n",
    "%matplotlib inline"
   ]
  },
  {
   "cell_type": "code",
   "execution_count": 6,
   "metadata": {},
   "outputs": [],
   "source": [
    "import requests\n",
    "import pandas as pd\n",
    "import numpy as np\n",
    "import matplotlib.pyplot as plt\n",
    "import seaborn as sns\n",
    "import os\n",
    "import datetime\n",
    "import re\n",
    "\n",
    "import hdbscan\n",
    "import sklearn.cluster\n",
    "import sklearn.manifold\n",
    "import umap\n",
    "import webbrowser\n",
    "\n",
    "\n",
    "from util import get_data\n",
    "from util import mapping\n",
    "from util import clean_data\n",
    "from util import config\n",
    "from util import plot_clusters"
   ]
  },
  {
   "cell_type": "code",
   "execution_count": 3,
   "metadata": {},
   "outputs": [
    {
     "data": {
      "text/html": [
       "<div>\n",
       "<style scoped>\n",
       "    .dataframe tbody tr th:only-of-type {\n",
       "        vertical-align: middle;\n",
       "    }\n",
       "\n",
       "    .dataframe tbody tr th {\n",
       "        vertical-align: top;\n",
       "    }\n",
       "\n",
       "    .dataframe thead th {\n",
       "        text-align: right;\n",
       "    }\n",
       "</style>\n",
       "<table border=\"1\" class=\"dataframe\">\n",
       "  <thead>\n",
       "    <tr style=\"text-align: right;\">\n",
       "      <th></th>\n",
       "      <th>id</th>\n",
       "      <th>labels</th>\n",
       "    </tr>\n",
       "  </thead>\n",
       "  <tbody>\n",
       "    <tr>\n",
       "      <th>0</th>\n",
       "      <td>23209396</td>\n",
       "      <td>2</td>\n",
       "    </tr>\n",
       "    <tr>\n",
       "      <th>1</th>\n",
       "      <td>54372107</td>\n",
       "      <td>2</td>\n",
       "    </tr>\n",
       "    <tr>\n",
       "      <th>2</th>\n",
       "      <td>48496079</td>\n",
       "      <td>2</td>\n",
       "    </tr>\n",
       "    <tr>\n",
       "      <th>3</th>\n",
       "      <td>40433541</td>\n",
       "      <td>2</td>\n",
       "    </tr>\n",
       "    <tr>\n",
       "      <th>4</th>\n",
       "      <td>47936294</td>\n",
       "      <td>5</td>\n",
       "    </tr>\n",
       "  </tbody>\n",
       "</table>\n",
       "</div>"
      ],
      "text/plain": [
       "         id  labels\n",
       "0  23209396       2\n",
       "1  54372107       2\n",
       "2  48496079       2\n",
       "3  40433541       2\n",
       "4  47936294       5"
      ]
     },
     "execution_count": 3,
     "metadata": {},
     "output_type": "execute_result"
    }
   ],
   "source": [
    "df = pd.read_csv('data/processed/ridewgps_labelled.csv')\n",
    "df.head()"
   ]
  },
  {
   "cell_type": "code",
   "execution_count": 20,
   "metadata": {
    "scrolled": true
   },
   "outputs": [
    {
     "name": "stdout",
     "output_type": "stream",
     "text": [
      "Riders! What are you in the mood for?\n",
      "\n",
      "\ta) Chilling out in the saddle?\n",
      "\tb) Pretty relaxed, with some climbing?\n",
      "\tc) Half-day of touring?\n",
      "\td) Training for VO2-max?\n",
      "\te) Training for strength?\n",
      "\tf) Training for a century?\n",
      "Enter a, b, c, d, e, or f:  b\n"
     ]
    },
    {
     "data": {
      "text/plain": [
       "True"
      ]
     },
     "execution_count": 20,
     "metadata": {},
     "output_type": "execute_result"
    }
   ],
   "source": [
    "print('Riders! What are you in the mood for?\\n')\n",
    "print('\\ta) Chilling out in the saddle?')\n",
    "print('\\tb) Pretty relaxed, with some climbing?')\n",
    "print('\\tc) Half-day of touring?')\n",
    "print('\\td) Training for VO2-max?')\n",
    "print('\\te) Training for strength?')\n",
    "print('\\tf) Training for a century?')\n",
    "ans = input('Enter a, b, c, d, e, or f:  ')\n",
    "\n",
    "label_dict = {'a': 5, 'b': 2, 'c': 1, 'd': 0, 'e': 3, 'f': 4}\n",
    "\n",
    "random_ride = df[df.labels == label_dict[ans]].id.sample().values[0]\n",
    "url = 'http://ridewithgps.com/trips/{}'.format(random_ride)\n",
    "webbrowser.open(url)"
   ]
  },
  {
   "cell_type": "code",
   "execution_count": 5,
   "metadata": {},
   "outputs": [
    {
     "data": {
      "text/plain": [
       "{'Chilling out in the saddle': 5,\n",
       " 'Pretty relaxed, with some climbing': 2,\n",
       " 'Half-day of touring': 1,\n",
       " 'Training for VO2-max': 0,\n",
       " 'Training for strength': 3,\n",
       " 'Training for a century': 4}"
      ]
     },
     "execution_count": 5,
     "metadata": {},
     "output_type": "execute_result"
    }
   ],
   "source": [
    "opt_descriptions = ['Chilling out in the saddle', 'Pretty relaxed, with some climbing',\n",
    "'Half-day of touring', 'Training for VO2-max', 'Training for strength',\n",
    "'Training for a century']\n",
    "label_dict = dict.fromkeys(opt_descriptions)\n",
    "label_order = [5, 2, 1, 0, 3, 4]\n",
    "for i, l in enumerate(label_order):\n",
    "    label_dict[opt_descriptions[i]] = l\n",
    "label_dict"
   ]
  }
 ],
 "metadata": {
  "kernelspec": {
   "display_name": "Python 3",
   "language": "python",
   "name": "python3"
  },
  "language_info": {
   "codemirror_mode": {
    "name": "ipython",
    "version": 3
   },
   "file_extension": ".py",
   "mimetype": "text/x-python",
   "name": "python",
   "nbconvert_exporter": "python",
   "pygments_lexer": "ipython3",
   "version": "3.8.5"
  }
 },
 "nbformat": 4,
 "nbformat_minor": 4
}
