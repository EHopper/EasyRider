{
 "cells": [
  {
   "cell_type": "code",
   "execution_count": 1,
   "metadata": {},
   "outputs": [],
   "source": [
    "%load_ext autoreload\n",
    "%autoreload 2\n",
    "\n",
    "%matplotlib inline"
   ]
  },
  {
   "cell_type": "code",
   "execution_count": 2,
   "metadata": {},
   "outputs": [],
   "source": [
    "import requests\n",
    "import pandas as pd\n",
    "import numpy as np\n",
    "import matplotlib.pyplot as plt\n",
    "import seaborn as sns\n",
    "import os\n",
    "import datetime\n",
    "import re\n",
    "import json\n",
    "import collections\n",
    "\n",
    "\n",
    "from util import get_data\n",
    "from util import mapping\n",
    "from util import clean_data\n",
    "from util import config\n",
    "from util import plot_clusters\n",
    "from util import process_data\n",
    "\n",
    "import sklearn.cluster\n",
    "import sklearn.neighbors\n",
    "import sklearn.linear_model\n",
    "import sklearn.model_selection\n",
    "import sklearn.metrics\n",
    "import scipy\n",
    "import umap\n",
    "import pydeck as pdk"
   ]
  },
  {
   "cell_type": "code",
   "execution_count": null,
   "metadata": {},
   "outputs": [],
   "source": [
    "def fit_tree(df, feature_importance):\n",
    "    LEAF_SIZE = 20\n",
    "    return sklearn.neighbors.KDTree(df * feature_importance, leaf_size=LEAF_SIZE)\n"
   ]
  },
  {
   "cell_type": "markdown",
   "metadata": {},
   "source": [
    "## Actual Validation"
   ]
  },
  {
   "cell_type": "code",
   "execution_count": 3,
   "metadata": {},
   "outputs": [],
   "source": [
    "def load_data():\n",
    "    trips = pd.read_feather(config.PROCESSED_DATA_PATH + 'trips_scaled.feather')\n",
    "    trips.set_index('rte_id', inplace=True)\n",
    "\n",
    "    gridpts_at_rte_500 = pd.read_feather(config.PROCESSED_DATA_PATH + 'gridpts_at_rte_500.feather')\n",
    "    gridpts_at_rte_500.set_index('rte_id', inplace=True)\n",
    "\n",
    "    grid_pts_500 = pd.read_feather(config.MODEL_PATH + 'grid_points_500.feather')\n",
    "    grid_pts_500.set_index('grid_id', inplace=True)\n",
    "\n",
    "    feature_sc = pd.read_feather(config.MODEL_PATH + 'feature_importance.feather')\n",
    "    feature_scaling = dict()\n",
    "    for col in trips.columns:\n",
    "        if col in feature_sc.feature_names.tolist():\n",
    "            feature_scaling[col] = abs(\n",
    "                feature_sc[feature_sc.feature_names == col].scaling.values[0])\n",
    "        else:\n",
    "            feature_scaling[col] = 0.\n",
    "    # Other features\n",
    "    feature_scaling['popularity'] = 0.5\n",
    "    feature_scaling['detour_score'] = 0.5\n",
    "\n",
    "    return trips, grid_pts_500, gridpts_at_rte_500, feature_scaling\n",
    "\n",
    "def fit_tree(df, feature_importance):\n",
    "    LEAF_SIZE = 20\n",
    "    return sklearn.neighbors.KDTree(df * feature_importance, leaf_size=LEAF_SIZE)\n",
    "\n",
    "def neighbour_ids(chosen, trips, tree):\n",
    "    dists, df_inds = tree.query(chosen, k=5)\n",
    "    dists, df_inds = dists.flatten(), df_inds.flatten()\n",
    "    neighbour_rte_ids = trips.index[df_inds].tolist()\n",
    "    \n",
    "    return neighbour_rte_ids, dists\n",
    "\n",
    "plt.rcParams['axes.facecolor'] = '#F3F3F3'\n",
    "plt.rcParams['figure.facecolor'] = '#F3F3F3'\n",
    "plt.rcParams['font.size'] = 20"
   ]
  },
  {
   "cell_type": "code",
   "execution_count": 4,
   "metadata": {},
   "outputs": [],
   "source": [
    "def plot_map(df_list):\n",
    "    layers = []\n",
    "    d=1\n",
    "    c = (41.8, -74.3)\n",
    "    colours = sns.color_palette([\"#7A2008\", \"#d4350b\", \"#ff5224\",  \"#b68679\", \"#df8770\"])\n",
    "    for i, df in enumerate(df_list):\n",
    "        layers += [pdk.Layer(\n",
    "            type=\"ScatterplotLayer\",\n",
    "            data = pd.DataFrame({\n",
    "                'coordinates': [[lon, lat] for lat, lon in zip(df.lat, df.lon)],\n",
    "            }),\n",
    "            filled=True,\n",
    "            stroked=False,\n",
    "            get_position=\"coordinates\",\n",
    "            get_radius=150,\n",
    "            min_pixel_width = 5,\n",
    "            get_fill_color=[int(x * 255) for x in colours[i % 5]]\n",
    "        )]\n",
    "        \n",
    "    return pdk.Deck(\n",
    "            map_style=\"mapbox://styles/mapbox/light-v10\",\n",
    "            initial_view_state=pdk.data_utils.compute_view([\n",
    "                [c[1] + d, c[0] + d],\n",
    "                [c[1] + d, c[0] - d],\n",
    "                [c[1] - d, c[0] + d],\n",
    "                [c[1] - d, c[0] - d],\n",
    "            ]),\n",
    "            layers=layers,\n",
    "            tooltip={\"html\": \"<b>Ride {name}</b>\", \"style\": {\"color\": \"white\"}},\n",
    "            mapbox_key=os.getenv('MAPBOX_API_KEY')\n",
    "        )"
   ]
  },
  {
   "cell_type": "code",
   "execution_count": 5,
   "metadata": {},
   "outputs": [],
   "source": [
    "trips, grid_pts_fine, gridpts_at_rte_fine, fs = load_data()\n",
    "tree = fit_tree(trips, [v for v in fs.values()])"
   ]
  },
  {
   "cell_type": "code",
   "execution_count": 6,
   "metadata": {
    "scrolled": false
   },
   "outputs": [
    {
     "data": {
      "text/html": [
       "<div>\n",
       "<style scoped>\n",
       "    .dataframe tbody tr th:only-of-type {\n",
       "        vertical-align: middle;\n",
       "    }\n",
       "\n",
       "    .dataframe tbody tr th {\n",
       "        vertical-align: top;\n",
       "    }\n",
       "\n",
       "    .dataframe thead th {\n",
       "        text-align: right;\n",
       "    }\n",
       "</style>\n",
       "<table border=\"1\" class=\"dataframe\">\n",
       "  <thead>\n",
       "    <tr style=\"text-align: right;\">\n",
       "      <th></th>\n",
       "      <th>group_membership_id</th>\n",
       "      <th>route_id</th>\n",
       "      <th>created_at</th>\n",
       "      <th>gear_id</th>\n",
       "      <th>departed_at</th>\n",
       "      <th>duration</th>\n",
       "      <th>distance</th>\n",
       "      <th>elevation_gain</th>\n",
       "      <th>elevation_loss</th>\n",
       "      <th>visibility</th>\n",
       "      <th>...</th>\n",
       "      <th>track_id</th>\n",
       "      <th>postal_code</th>\n",
       "      <th>locality</th>\n",
       "      <th>administrative_area</th>\n",
       "      <th>country_code</th>\n",
       "      <th>source_type</th>\n",
       "      <th>short_location</th>\n",
       "      <th>highlighted_photo_id</th>\n",
       "      <th>utc_offset</th>\n",
       "      <th>avg_power_estimated</th>\n",
       "    </tr>\n",
       "    <tr>\n",
       "      <th>id</th>\n",
       "      <th></th>\n",
       "      <th></th>\n",
       "      <th></th>\n",
       "      <th></th>\n",
       "      <th></th>\n",
       "      <th></th>\n",
       "      <th></th>\n",
       "      <th></th>\n",
       "      <th></th>\n",
       "      <th></th>\n",
       "      <th></th>\n",
       "      <th></th>\n",
       "      <th></th>\n",
       "      <th></th>\n",
       "      <th></th>\n",
       "      <th></th>\n",
       "      <th></th>\n",
       "      <th></th>\n",
       "      <th></th>\n",
       "      <th></th>\n",
       "      <th></th>\n",
       "    </tr>\n",
       "  </thead>\n",
       "  <tbody>\n",
       "    <tr>\n",
       "      <th>51836172</th>\n",
       "      <td>52165</td>\n",
       "      <td>NaN</td>\n",
       "      <td>2020-07-03T04:58:13-07:00</td>\n",
       "      <td>NaN</td>\n",
       "      <td>2020-07-03T04:29:27-07:00</td>\n",
       "      <td>1090.0</td>\n",
       "      <td>1610.03</td>\n",
       "      <td>25.09090</td>\n",
       "      <td>42.29670</td>\n",
       "      <td>0</td>\n",
       "      <td>...</td>\n",
       "      <td>5eff1d55fa348e57b0adb16a</td>\n",
       "      <td>12538</td>\n",
       "      <td>Hyde Park</td>\n",
       "      <td>NY</td>\n",
       "      <td>US</td>\n",
       "      <td>garmin_connect</td>\n",
       "      <td>Hyde Park, NY</td>\n",
       "      <td>0</td>\n",
       "      <td>-18000</td>\n",
       "      <td>NaN</td>\n",
       "    </tr>\n",
       "    <tr>\n",
       "      <th>39065273</th>\n",
       "      <td>893199</td>\n",
       "      <td>NaN</td>\n",
       "      <td>2019-08-25T09:26:55-07:00</td>\n",
       "      <td>NaN</td>\n",
       "      <td>2019-08-25T09:21:21-07:00</td>\n",
       "      <td>245.0</td>\n",
       "      <td>1610.40</td>\n",
       "      <td>10.94580</td>\n",
       "      <td>13.73830</td>\n",
       "      <td>0</td>\n",
       "      <td>...</td>\n",
       "      <td>5d62b6cfbca5927602000000</td>\n",
       "      <td>12526</td>\n",
       "      <td>Columbia County</td>\n",
       "      <td>NY</td>\n",
       "      <td>US</td>\n",
       "      <td>NaN</td>\n",
       "      <td>Columbia County, NY</td>\n",
       "      <td>0</td>\n",
       "      <td>-18000</td>\n",
       "      <td>NaN</td>\n",
       "    </tr>\n",
       "    <tr>\n",
       "      <th>29695216</th>\n",
       "      <td>52165</td>\n",
       "      <td>NaN</td>\n",
       "      <td>2018-11-21T04:10:06-08:00</td>\n",
       "      <td>NaN</td>\n",
       "      <td>2018-11-21T03:23:15-08:00</td>\n",
       "      <td>1290.0</td>\n",
       "      <td>1612.79</td>\n",
       "      <td>9.27317</td>\n",
       "      <td>2.77694</td>\n",
       "      <td>0</td>\n",
       "      <td>...</td>\n",
       "      <td>5bf54b1dbca5921345000000</td>\n",
       "      <td>12538</td>\n",
       "      <td>Hyde Park</td>\n",
       "      <td>NY</td>\n",
       "      <td>US</td>\n",
       "      <td>NaN</td>\n",
       "      <td>Hyde Park, NY</td>\n",
       "      <td>0</td>\n",
       "      <td>-18000</td>\n",
       "      <td>NaN</td>\n",
       "    </tr>\n",
       "    <tr>\n",
       "      <th>26105073</th>\n",
       "      <td>46030</td>\n",
       "      <td>NaN</td>\n",
       "      <td>2018-07-30T10:30:06-07:00</td>\n",
       "      <td>NaN</td>\n",
       "      <td>2018-07-30T10:07:31-07:00</td>\n",
       "      <td>1328.0</td>\n",
       "      <td>1614.05</td>\n",
       "      <td>51.64570</td>\n",
       "      <td>26.04400</td>\n",
       "      <td>0</td>\n",
       "      <td>...</td>\n",
       "      <td>5b5f4b1e4d6c4d3d0f000000</td>\n",
       "      <td>12449</td>\n",
       "      <td>Ulster County</td>\n",
       "      <td>NY</td>\n",
       "      <td>US</td>\n",
       "      <td>NaN</td>\n",
       "      <td>Ulster County, NY</td>\n",
       "      <td>0</td>\n",
       "      <td>-18000</td>\n",
       "      <td>NaN</td>\n",
       "    </tr>\n",
       "    <tr>\n",
       "      <th>29695213</th>\n",
       "      <td>52165</td>\n",
       "      <td>NaN</td>\n",
       "      <td>2018-11-21T04:09:46-08:00</td>\n",
       "      <td>NaN</td>\n",
       "      <td>2018-11-21T03:12:17-08:00</td>\n",
       "      <td>604.0</td>\n",
       "      <td>1614.33</td>\n",
       "      <td>5.15784</td>\n",
       "      <td>6.20827</td>\n",
       "      <td>0</td>\n",
       "      <td>...</td>\n",
       "      <td>5bf54b0a4d6c4d0cee000000</td>\n",
       "      <td>12538</td>\n",
       "      <td>Hyde Park</td>\n",
       "      <td>NY</td>\n",
       "      <td>US</td>\n",
       "      <td>NaN</td>\n",
       "      <td>Hyde Park, NY</td>\n",
       "      <td>0</td>\n",
       "      <td>-18000</td>\n",
       "      <td>NaN</td>\n",
       "    </tr>\n",
       "  </tbody>\n",
       "</table>\n",
       "<p>5 rows × 50 columns</p>\n",
       "</div>"
      ],
      "text/plain": [
       "          group_membership_id  route_id                 created_at  gear_id  \\\n",
       "id                                                                            \n",
       "51836172                52165       NaN  2020-07-03T04:58:13-07:00      NaN   \n",
       "39065273               893199       NaN  2019-08-25T09:26:55-07:00      NaN   \n",
       "29695216                52165       NaN  2018-11-21T04:10:06-08:00      NaN   \n",
       "26105073                46030       NaN  2018-07-30T10:30:06-07:00      NaN   \n",
       "29695213                52165       NaN  2018-11-21T04:09:46-08:00      NaN   \n",
       "\n",
       "                        departed_at  duration  distance  elevation_gain  \\\n",
       "id                                                                        \n",
       "51836172  2020-07-03T04:29:27-07:00    1090.0   1610.03        25.09090   \n",
       "39065273  2019-08-25T09:21:21-07:00     245.0   1610.40        10.94580   \n",
       "29695216  2018-11-21T03:23:15-08:00    1290.0   1612.79         9.27317   \n",
       "26105073  2018-07-30T10:07:31-07:00    1328.0   1614.05        51.64570   \n",
       "29695213  2018-11-21T03:12:17-08:00     604.0   1614.33         5.15784   \n",
       "\n",
       "          elevation_loss  visibility  ...                  track_id  \\\n",
       "id                                    ...                             \n",
       "51836172        42.29670           0  ...  5eff1d55fa348e57b0adb16a   \n",
       "39065273        13.73830           0  ...  5d62b6cfbca5927602000000   \n",
       "29695216         2.77694           0  ...  5bf54b1dbca5921345000000   \n",
       "26105073        26.04400           0  ...  5b5f4b1e4d6c4d3d0f000000   \n",
       "29695213         6.20827           0  ...  5bf54b0a4d6c4d0cee000000   \n",
       "\n",
       "          postal_code         locality  administrative_area  country_code  \\\n",
       "id                                                                          \n",
       "51836172        12538        Hyde Park                   NY            US   \n",
       "39065273        12526  Columbia County                   NY            US   \n",
       "29695216        12538        Hyde Park                   NY            US   \n",
       "26105073        12449    Ulster County                   NY            US   \n",
       "29695213        12538        Hyde Park                   NY            US   \n",
       "\n",
       "             source_type       short_location  highlighted_photo_id  \\\n",
       "id                                                                    \n",
       "51836172  garmin_connect        Hyde Park, NY                     0   \n",
       "39065273             NaN  Columbia County, NY                     0   \n",
       "29695216             NaN        Hyde Park, NY                     0   \n",
       "26105073             NaN    Ulster County, NY                     0   \n",
       "29695213             NaN        Hyde Park, NY                     0   \n",
       "\n",
       "          utc_offset  avg_power_estimated  \n",
       "id                                         \n",
       "51836172      -18000                  NaN  \n",
       "39065273      -18000                  NaN  \n",
       "29695216      -18000                  NaN  \n",
       "26105073      -18000                  NaN  \n",
       "29695213      -18000                  NaN  \n",
       "\n",
       "[5 rows x 50 columns]"
      ]
     },
     "execution_count": 6,
     "metadata": {},
     "output_type": "execute_result"
    }
   ],
   "source": [
    "rides = pd.read_csv(config.RAW_DATA_PATH + 'ridewgps_trips.csv')\n",
    "rides.drop('Unnamed: 0', axis=1, inplace=True)\n",
    "rides.set_index('id', inplace=True)\n",
    "rides.head()"
   ]
  },
  {
   "cell_type": "code",
   "execution_count": 204,
   "metadata": {},
   "outputs": [],
   "source": [
    "trips_unscaled = pd.read_feather(config.PROCESSED_DATA_PATH + 'trips_unscaled.feather')\n",
    "trips_unscaled.set_index('rte_id', inplace=True)"
   ]
  },
  {
   "cell_type": "code",
   "execution_count": 205,
   "metadata": {},
   "outputs": [],
   "source": [
    "trips_unscaled = pd.merge(trips_unscaled, trips[['detour_score', 'popularity']], on='rte_id')\n",
    "trips_unscaled.head()\n",
    "trips_unscaled['random'] = np.random.normal(0, 1, trips_unscaled.shape[0])"
   ]
  },
  {
   "cell_type": "code",
   "execution_count": 206,
   "metadata": {},
   "outputs": [
    {
     "data": {
      "text/html": [
       "<div>\n",
       "<style scoped>\n",
       "    .dataframe tbody tr th:only-of-type {\n",
       "        vertical-align: middle;\n",
       "    }\n",
       "\n",
       "    .dataframe tbody tr th {\n",
       "        vertical-align: top;\n",
       "    }\n",
       "\n",
       "    .dataframe thead th {\n",
       "        text-align: right;\n",
       "    }\n",
       "</style>\n",
       "<table border=\"1\" class=\"dataframe\">\n",
       "  <thead>\n",
       "    <tr style=\"text-align: right;\">\n",
       "      <th></th>\n",
       "      <th>dist</th>\n",
       "      <th>avg_slope_climbing</th>\n",
       "      <th>avg_slope_descending</th>\n",
       "      <th>max_slope</th>\n",
       "      <th>dist_climbing</th>\n",
       "      <th>dist_downhill</th>\n",
       "      <th>dist_6percent</th>\n",
       "      <th>dist_9percent</th>\n",
       "      <th>dist_12percent</th>\n",
       "      <th>detour_score</th>\n",
       "      <th>popularity</th>\n",
       "      <th>random</th>\n",
       "    </tr>\n",
       "    <tr>\n",
       "      <th>rte_id</th>\n",
       "      <th></th>\n",
       "      <th></th>\n",
       "      <th></th>\n",
       "      <th></th>\n",
       "      <th></th>\n",
       "      <th></th>\n",
       "      <th></th>\n",
       "      <th></th>\n",
       "      <th></th>\n",
       "      <th></th>\n",
       "      <th></th>\n",
       "      <th></th>\n",
       "    </tr>\n",
       "  </thead>\n",
       "  <tbody>\n",
       "    <tr>\n",
       "      <th>7118848</th>\n",
       "      <td>47.600187</td>\n",
       "      <td>2.985415</td>\n",
       "      <td>-0.665306</td>\n",
       "      <td>13.488966</td>\n",
       "      <td>0.080159</td>\n",
       "      <td>0.030979</td>\n",
       "      <td>0.020090</td>\n",
       "      <td>0.005960</td>\n",
       "      <td>0.002252</td>\n",
       "      <td>-0.932608</td>\n",
       "      <td>-1.137800</td>\n",
       "      <td>1.027842</td>\n",
       "    </tr>\n",
       "    <tr>\n",
       "      <th>23586828</th>\n",
       "      <td>72.520055</td>\n",
       "      <td>3.150047</td>\n",
       "      <td>-0.437931</td>\n",
       "      <td>12.331099</td>\n",
       "      <td>0.069706</td>\n",
       "      <td>0.030336</td>\n",
       "      <td>0.019280</td>\n",
       "      <td>0.002342</td>\n",
       "      <td>0.000226</td>\n",
       "      <td>-1.452548</td>\n",
       "      <td>-1.212598</td>\n",
       "      <td>1.860636</td>\n",
       "    </tr>\n",
       "    <tr>\n",
       "      <th>53915665</th>\n",
       "      <td>49.712035</td>\n",
       "      <td>2.805160</td>\n",
       "      <td>-0.380623</td>\n",
       "      <td>10.831435</td>\n",
       "      <td>0.083335</td>\n",
       "      <td>0.012025</td>\n",
       "      <td>0.016504</td>\n",
       "      <td>0.002250</td>\n",
       "      <td>0.000000</td>\n",
       "      <td>-0.668803</td>\n",
       "      <td>-0.882395</td>\n",
       "      <td>1.571949</td>\n",
       "    </tr>\n",
       "    <tr>\n",
       "      <th>3653661</th>\n",
       "      <td>41.460804</td>\n",
       "      <td>2.883489</td>\n",
       "      <td>-0.315344</td>\n",
       "      <td>6.640965</td>\n",
       "      <td>0.085167</td>\n",
       "      <td>0.032903</td>\n",
       "      <td>0.004573</td>\n",
       "      <td>0.000000</td>\n",
       "      <td>0.000000</td>\n",
       "      <td>-0.922883</td>\n",
       "      <td>-0.124138</td>\n",
       "      <td>0.206216</td>\n",
       "    </tr>\n",
       "    <tr>\n",
       "      <th>5443624</th>\n",
       "      <td>19.129384</td>\n",
       "      <td>2.572793</td>\n",
       "      <td>-0.622703</td>\n",
       "      <td>7.684119</td>\n",
       "      <td>0.060159</td>\n",
       "      <td>0.038193</td>\n",
       "      <td>0.007634</td>\n",
       "      <td>0.000000</td>\n",
       "      <td>0.000000</td>\n",
       "      <td>-0.005622</td>\n",
       "      <td>-0.832813</td>\n",
       "      <td>-0.893199</td>\n",
       "    </tr>\n",
       "  </tbody>\n",
       "</table>\n",
       "</div>"
      ],
      "text/plain": [
       "               dist  avg_slope_climbing  avg_slope_descending  max_slope  \\\n",
       "rte_id                                                                     \n",
       "7118848   47.600187            2.985415             -0.665306  13.488966   \n",
       "23586828  72.520055            3.150047             -0.437931  12.331099   \n",
       "53915665  49.712035            2.805160             -0.380623  10.831435   \n",
       "3653661   41.460804            2.883489             -0.315344   6.640965   \n",
       "5443624   19.129384            2.572793             -0.622703   7.684119   \n",
       "\n",
       "          dist_climbing  dist_downhill  dist_6percent  dist_9percent  \\\n",
       "rte_id                                                                 \n",
       "7118848        0.080159       0.030979       0.020090       0.005960   \n",
       "23586828       0.069706       0.030336       0.019280       0.002342   \n",
       "53915665       0.083335       0.012025       0.016504       0.002250   \n",
       "3653661        0.085167       0.032903       0.004573       0.000000   \n",
       "5443624        0.060159       0.038193       0.007634       0.000000   \n",
       "\n",
       "          dist_12percent  detour_score  popularity    random  \n",
       "rte_id                                                        \n",
       "7118848         0.002252     -0.932608   -1.137800  1.027842  \n",
       "23586828        0.000226     -1.452548   -1.212598  1.860636  \n",
       "53915665        0.000000     -0.668803   -0.882395  1.571949  \n",
       "3653661         0.000000     -0.922883   -0.124138  0.206216  \n",
       "5443624         0.000000     -0.005622   -0.832813 -0.893199  "
      ]
     },
     "execution_count": 206,
     "metadata": {},
     "output_type": "execute_result"
    }
   ],
   "source": [
    "trips_unscaled.head()"
   ]
  },
  {
   "cell_type": "code",
   "execution_count": 207,
   "metadata": {},
   "outputs": [],
   "source": [
    "fs_orig = fs.copy()"
   ]
  },
  {
   "cell_type": "code",
   "execution_count": 208,
   "metadata": {},
   "outputs": [
    {
     "data": {
      "text/plain": [
       "{'dist': 0.0,\n",
       " 'avg_slope_climbing': 0.0,\n",
       " 'avg_slope_descending': 0.0,\n",
       " 'max_slope': 0.0,\n",
       " 'dist_climbing': 0.0,\n",
       " 'dist_downhill': 0.0,\n",
       " 'dist_6percent': 0.0,\n",
       " 'dist_9percent': 0.0,\n",
       " 'dist_12percent': 0.0,\n",
       " 'detour_score': 0.0,\n",
       " 'popularity': 0.0,\n",
       " 'random': 1.0}"
      ]
     },
     "execution_count": 208,
     "metadata": {},
     "output_type": "execute_result"
    }
   ],
   "source": [
    "fs = fs_orig.copy()\n",
    "fs['dist'] = 0.\n",
    "fs['avg_slope_descending'] = 0.\n",
    "fs['max_slope'] = 0.\n",
    "fs['dist_6percent'] = 0.\n",
    "fs['dist_12percent'] = 0.\n",
    "fs['detour_score'] = 0.\n",
    "fs['popularity'] = 0.\n",
    "fs['random'] = 1.\n",
    "fs"
   ]
  },
  {
   "cell_type": "code",
   "execution_count": 209,
   "metadata": {},
   "outputs": [],
   "source": [
    "trips_use = trips_unscaled * [v for v in fs.values()]"
   ]
  },
  {
   "cell_type": "code",
   "execution_count": 210,
   "metadata": {},
   "outputs": [
    {
     "data": {
      "text/plain": [
       "(90, 2)"
      ]
     },
     "execution_count": 210,
     "metadata": {},
     "output_type": "execute_result"
    }
   ],
   "source": [
    "ride_users = pd.merge(trips_use[['dist']], \n",
    "                      rides.reset_index()[['id', 'user_id']].rename(columns={'id': 'rte_id'}),\n",
    "                      on='rte_id', how='left')\n",
    "ride_users_count = pd.DataFrame(ride_users.user_id.value_counts()).reset_index().rename(\n",
    "    columns={'index': 'user_id', 'user_id': 'n_rides'})\n",
    "ride_users_count = ride_users_count[ride_users_count.n_rides >= 10]\n",
    "ride_users_count.shape"
   ]
  },
  {
   "cell_type": "code",
   "execution_count": 212,
   "metadata": {},
   "outputs": [
    {
     "data": {
      "text/plain": [
       "<matplotlib.legend.Legend at 0x7f023b8ee730>"
      ]
     },
     "execution_count": 212,
     "metadata": {},
     "output_type": "execute_result"
    },
    {
     "data": {
      "image/png": "[encoded data removed]",
      "text/plain": [
       "<Figure size 720x720 with 1 Axes>"
      ]
     },
     "metadata": {},
     "output_type": "display_data"
    }
   ],
   "source": [
    "dist = sklearn.neighbors.DistanceMetric.get_metric('euclidean') # distance metric used in tree\n",
    "ride_users_count['mean_dist_user'] = 0.\n",
    "ride_users_count['mean_dist_all'] = 0.\n",
    "ride_users_count['median_dist_user'] = 0.\n",
    "ride_users_count['median_dist_all'] = 0.\n",
    "\n",
    "for i, row in ride_users_count.iterrows():\n",
    "    rte_ids = ride_users[ride_users.user_id == row.user_id].rte_id.tolist()\n",
    "    \n",
    "    dists_rand = dist.pairwise(\n",
    "        trips_use.iloc[np.random.choice(trips_use.shape[0], len(rte_ids), replace=False)]\n",
    "    )[np.triu_indices(len(rte_ids), 1)]\n",
    "    \n",
    "    dists_user = dist.pairwise(trips_use.loc[rte_ids])[np.triu_indices(len(rte_ids), 1)]\n",
    "    \n",
    "    ride_users_count.at[i, 'mean_dist_user'] = np.mean(dists_user)\n",
    "    ride_users_count.at[i, 'mean_dist_all'] = np.mean(dists_rand)\n",
    "    ride_users_count.at[i, 'median_dist_user'] = np.median(dists_user)\n",
    "    ride_users_count.at[i, 'median_dist_all'] = np.median(dists_rand)\n",
    "\n",
    "plt.figure(figsize=(10, 10))\n",
    "# bins = np.arange(0.2, 1.7, 0.1)\n",
    "# plt.hist(ride_users_count.mean_dist_all, color='#B68679CC', label='Random Sample', bins=bins)\n",
    "# plt.hist(ride_users_count.mean_dist_user, color='#D4350BCC', label='Within User', bins=bins)\n",
    "# plt.xlabel('Mean Normalised Distance')\n",
    "plt.hist(ride_users_count.median_dist_all, color='#B68679CC', label='Random Sample')#, bins=bins)\n",
    "plt.hist(ride_users_count.median_dist_user, color='#D4350BCC', label='Within User')#, bins=bins)\n",
    "plt.xlabel('Median Difference in Randomly Generated Variable Between Rides')\n",
    "plt.ylabel('Count')\n",
    "plt.legend()"
   ]
  },
  {
   "cell_type": "code",
   "execution_count": null,
   "metadata": {},
   "outputs": [],
   "source": [
    "dist = sklearn.neighbors.DistanceMetric.get_metric('euclidean')\n",
    "dists_all = dist.pairwise(trips_use)[np.triu_indices(trips_use.shape[0], 1)]\n",
    "#bins = np.arange(1.5, 5, 0.25)\n",
    "a = pd.DataFrame({'Inter-ride Distance': dists_all})\n",
    "a['Type'] = 'All Rides'\n",
    "\n",
    "b = pd.DataFrame(columns=['Inter-ride Distance', 'Type'])\n",
    "for i, row in ride_users_count.iterrows():\n",
    "    if not i % 100: print(i)\n",
    "    rte_ids = ride_users[ride_users.user_id == row.user_id].rte_id.tolist()\n",
    "    dists_user = dist.pairwise(trips_use.loc[rte_ids])[np.triu_indices(len(rte_ids), 1)]\n",
    "    b = pd.concat((b, pd.DataFrame({'Inter-ride Distance': dists_user, 'Type': 'Within User'})))\n",
    "# sns.displot(dists_all, stat='density')"
   ]
  },
  {
   "cell_type": "code",
   "execution_count": 70,
   "metadata": {},
   "outputs": [
    {
     "data": {
      "text/plain": [
       "(0.0, 6.0)"
      ]
     },
     "execution_count": 70,
     "metadata": {},
     "output_type": "execute_result"
    },
    {
     "data": {
      "image/png": "[encoded data removed]",
      "text/plain": [
       "<Figure size 864x432 with 1 Axes>"
      ]
     },
     "metadata": {},
     "output_type": "display_data"
    }
   ],
   "source": [
    "fig, ax = plt.subplots(figsize=(12, 6))\n",
    "sns.histplot(pd.concat((a, b)), x='Inter-ride Distance', hue='Type', stat='density', common_norm=False,\n",
    "             ax=ax, palette=['#B68679', '#D4350B'], element='step')\n",
    "plt.xlim([0, 6])"
   ]
  },
  {
   "cell_type": "code",
   "execution_count": 187,
   "metadata": {
    "scrolled": false
   },
   "outputs": [
    {
     "data": {
      "text/plain": [
       "<matplotlib.legend.Legend at 0x7f023c9e87c0>"
      ]
     },
     "execution_count": 187,
     "metadata": {},
     "output_type": "execute_result"
    },
    {
     "data": {
      "image/png": "[encoded data removed]",
      "text/plain": [
       "<Figure size 720x720 with 1 Axes>"
      ]
     },
     "metadata": {},
     "output_type": "display_data"
    }
   ],
   "source": [
    "dist = sklearn.neighbors.DistanceMetric.get_metric('euclidean') # distance metric used in tree\n",
    "ride_users_count['mean_dist_user'] = 0.\n",
    "ride_users_count['mean_dist_all'] = 0.\n",
    "ride_users_count['median_dist_user'] = 0.\n",
    "ride_users_count['median_dist_all'] = 0.\n",
    "\n",
    "for i, row in ride_users_count.iterrows():\n",
    "    rte_ids = ride_users[ride_users.user_id == row.user_id].rte_id.tolist()\n",
    "    \n",
    "    dists_rand = dist.pairwise(\n",
    "        trips_use.iloc[np.random.choice(trips_use.shape[0], len(rte_ids), replace=False)]\n",
    "    )[np.triu_indices(len(rte_ids), 1)]\n",
    "    \n",
    "    dists_user = dist.pairwise(trips_use.loc[rte_ids])[np.triu_indices(len(rte_ids), 1)]\n",
    "    \n",
    "    ride_users_count.at[i, 'mean_dist_user'] = np.mean(dists_user)\n",
    "    ride_users_count.at[i, 'mean_dist_all'] = np.mean(dists_rand)\n",
    "    ride_users_count.at[i, 'median_dist_user'] = np.median(dists_user)\n",
    "    ride_users_count.at[i, 'median_dist_all'] = np.median(dists_rand)\n",
    "\n",
    "plt.figure(figsize=(10, 10))\n",
    "# bins = np.arange(0.2, 1.7, 0.1)\n",
    "# plt.hist(ride_users_count.mean_dist_all, color='#B68679CC', label='Random Sample', bins=bins)\n",
    "# plt.hist(ride_users_count.mean_dist_user, color='#D4350BCC', label='Within User', bins=bins)\n",
    "# plt.xlabel('Mean Normalised Distance')\n",
    "plt.hist(ride_users_count.median_dist_all, color='#B68679CC', label='Random Sample')#, bins=bins)\n",
    "plt.hist(ride_users_count.median_dist_user, color='#D4350BCC', label='Within User')#, bins=bins)\n",
    "plt.xlabel('Median Difference in Climbing Distance Between Rides')\n",
    "plt.ylabel('Count')\n",
    "plt.legend()"
   ]
  },
  {
   "cell_type": "code",
   "execution_count": 71,
   "metadata": {},
   "outputs": [],
   "source": [
    "user_id = 772671\n",
    "\n",
    "rte_dfs = []\n",
    "rte_ids = ride_users[ride_users.user_id == user_id].rte_id.tolist()\n",
    "for rte_id in rte_ids:\n",
    "    rte_dfs += [grid_pts_fine.loc[gridpts_at_rte_fine.loc[rte_id].grid_ids]]\n",
    "\n",
    "# r = plot_map(rte_dfs)\n",
    "# r.to_html()"
   ]
  },
  {
   "cell_type": "code",
   "execution_count": 73,
   "metadata": {},
   "outputs": [
    {
     "name": "stdout",
     "output_type": "stream",
     "text": [
      "Mean: 2.52, Std: 1.12, Median: 2.37, max: 7.179445621879996\n",
      "Mean: 1.88, Std: 1.14, Median: 1.64, Max: 8.782481002333219\n"
     ]
    },
    {
     "data": {
      "text/plain": [
       "<matplotlib.legend.Legend at 0x7f024deeadc0>"
      ]
     },
     "execution_count": 73,
     "metadata": {},
     "output_type": "execute_result"
    },
    {
     "data": {
      "image/png": "[encoded data removed]",
      "text/plain": [
       "<Figure size 576x432 with 1 Axes>"
      ]
     },
     "metadata": {},
     "output_type": "display_data"
    }
   ],
   "source": [
    "bins=np.arange(0, 8, 0.5)\n",
    "plt.figure(figsize=(8, 6))\n",
    "dist = sklearn.neighbors.DistanceMetric.get_metric('euclidean') # distance metric used in tree\n",
    "dists = dist.pairwise(trips_use.iloc[np.random.randint(0, trips_use.shape[0], len(rte_ids))])\n",
    "dists = dists[np.triu_indices(dists.shape[0], 1)]\n",
    "print('Mean: {:.2f}, Std: {:.2f}, Median: {:.2f}, max: {}'.format(\n",
    "    np.mean(dists), np.std(dists), np.median(dists), np.max(dists)))\n",
    "plt.hist(dists, color='#B68679CC', bins=bins, label='Random Sample')\n",
    "dists = dist.pairwise(trips_use.loc[rte_ids])\n",
    "dists = dists[np.triu_indices(dists.shape[0], 1)]\n",
    "print('Mean: {:.2f}, Std: {:.2f}, Median: {:.2f}, Max: {}'.format(\n",
    "    np.mean(dists), np.std(dists), np.median(dists), np.max(dists)))\n",
    "plt.hist(dists, color='#D4350BCC', bins=bins, label='Single User ({})'.format(user_id))\n",
    "plt.xlabel('Normalised Distance')\n",
    "plt.ylabel('Count')\n",
    "plt.legend()"
   ]
  }
 ],
 "metadata": {
  "kernelspec": {
   "display_name": "Python 3",
   "language": "python",
   "name": "python3"
  },
  "language_info": {
   "codemirror_mode": {
    "name": "ipython",
    "version": 3
   },
   "file_extension": ".py",
   "mimetype": "text/x-python",
   "name": "python",
   "nbconvert_exporter": "python",
   "pygments_lexer": "ipython3",
   "version": "3.8.5"
  }
 },
 "nbformat": 4,
 "nbformat_minor": 4
}
