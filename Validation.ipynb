{
 "cells": [
  {
   "cell_type": "code",
   "execution_count": 1,
   "metadata": {},
   "outputs": [],
   "source": [
    "%load_ext autoreload\n",
    "%autoreload 2\n",
    "\n",
    "%matplotlib inline"
   ]
  },
  {
   "cell_type": "code",
   "execution_count": 2,
   "metadata": {},
   "outputs": [],
   "source": [
    "import requests\n",
    "import pandas as pd\n",
    "import numpy as np\n",
    "import matplotlib.pyplot as plt\n",
    "import seaborn as sns\n",
    "import os\n",
    "import datetime\n",
    "import re\n",
    "import json\n",
    "import collections\n",
    "\n",
    "\n",
    "from util import get_data\n",
    "from util import mapping\n",
    "from util import clean_data\n",
    "from util import config\n",
    "from util import plot_clusters\n",
    "from util import process_data\n",
    "\n",
    "import sklearn.cluster\n",
    "import sklearn.neighbors\n",
    "import sklearn.linear_model\n",
    "import sklearn.model_selection\n",
    "import sklearn.metrics\n",
    "import scipy\n",
    "import umap"
   ]
  },
  {
   "cell_type": "code",
   "execution_count": null,
   "metadata": {},
   "outputs": [],
   "source": [
    "def fit_tree(df, feature_importance):\n",
    "    LEAF_SIZE = 20\n",
    "    return sklearn.neighbors.KDTree(df * feature_importance, leaf_size=LEAF_SIZE)\n"
   ]
  },
  {
   "cell_type": "markdown",
   "metadata": {},
   "source": [
    "# Testing out loading a route"
   ]
  },
  {
   "cell_type": "code",
   "execution_count": null,
   "metadata": {},
   "outputs": [],
   "source": [
    "trips = pd.read_feather(config.PROCESSED_DATA_PATH + 'trips_culled_scaled.feather')\n",
    "trips.set_index('rte_id', inplace=True)"
   ]
  },
  {
   "cell_type": "code",
   "execution_count": null,
   "metadata": {},
   "outputs": [],
   "source": [
    "rte_id = 133650\n",
    "\n",
    "URL = \"http://ridewithgps.com/routes/{}.json\".format(rte_id)\n",
    "r = requests.get(url = URL)"
   ]
  },
  {
   "cell_type": "code",
   "execution_count": null,
   "metadata": {
    "scrolled": true
   },
   "outputs": [],
   "source": [
    "d = r.json()\n",
    "df = pd.DataFrame(d['track_points'])[['y', 'x', 'e']]\n",
    "df['t'] = 0\n",
    "df = clean_data.clean_single_trip(df)\n",
    "df.to_feather(config.CLEAN_TRIPS_PATH + 'route_{}.feather'.format(rte_id))"
   ]
  },
  {
   "cell_type": "code",
   "execution_count": null,
   "metadata": {
    "scrolled": true
   },
   "outputs": [],
   "source": [
    "td = process_data.get_features_from_rte_files(['route_133650'])\n",
    "td.set_index('rte_id', inplace=True)\n",
    "td_scaled = process_data.apply_scaling(td)\n",
    "td_scaled.head()"
   ]
  },
  {
   "cell_type": "code",
   "execution_count": null,
   "metadata": {},
   "outputs": [],
   "source": [
    "feature_importance_dict = {'dist': 1.,\n",
    "                      'avg_slope_climbing': 0.2,\n",
    "                      'avg_slope_descending': 0.01,\n",
    "                      'max_slope': 0.2,\n",
    "                      'dist_climbing': 0.3,\n",
    "                      'dist_downhill': 0.01,\n",
    "                      'dist_6percent': 0.2,\n",
    "                      'dist_9percent': 0.2,\n",
    "                      'dist_12percent': 0.1,\n",
    "                      'avg_speed': 0.,\n",
    "                        }\n",
    "feature_sc = [v for v in feature_importance_dict.values()]\n",
    "tree = fit_tree(trips, feature_sc)\n",
    "\n",
    "dists, df_inds = tree.query(td_scaled * feature_sc, k=5)\n",
    "dists, df_inds = dists.flatten(), df_inds.flatten()\n",
    "neighbour_rte_ids = trips.index[df_inds].tolist()\n",
    "\n",
    "trips_unscaled = process_data.remove_scaling(trips.loc[neighbour_rte_ids])\n",
    "trips_unscaled.append(td)"
   ]
  },
  {
   "cell_type": "markdown",
   "metadata": {},
   "source": [
    "# Using the book routes"
   ]
  },
  {
   "cell_type": "code",
   "execution_count": 3,
   "metadata": {
    "scrolled": true
   },
   "outputs": [],
   "source": [
    "rte_ids = {\n",
    "    'easy': [34334830, 34334875, 34334946, 34334973, 34334993, \n",
    "             34335057, 34335164, 34335190, 34335257],\n",
    "    'moderate': [34334760, 34334840, 34334850, 34334931, 34335019,\n",
    "                  34335063, 34335072, 34335087, 34335143, 34335210,\n",
    "                  34335223, 34335265, 34335284, 34335362, 34335395],\n",
    "    'strenuous': [34334791, 34334812, 34334864, 34334890, \n",
    "               34334909, 34334917, 34334959, 34335041,\n",
    "               34335104, 34335111, 34335122, 34335154,\n",
    "               34335236, 34335379],\n",
    "}\n"
   ]
  },
  {
   "cell_type": "code",
   "execution_count": 4,
   "metadata": {},
   "outputs": [],
   "source": [
    "\n",
    "# for rte_id in [i for v in rte_ids.values() for i in v]:\n",
    "#     URL = \"http://ridewithgps.com/routes/{}.json\".format(rte_id)\n",
    "#     r = requests.get(url = URL)\n",
    "    \n",
    "#     d = r.json()\n",
    "#     df = pd.DataFrame(d['track_points'])[['y', 'x', 'e']]\n",
    "#     df['t'] = 0\n",
    "#     df = clean_data.clean_single_trip(df)\n",
    "#     df.to_feather(config.CLEAN_TRIPS_PATH + 'route_{}.feather'.format(rte_id))"
   ]
  },
  {
   "cell_type": "code",
   "execution_count": 8,
   "metadata": {},
   "outputs": [
    {
     "name": "stdout",
     "output_type": "stream",
     "text": [
      "0\n"
     ]
    },
    {
     "data": {
      "text/html": [
       "<div>\n",
       "<style scoped>\n",
       "    .dataframe tbody tr th:only-of-type {\n",
       "        vertical-align: middle;\n",
       "    }\n",
       "\n",
       "    .dataframe tbody tr th {\n",
       "        vertical-align: top;\n",
       "    }\n",
       "\n",
       "    .dataframe thead th {\n",
       "        text-align: right;\n",
       "    }\n",
       "</style>\n",
       "<table border=\"1\" class=\"dataframe\">\n",
       "  <thead>\n",
       "    <tr style=\"text-align: right;\">\n",
       "      <th></th>\n",
       "      <th>dist</th>\n",
       "      <th>avg_slope_climbing</th>\n",
       "      <th>avg_slope_descending</th>\n",
       "      <th>max_slope</th>\n",
       "      <th>dist_climbing</th>\n",
       "      <th>dist_downhill</th>\n",
       "      <th>dist_6percent</th>\n",
       "      <th>dist_9percent</th>\n",
       "      <th>dist_12percent</th>\n",
       "      <th>avg_speed</th>\n",
       "    </tr>\n",
       "    <tr>\n",
       "      <th>rte_id</th>\n",
       "      <th></th>\n",
       "      <th></th>\n",
       "      <th></th>\n",
       "      <th></th>\n",
       "      <th></th>\n",
       "      <th></th>\n",
       "      <th></th>\n",
       "      <th></th>\n",
       "      <th></th>\n",
       "      <th></th>\n",
       "    </tr>\n",
       "  </thead>\n",
       "  <tbody>\n",
       "    <tr>\n",
       "      <th>route_34335111</th>\n",
       "      <td>27.529178</td>\n",
       "      <td>3.885185</td>\n",
       "      <td>-2.667329</td>\n",
       "      <td>13.631522</td>\n",
       "      <td>0.139095</td>\n",
       "      <td>0.190398</td>\n",
       "      <td>0.082324</td>\n",
       "      <td>0.069642</td>\n",
       "      <td>0.032014</td>\n",
       "      <td>0.0</td>\n",
       "    </tr>\n",
       "    <tr>\n",
       "      <th>route_34335122</th>\n",
       "      <td>13.728860</td>\n",
       "      <td>5.867839</td>\n",
       "      <td>-6.628352</td>\n",
       "      <td>14.264638</td>\n",
       "      <td>0.242452</td>\n",
       "      <td>0.302570</td>\n",
       "      <td>0.149208</td>\n",
       "      <td>0.098029</td>\n",
       "      <td>0.029187</td>\n",
       "      <td>0.0</td>\n",
       "    </tr>\n",
       "    <tr>\n",
       "      <th>route_34335154</th>\n",
       "      <td>31.495622</td>\n",
       "      <td>5.216349</td>\n",
       "      <td>-3.170630</td>\n",
       "      <td>14.264638</td>\n",
       "      <td>0.179853</td>\n",
       "      <td>0.200344</td>\n",
       "      <td>0.097305</td>\n",
       "      <td>0.041229</td>\n",
       "      <td>0.012723</td>\n",
       "      <td>0.0</td>\n",
       "    </tr>\n",
       "    <tr>\n",
       "      <th>route_34335236</th>\n",
       "      <td>23.363356</td>\n",
       "      <td>3.996244</td>\n",
       "      <td>-1.523094</td>\n",
       "      <td>8.759389</td>\n",
       "      <td>0.237189</td>\n",
       "      <td>0.169624</td>\n",
       "      <td>0.053154</td>\n",
       "      <td>0.000000</td>\n",
       "      <td>0.000000</td>\n",
       "      <td>0.0</td>\n",
       "    </tr>\n",
       "    <tr>\n",
       "      <th>route_34335379</th>\n",
       "      <td>20.808106</td>\n",
       "      <td>3.156952</td>\n",
       "      <td>-3.192167</td>\n",
       "      <td>7.845883</td>\n",
       "      <td>0.202618</td>\n",
       "      <td>0.195315</td>\n",
       "      <td>0.024392</td>\n",
       "      <td>0.000000</td>\n",
       "      <td>0.000000</td>\n",
       "      <td>0.0</td>\n",
       "    </tr>\n",
       "  </tbody>\n",
       "</table>\n",
       "</div>"
      ],
      "text/plain": [
       "                     dist  avg_slope_climbing  avg_slope_descending  \\\n",
       "rte_id                                                                \n",
       "route_34335111  27.529178            3.885185             -2.667329   \n",
       "route_34335122  13.728860            5.867839             -6.628352   \n",
       "route_34335154  31.495622            5.216349             -3.170630   \n",
       "route_34335236  23.363356            3.996244             -1.523094   \n",
       "route_34335379  20.808106            3.156952             -3.192167   \n",
       "\n",
       "                max_slope  dist_climbing  dist_downhill  dist_6percent  \\\n",
       "rte_id                                                                   \n",
       "route_34335111  13.631522       0.139095       0.190398       0.082324   \n",
       "route_34335122  14.264638       0.242452       0.302570       0.149208   \n",
       "route_34335154  14.264638       0.179853       0.200344       0.097305   \n",
       "route_34335236   8.759389       0.237189       0.169624       0.053154   \n",
       "route_34335379   7.845883       0.202618       0.195315       0.024392   \n",
       "\n",
       "                dist_9percent  dist_12percent  avg_speed  \n",
       "rte_id                                                    \n",
       "route_34335111       0.069642        0.032014        0.0  \n",
       "route_34335122       0.098029        0.029187        0.0  \n",
       "route_34335154       0.041229        0.012723        0.0  \n",
       "route_34335236       0.000000        0.000000        0.0  \n",
       "route_34335379       0.000000        0.000000        0.0  "
      ]
     },
     "execution_count": 8,
     "metadata": {},
     "output_type": "execute_result"
    }
   ],
   "source": [
    "fns = ['route_{}'.format(rte_id) for v in rte_ids.values() for rte_id in v]\n",
    "e_ids = ['route_{}'.format(v) for v in rte_ids['easy']]\n",
    "m_ids = ['route_{}'.format(v) for v in rte_ids['moderate']]\n",
    "s_ids = ['route_{}'.format(v) for v in rte_ids['strenuous']]\n",
    "td = process_data.get_features_from_rte_files(fns)\n",
    "td.set_index('rte_id', inplace=True)\n",
    "td.fillna(0, inplace=True)\n",
    "# td_scaled = process_data.apply_scaling(td)\n",
    "# td_scaled.head()\n",
    "td.tail()"
   ]
  },
  {
   "cell_type": "code",
   "execution_count": null,
   "metadata": {
    "scrolled": true
   },
   "outputs": [],
   "source": [
    "feature_importance_dict = {'dist': 1.,\n",
    "                      'avg_slope_climbing': 0.2,\n",
    "                      'avg_slope_descending': 0.01,\n",
    "                      'max_slope': 0.2,\n",
    "                      'dist_climbing': 0.3,\n",
    "                      'dist_downhill': 0.01,\n",
    "                      'dist_6percent': 0.2,\n",
    "                      'dist_9percent': 0.2,\n",
    "                      'dist_12percent': 0.1,\n",
    "                      'avg_speed': 0.,\n",
    "                        }\n",
    "feature_sc = [v for v in feature_importance_dict.values()]\n",
    "\n",
    "t = td_scaled #* feature_sc\n",
    "t['rating'] = 0\n",
    "t.loc[e_ids, 'rating'] = 0\n",
    "t.loc[m_ids, 'rating'] = 1\n",
    "t.loc[s_ids, 'rating'] = 2\n",
    "t['rating'] = t.rating.apply(lambda x: str(x))\n",
    "\n",
    "t.loc[e_ids, 'rating'] = 'easy'\n",
    "t.loc[m_ids, 'rating'] = 'easy'\n",
    "t.loc[s_ids, 'rating'] = 'hard'\n",
    "t.head()"
   ]
  },
  {
   "cell_type": "code",
   "execution_count": null,
   "metadata": {},
   "outputs": [],
   "source": [
    "colours = sns.color_palette('husl', 3)\n",
    "\n",
    "for col in td.columns:\n",
    "    if col == 'rating': continue\n",
    "    plt.figure()\n",
    "    sns.histplot(td, x=col, hue='rating')\n",
    "# g.map_offdiag(sns.scatterplot, edgecolor=None, s=10)\n",
    "# g.map_diag(sns.histplot)"
   ]
  },
  {
   "cell_type": "code",
   "execution_count": null,
   "metadata": {},
   "outputs": [],
   "source": [
    "col1 = 'dist'\n",
    "col2 = 'avg_slope_climbing'\n",
    "plt.plot(t.loc[e_ids][col1], t.loc[e_ids][col2], 'g.')\n",
    "plt.plot(t.loc[m_ids][col1], t.loc[m_ids][col2], 'b.')\n",
    "plt.plot(t.loc[s_ids][col1], t.loc[s_ids][col2], 'r.')"
   ]
  },
  {
   "cell_type": "code",
   "execution_count": 36,
   "metadata": {},
   "outputs": [],
   "source": [
    "tdf = td.copy()\n",
    "tdf['rating'] = 0\n",
    "tdf.loc[s_ids, 'rating'] = 1\n",
    "\n",
    "tdf.dist = np.log(tdf.dist)\n",
    "tdf = tdf[tdf.max_slope < 25]\n",
    "tdf.dist_6percent = np.log(tdf.dist_6percent + 1e-2)\n",
    "tdf.dist_12percent = np.log(tdf.dist_12percent + 1e-2)\n",
    "tdf.dist_9percent = np.log(tdf.dist_9percent + 1e-2)\n",
    "\n",
    "ratings = tdf.rating\n",
    "tdf.drop('rating', axis=1, inplace=True)\n",
    "\n",
    "tdf = process_data.scale_dataset(tdf)"
   ]
  },
  {
   "cell_type": "code",
   "execution_count": 71,
   "metadata": {},
   "outputs": [
    {
     "data": {
      "text/html": [
       "<div>\n",
       "<style scoped>\n",
       "    .dataframe tbody tr th:only-of-type {\n",
       "        vertical-align: middle;\n",
       "    }\n",
       "\n",
       "    .dataframe tbody tr th {\n",
       "        vertical-align: top;\n",
       "    }\n",
       "\n",
       "    .dataframe thead th {\n",
       "        text-align: right;\n",
       "    }\n",
       "</style>\n",
       "<table border=\"1\" class=\"dataframe\">\n",
       "  <thead>\n",
       "    <tr style=\"text-align: right;\">\n",
       "      <th></th>\n",
       "      <th>dist</th>\n",
       "      <th>avg_slope_climbing</th>\n",
       "      <th>avg_slope_descending</th>\n",
       "      <th>max_slope</th>\n",
       "      <th>dist_climbing</th>\n",
       "      <th>dist_downhill</th>\n",
       "      <th>dist_6percent</th>\n",
       "      <th>dist_9percent</th>\n",
       "      <th>dist_12percent</th>\n",
       "      <th>avg_speed</th>\n",
       "    </tr>\n",
       "  </thead>\n",
       "  <tbody>\n",
       "    <tr>\n",
       "      <th>count</th>\n",
       "      <td>38.000000</td>\n",
       "      <td>38.000000</td>\n",
       "      <td>38.000000</td>\n",
       "      <td>38.000000</td>\n",
       "      <td>38.000000</td>\n",
       "      <td>38.000000</td>\n",
       "      <td>38.000000</td>\n",
       "      <td>38.000000</td>\n",
       "      <td>38.000000</td>\n",
       "      <td>38.0</td>\n",
       "    </tr>\n",
       "    <tr>\n",
       "      <th>mean</th>\n",
       "      <td>17.742933</td>\n",
       "      <td>3.755112</td>\n",
       "      <td>-2.142580</td>\n",
       "      <td>9.183412</td>\n",
       "      <td>0.159639</td>\n",
       "      <td>0.133419</td>\n",
       "      <td>0.068950</td>\n",
       "      <td>0.037324</td>\n",
       "      <td>0.015799</td>\n",
       "      <td>0.0</td>\n",
       "    </tr>\n",
       "    <tr>\n",
       "      <th>std</th>\n",
       "      <td>8.202298</td>\n",
       "      <td>2.061776</td>\n",
       "      <td>1.601431</td>\n",
       "      <td>7.457204</td>\n",
       "      <td>0.135065</td>\n",
       "      <td>0.102490</td>\n",
       "      <td>0.088992</td>\n",
       "      <td>0.068361</td>\n",
       "      <td>0.038419</td>\n",
       "      <td>0.0</td>\n",
       "    </tr>\n",
       "    <tr>\n",
       "      <th>min</th>\n",
       "      <td>4.107682</td>\n",
       "      <td>0.000000</td>\n",
       "      <td>-6.990116</td>\n",
       "      <td>0.445997</td>\n",
       "      <td>0.000000</td>\n",
       "      <td>0.000000</td>\n",
       "      <td>0.000000</td>\n",
       "      <td>0.000000</td>\n",
       "      <td>0.000000</td>\n",
       "      <td>0.0</td>\n",
       "    </tr>\n",
       "    <tr>\n",
       "      <th>25%</th>\n",
       "      <td>12.666105</td>\n",
       "      <td>2.083470</td>\n",
       "      <td>-3.090396</td>\n",
       "      <td>3.690490</td>\n",
       "      <td>0.027660</td>\n",
       "      <td>0.043836</td>\n",
       "      <td>0.000000</td>\n",
       "      <td>0.000000</td>\n",
       "      <td>0.000000</td>\n",
       "      <td>0.0</td>\n",
       "    </tr>\n",
       "    <tr>\n",
       "      <th>50%</th>\n",
       "      <td>16.013025</td>\n",
       "      <td>3.508595</td>\n",
       "      <td>-1.758273</td>\n",
       "      <td>7.651842</td>\n",
       "      <td>0.165414</td>\n",
       "      <td>0.118581</td>\n",
       "      <td>0.030414</td>\n",
       "      <td>0.000000</td>\n",
       "      <td>0.000000</td>\n",
       "      <td>0.0</td>\n",
       "    </tr>\n",
       "    <tr>\n",
       "      <th>75%</th>\n",
       "      <td>22.126540</td>\n",
       "      <td>5.153414</td>\n",
       "      <td>-1.071793</td>\n",
       "      <td>13.305532</td>\n",
       "      <td>0.236608</td>\n",
       "      <td>0.194085</td>\n",
       "      <td>0.123359</td>\n",
       "      <td>0.053484</td>\n",
       "      <td>0.012823</td>\n",
       "      <td>0.0</td>\n",
       "    </tr>\n",
       "    <tr>\n",
       "      <th>max</th>\n",
       "      <td>42.877222</td>\n",
       "      <td>7.806637</td>\n",
       "      <td>0.084700</td>\n",
       "      <td>41.096747</td>\n",
       "      <td>0.609237</td>\n",
       "      <td>0.355036</td>\n",
       "      <td>0.337090</td>\n",
       "      <td>0.311218</td>\n",
       "      <td>0.208228</td>\n",
       "      <td>0.0</td>\n",
       "    </tr>\n",
       "  </tbody>\n",
       "</table>\n",
       "</div>"
      ],
      "text/plain": [
       "            dist  avg_slope_climbing  avg_slope_descending  max_slope  \\\n",
       "count  38.000000           38.000000             38.000000  38.000000   \n",
       "mean   17.742933            3.755112             -2.142580   9.183412   \n",
       "std     8.202298            2.061776              1.601431   7.457204   \n",
       "min     4.107682            0.000000             -6.990116   0.445997   \n",
       "25%    12.666105            2.083470             -3.090396   3.690490   \n",
       "50%    16.013025            3.508595             -1.758273   7.651842   \n",
       "75%    22.126540            5.153414             -1.071793  13.305532   \n",
       "max    42.877222            7.806637              0.084700  41.096747   \n",
       "\n",
       "       dist_climbing  dist_downhill  dist_6percent  dist_9percent  \\\n",
       "count      38.000000      38.000000      38.000000      38.000000   \n",
       "mean        0.159639       0.133419       0.068950       0.037324   \n",
       "std         0.135065       0.102490       0.088992       0.068361   \n",
       "min         0.000000       0.000000       0.000000       0.000000   \n",
       "25%         0.027660       0.043836       0.000000       0.000000   \n",
       "50%         0.165414       0.118581       0.030414       0.000000   \n",
       "75%         0.236608       0.194085       0.123359       0.053484   \n",
       "max         0.609237       0.355036       0.337090       0.311218   \n",
       "\n",
       "       dist_12percent  avg_speed  \n",
       "count       38.000000       38.0  \n",
       "mean         0.015799        0.0  \n",
       "std          0.038419        0.0  \n",
       "min          0.000000        0.0  \n",
       "25%          0.000000        0.0  \n",
       "50%          0.000000        0.0  \n",
       "75%          0.012823        0.0  \n",
       "max          0.208228        0.0  "
      ]
     },
     "execution_count": 71,
     "metadata": {},
     "output_type": "execute_result"
    }
   ],
   "source": [
    "td.describe()"
   ]
  },
  {
   "cell_type": "code",
   "execution_count": 67,
   "metadata": {
    "scrolled": false
   },
   "outputs": [
    {
     "name": "stdout",
     "output_type": "stream",
     "text": [
      "9 15 14\n",
      "(27,) (10,)\n"
     ]
    }
   ],
   "source": [
    "print(len(e_ids), len(m_ids), len(s_ids))\n",
    "\n",
    "# Split into train and test\n",
    "target_name = 'rating'\n",
    "# target = tdf[target_name]\n",
    "# data = tdf.drop([target_name], axis=1).copy()\n",
    "data = tdf.copy()\n",
    "target = ratings\n",
    "\n",
    "X_train, X_test, y_train, y_test = (\n",
    "    sklearn.model_selection.train_test_split(data, target, random_state=42)\n",
    ")\n",
    "print(y_train.shape, y_test.shape)"
   ]
  },
  {
   "cell_type": "code",
   "execution_count": 68,
   "metadata": {
    "scrolled": true
   },
   "outputs": [
    {
     "name": "stdout",
     "output_type": "stream",
     "text": [
      "AUROC: 0.8889;\n",
      "Precision: 1.0000;\n",
      "Recall: 0.7778\n",
      "Accuracy: 0.9259\n",
      "\n",
      "\n",
      "AUROC: 0.9000;\n",
      "Precision: 1.0000;\n",
      "Recall: 0.8000\n",
      "Accuracy: 0.9000\n",
      "\n",
      "\n",
      "          feature_names   scaling\n",
      "0                  dist  1.424185\n",
      "1  avg_slope_descending -0.851054\n",
      "2             max_slope  0.619111\n",
      "3         dist_6percent  0.469637\n",
      "4        dist_12percent  0.195181\n"
     ]
    }
   ],
   "source": [
    "# model = sklearn.linear_model.LogisticRegression(penalty='l1', solver='liblinear')\n",
    "model = sklearn.linear_model.LogisticRegression()\n",
    "cols = X_train.columns.tolist()\n",
    "cols.remove('avg_speed')\n",
    "cols.remove('dist_climbing')\n",
    "cols.remove('dist_downhill')\n",
    "cols.remove('avg_slope_climbing')\n",
    "cols.remove('dist_9percent')\n",
    "\n",
    "model.fit(X_train[cols], y_train)\n",
    "print('AUROC: {:.4f};\\nPrecision: {:.4f};\\nRecall: {:.4f}\\nAccuracy: {:.4f}\\n\\n'.format(\n",
    "    sklearn.metrics.roc_auc_score(y_train, model.predict(X_train[cols])),\n",
    "    sklearn.metrics.precision_score(y_train, model.predict(X_train[cols])),\n",
    "    sklearn.metrics.recall_score(y_train, model.predict(X_train[cols])),\n",
    "    sklearn.metrics.accuracy_score(y_train, model.predict(X_train[cols])),\n",
    "))\n",
    "print('AUROC: {:.4f};\\nPrecision: {:.4f};\\nRecall: {:.4f}\\nAccuracy: {:.4f}\\n\\n'.format(\n",
    "    sklearn.metrics.roc_auc_score(y_test, model.predict(X_test[cols])),\n",
    "    sklearn.metrics.precision_score(y_test, model.predict(X_test[cols])),\n",
    "    sklearn.metrics.recall_score(y_test, model.predict(X_test[cols])),\n",
    "    sklearn.metrics.accuracy_score(y_test, model.predict(X_test[cols])),\n",
    "))\n",
    "# a = pd.DataFrame(model.coef_.T, columns=model.classes_, index=cols)\n",
    "# a[['easy', 'moderate', 'hard']]\n",
    "a = pd.DataFrame({'feature_names': cols, 'scaling': model.coef_.flatten()})\n",
    "print(a)\n",
    "\n",
    "\n",
    "feature_sc = model.coef_.flatten().tolist() + [0.]"
   ]
  },
  {
   "cell_type": "code",
   "execution_count": 48,
   "metadata": {},
   "outputs": [
    {
     "name": "stdout",
     "output_type": "stream",
     "text": [
      "1.4547590032536812\n"
     ]
    }
   ],
   "source": [
    "for i, row in a.iterrows():\n",
    "    print(row.scaling)\n",
    "    break"
   ]
  },
  {
   "cell_type": "code",
   "execution_count": 69,
   "metadata": {},
   "outputs": [],
   "source": [
    "a.to_feather(config.MODEL_PATH + 'feature_importance.feather')"
   ]
  },
  {
   "cell_type": "code",
   "execution_count": 14,
   "metadata": {},
   "outputs": [
    {
     "data": {
      "text/plain": [
       "[<matplotlib.lines.Line2D at 0x7f6e98dd78b0>]"
      ]
     },
     "execution_count": 14,
     "metadata": {},
     "output_type": "execute_result"
    },
    {
     "data": {
      "image/png": "[encoded data removed]",
      "text/plain": [
       "<Figure size 432x288 with 1 Axes>"
      ]
     },
     "metadata": {
      "needs_background": "light"
     },
     "output_type": "display_data"
    }
   ],
   "source": [
    "reducer = umap.UMAP().fit_transform(td)\n",
    "umapped = pd.DataFrame({'x': reducer[:, 0], 'y': reducer[:, 1]},\n",
    "                        index = td.index)\n",
    "\n",
    "mm_ids = m_ids.copy()\n",
    "mm_ids.remove('route_34334931')\n",
    "plt.plot(umapped.loc[e_ids].x, umapped.loc[e_ids].y, 'g.')\n",
    "plt.plot(umapped.loc[mm_ids].x, umapped.loc[mm_ids].y, 'b.')\n",
    "plt.plot(umapped.loc[s_ids].x, umapped.loc[s_ids].y, 'r.')"
   ]
  },
  {
   "cell_type": "code",
   "execution_count": 12,
   "metadata": {
    "scrolled": false
   },
   "outputs": [
    {
     "data": {
      "text/plain": [
       "[<matplotlib.lines.Line2D at 0x7f6e98a3ca30>]"
      ]
     },
     "execution_count": 12,
     "metadata": {},
     "output_type": "execute_result"
    },
    {
     "data": {
      "image/png": "[encoded data removed]",
      "text/plain": [
       "<Figure size 432x288 with 1 Axes>"
      ]
     },
     "metadata": {
      "needs_background": "light"
     },
     "output_type": "display_data"
    }
   ],
   "source": [
    "reducer = umap.UMAP().fit_transform(tdf)\n",
    "umapped = pd.DataFrame({'x': reducer[:, 0], 'y': reducer[:, 1]},\n",
    "                        index = tdf.index)\n",
    "\n",
    "mm_ids = m_ids.copy()\n",
    "mm_ids.remove('route_34334931')\n",
    "plt.plot(umapped.loc[e_ids].x, umapped.loc[e_ids].y, 'g.')\n",
    "plt.plot(umapped.loc[mm_ids].x, umapped.loc[mm_ids].y, 'b.')\n",
    "plt.plot(umapped.loc[s_ids].x, umapped.loc[s_ids].y, 'r.')\n"
   ]
  },
  {
   "cell_type": "code",
   "execution_count": 31,
   "metadata": {},
   "outputs": [
    {
     "data": {
      "text/plain": [
       "[<matplotlib.lines.Line2D at 0x7f6e8fbdd250>]"
      ]
     },
     "execution_count": 31,
     "metadata": {},
     "output_type": "execute_result"
    },
    {
     "data": {
      "image/png": "[encoded data removed]",
      "text/plain": [
       "<Figure size 432x288 with 1 Axes>"
      ]
     },
     "metadata": {
      "needs_background": "light"
     },
     "output_type": "display_data"
    }
   ],
   "source": [
    "reducer = umap.UMAP().fit_transform(tdf * feature_sc)\n",
    "umapped = pd.DataFrame({'x': reducer[:, 0], 'y': reducer[:, 1]},\n",
    "                        index = tdf.index)\n",
    "\n",
    "mm_ids = m_ids.copy()\n",
    "mm_ids.remove('route_34334931')\n",
    "plt.plot(umapped.loc[e_ids].x, umapped.loc[e_ids].y, 'g.')\n",
    "plt.plot(umapped.loc[mm_ids].x, umapped.loc[mm_ids].y, 'b.')\n",
    "plt.plot(umapped.loc[s_ids].x, umapped.loc[s_ids].y, 'r.')"
   ]
  }
 ],
 "metadata": {
  "kernelspec": {
   "display_name": "Python 3",
   "language": "python",
   "name": "python3"
  },
  "language_info": {
   "codemirror_mode": {
    "name": "ipython",
    "version": 3
   },
   "file_extension": ".py",
   "mimetype": "text/x-python",
   "name": "python",
   "nbconvert_exporter": "python",
   "pygments_lexer": "ipython3",
   "version": "3.8.5"
  }
 },
 "nbformat": 4,
 "nbformat_minor": 4
}
